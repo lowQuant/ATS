{
 "cells": [
  {
   "cell_type": "code",
   "execution_count": 1,
   "metadata": {},
   "outputs": [
    {
     "name": "stdout",
     "output_type": "stream",
     "text": [
      "Creating library 'pnl' that will keep track of strategy & account PnL\n"
     ]
    }
   ],
   "source": [
    "import datetime\n",
    "from ib_insync import *\n",
    "import pandas as pd\n",
    "from arcticdb import Arctic, QueryBuilder, LibraryOptions\n",
    "\n",
    "import sys\n",
    "from pathlib import Path\n",
    "\n",
    "# Get the parent directory of the current notebook's directory\n",
    "project_root = Path.cwd().parent\n",
    "\n",
    "# Add the project root to the system path\n",
    "if str(project_root) not in sys.path:\n",
    "    sys.path.append(str(project_root))\n",
    "\n",
    "try:\n",
    "    from strategy_manager.strategies.short_vix import Strategy\n",
    "    from broker.connection import connect_to_IB\n",
    "    from broker.trademanager import TradeManager\n",
    "    from broker.portfolio import PortfolioManager\n",
    "    from data_and_research import ac, initialize_db\n",
    "except:\n",
    "    from strategy_manager.strategies.short_vix import Strategy\n",
    "    from broker.connection import connect_to_IB\n",
    "    from broker.trademanager import TradeManager\n",
    "    from broker.portfolio import PortfolioManager\n",
    "    from data_and_research import ac, initialize_db"
   ]
  },
  {
   "cell_type": "code",
   "execution_count": 24,
   "metadata": {},
   "outputs": [],
   "source": [
    "ac.delete_library('pnl')"
   ]
  },
  {
   "cell_type": "code",
   "execution_count": 17,
   "metadata": {},
   "outputs": [
    {
     "name": "stdout",
     "output_type": "stream",
     "text": [
      "Creating library 'pnl' that will keep track of strategy & account PnL\n"
     ]
    },
    {
     "data": {
      "text/plain": [
       "Arctic(config=S3(endpoint=s3.eu-central-1.amazonaws.com, bucket=lowquant-arcticdb))"
      ]
     },
     "execution_count": 17,
     "metadata": {},
     "output_type": "execute_result"
    }
   ],
   "source": [
    "ib = connect_to_IB(clientid=2)"
   ]
  },
  {
   "cell_type": "code",
   "execution_count": 25,
   "metadata": {},
   "outputs": [
    {
     "name": "stdout",
     "output_type": "stream",
     "text": [
      "Creating library 'pnl' that will keep track of strategy & account PnL\n"
     ]
    },
    {
     "data": {
      "text/plain": [
       "Arctic(config=S3(endpoint=s3.eu-central-1.amazonaws.com, bucket=lowquant-arcticdb))"
      ]
     },
     "execution_count": 25,
     "metadata": {},
     "output_type": "execute_result"
    }
   ],
   "source": [
    "ac = initialize_db('db')\n",
    "ac"
   ]
  },
  {
   "cell_type": "code",
   "execution_count": 26,
   "metadata": {},
   "outputs": [],
   "source": [
    "pnl_lib = ac.get_library('pnl')\n"
   ]
  },
  {
   "cell_type": "code",
   "execution_count": 27,
   "metadata": {},
   "outputs": [
    {
     "data": {
      "text/plain": [
       "105213.53"
      ]
     },
     "execution_count": 27,
     "metadata": {},
     "output_type": "execute_result"
    }
   ],
   "source": [
    "total_equity =  sum(float(entry.value) for entry in ib.accountSummary() if entry.tag == \"EquityWithLoanValue\")\n",
    "total_equity"
   ]
  },
  {
   "cell_type": "code",
   "execution_count": 35,
   "metadata": {},
   "outputs": [],
   "source": [
    "def get_total_equity(ib_client):\n",
    "    \"\"\"Fetches the total equity value from the account summary.\"\"\"\n",
    "    total_equity = sum(float(entry.value) for entry in ib_client.accountSummary() if entry.tag == \"EquityWithLoanValue\")\n",
    "    return total_equity\n",
    "\n",
    "def save_pnl(ac, total_equity, account_id):\n",
    "    \"\"\"Saves the PnL (equity value) to the ArcticDB.\"\"\"\n",
    "    pnl_lib = ac.get_library('pnl')\n",
    "     # Truncate the current timestamp to an hourly granularity\n",
    "    current_time = datetime.datetime.now().replace(second=0, microsecond=0)\n",
    "    \n",
    "    pnl_data = {\n",
    "        'total_equity': total_equity,\n",
    "        'account_id': account_id\n",
    "    }\n",
    "    pnl_df = pd.DataFrame([pnl_data], index=[current_time])\n",
    "    try:\n",
    "        # Append the new data to the 'pnl' library, creating it if it doesn't exist\n",
    "        if 'pnl' in pnl_lib.list_symbols():\n",
    "            pnl_lib.append(account_id, pnl_df)\n",
    "        else:\n",
    "            pnl_lib.write(account_id, pnl_df)\n",
    "        print(f\"Equity value saved to 'pnl' library for account {account_id}\")\n",
    "    except Exception as e:\n",
    "        print(f\"Error saving equity value to 'pnl' library: {e}\")\n"
   ]
  },
  {
   "cell_type": "code",
   "execution_count": 36,
   "metadata": {},
   "outputs": [
    {
     "name": "stdout",
     "output_type": "stream",
     "text": [
      "Equity value saved to 'pnl' library for account U7706434\n"
     ]
    }
   ],
   "source": [
    "account_id = ib.managedAccounts()[0]  # Assuming you want the first managed account's ID\n",
    "total_equity = get_total_equity(ib)\n",
    "save_pnl(ac, total_equity, account_id)"
   ]
  },
  {
   "cell_type": "code",
   "execution_count": 37,
   "metadata": {},
   "outputs": [
    {
     "data": {
      "text/html": [
       "<div>\n",
       "<style scoped>\n",
       "    .dataframe tbody tr th:only-of-type {\n",
       "        vertical-align: middle;\n",
       "    }\n",
       "\n",
       "    .dataframe tbody tr th {\n",
       "        vertical-align: top;\n",
       "    }\n",
       "\n",
       "    .dataframe thead th {\n",
       "        text-align: right;\n",
       "    }\n",
       "</style>\n",
       "<table border=\"1\" class=\"dataframe\">\n",
       "  <thead>\n",
       "    <tr style=\"text-align: right;\">\n",
       "      <th></th>\n",
       "      <th>total_equity</th>\n",
       "      <th>account_id</th>\n",
       "    </tr>\n",
       "  </thead>\n",
       "  <tbody>\n",
       "    <tr>\n",
       "      <th>2024-03-26 15:00:00</th>\n",
       "      <td>105212.87</td>\n",
       "      <td>U7706434</td>\n",
       "    </tr>\n",
       "  </tbody>\n",
       "</table>\n",
       "</div>"
      ],
      "text/plain": [
       "                     total_equity account_id\n",
       "2024-03-26 15:00:00     105212.87   U7706434"
      ]
     },
     "execution_count": 37,
     "metadata": {},
     "output_type": "execute_result"
    }
   ],
   "source": [
    "pnl_data = pnl_lib.read(account_id).data\n",
    "pnl_data"
   ]
  },
  {
   "cell_type": "code",
   "execution_count": null,
   "metadata": {},
   "outputs": [],
   "source": []
  }
 ],
 "metadata": {
  "kernelspec": {
   "display_name": "Python 3.10.5 64-bit",
   "language": "python",
   "name": "python3"
  },
  "language_info": {
   "codemirror_mode": {
    "name": "ipython",
    "version": 3
   },
   "file_extension": ".py",
   "mimetype": "text/x-python",
   "name": "python",
   "nbconvert_exporter": "python",
   "pygments_lexer": "ipython3",
   "version": "3.10.5"
  },
  "orig_nbformat": 4,
  "vscode": {
   "interpreter": {
    "hash": "9b4d75ac280b6c7c3aa43866cb82dc88915409b55fec83a093dd0284cb58708e"
   }
  }
 },
 "nbformat": 4,
 "nbformat_minor": 2
}
