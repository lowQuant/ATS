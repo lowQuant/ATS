{
 "cells": [
  {
   "cell_type": "code",
   "execution_count": 1,
   "metadata": {},
   "outputs": [],
   "source": [
    "import datetime\n",
    "from ib_insync import *\n",
    "import pandas as pd\n",
    "\n",
    "import sys\n",
    "from pathlib import Path\n",
    "\n",
    "# Get the parent directory of the current notebook's directory\n",
    "project_root = Path.cwd().parent\n",
    "\n",
    "# Add the project root to the system path\n",
    "if str(project_root) not in sys.path:\n",
    "    sys.path.append(str(project_root))\n",
    "\n",
    "try:\n",
    "    from strategy_manager.strategies.short_vix import VRP\n",
    "    from broker.connection import connect_to_IB\n",
    "    from broker.trademanager import TradeManager\n",
    "    from broker.portfolio import PortfolioManager\n",
    "except:\n",
    "    from strategy_manager.strategies.short_vix import VRP\n",
    "    from broker.connection import connect_to_IB\n",
    "    from broker.trademanager import TradeManager\n",
    "    from broker.portfolio import PortfolioManager"
   ]
  },
  {
   "cell_type": "code",
   "execution_count": 2,
   "metadata": {},
   "outputs": [],
   "source": [
    "ib = connect_to_IB()"
   ]
  },
  {
   "cell_type": "markdown",
   "metadata": {},
   "source": [
    "# Develop a method to retrieve the current portfolio as dataframe and store it in arcticdb"
   ]
  },
  {
   "cell_type": "code",
   "execution_count": 3,
   "metadata": {},
   "outputs": [],
   "source": [
    "pm = PortfolioManager(ib)"
   ]
  },
  {
   "cell_type": "code",
   "execution_count": 4,
   "metadata": {},
   "outputs": [
    {
     "name": "stderr",
     "output_type": "stream",
     "text": [
      "/Users/johanneslange/Desktop/Pythonprojekte/IB-Multi-Strategy-ATS/broker/portfolio.py:56: FutureWarning: The behavior of DataFrame concatenation with empty or all-NA entries is deprecated. In a future version, this will no longer exclude empty or all-NA columns when determining the result dtypes. To retain the old behavior, exclude the relevant entries before the concat operation.\n",
      "  combined_df = pd.concat([portfolio_df, cash_df], ignore_index=True)\n"
     ]
    },
    {
     "data": {
      "text/html": [
       "<div>\n",
       "<style scoped>\n",
       "    .dataframe tbody tr th:only-of-type {\n",
       "        vertical-align: middle;\n",
       "    }\n",
       "\n",
       "    .dataframe tbody tr th {\n",
       "        vertical-align: top;\n",
       "    }\n",
       "\n",
       "    .dataframe thead th {\n",
       "        text-align: right;\n",
       "    }\n",
       "</style>\n",
       "<table border=\"1\" class=\"dataframe\">\n",
       "  <thead>\n",
       "    <tr style=\"text-align: right;\">\n",
       "      <th></th>\n",
       "      <th>symbol</th>\n",
       "      <th>contractType</th>\n",
       "      <th>position</th>\n",
       "      <th>marketPrice</th>\n",
       "      <th>marketValue</th>\n",
       "      <th>averageCost</th>\n",
       "      <th>unrealizedPNL</th>\n",
       "      <th>realizedPNL</th>\n",
       "      <th>conId</th>\n",
       "      <th>lastTradeDate</th>\n",
       "      <th>account</th>\n",
       "    </tr>\n",
       "  </thead>\n",
       "  <tbody>\n",
       "    <tr>\n",
       "      <th>0</th>\n",
       "      <td>EWT</td>\n",
       "      <td>OPT</td>\n",
       "      <td>-2.0000</td>\n",
       "      <td>1.441401</td>\n",
       "      <td>-288.2800</td>\n",
       "      <td>144.317150</td>\n",
       "      <td>0.35</td>\n",
       "      <td>0.0</td>\n",
       "      <td>514008709</td>\n",
       "      <td>20240119</td>\n",
       "      <td>U7706434</td>\n",
       "    </tr>\n",
       "    <tr>\n",
       "      <th>1</th>\n",
       "      <td>IAU</td>\n",
       "      <td>OPT</td>\n",
       "      <td>-1.0000</td>\n",
       "      <td>0.570311</td>\n",
       "      <td>-57.0300</td>\n",
       "      <td>63.007800</td>\n",
       "      <td>5.98</td>\n",
       "      <td>0.0</td>\n",
       "      <td>584813329</td>\n",
       "      <td>20240119</td>\n",
       "      <td>U7706434</td>\n",
       "    </tr>\n",
       "    <tr>\n",
       "      <th>2</th>\n",
       "      <td>IUSQ</td>\n",
       "      <td>STK</td>\n",
       "      <td>100.0000</td>\n",
       "      <td>68.239998</td>\n",
       "      <td>6824.0000</td>\n",
       "      <td>65.602785</td>\n",
       "      <td>263.72</td>\n",
       "      <td>0.0</td>\n",
       "      <td>239363241</td>\n",
       "      <td></td>\n",
       "      <td>U7706434</td>\n",
       "    </tr>\n",
       "    <tr>\n",
       "      <th>3</th>\n",
       "      <td>IWM</td>\n",
       "      <td>OPT</td>\n",
       "      <td>-1.0000</td>\n",
       "      <td>0.505823</td>\n",
       "      <td>-50.5800</td>\n",
       "      <td>105.627500</td>\n",
       "      <td>55.05</td>\n",
       "      <td>0.0</td>\n",
       "      <td>671118912</td>\n",
       "      <td>20231226</td>\n",
       "      <td>U7706434</td>\n",
       "    </tr>\n",
       "    <tr>\n",
       "      <th>4</th>\n",
       "      <td>MGC</td>\n",
       "      <td>FOP</td>\n",
       "      <td>-1.0000</td>\n",
       "      <td>0.496071</td>\n",
       "      <td>-4.9600</td>\n",
       "      <td>120.980000</td>\n",
       "      <td>116.02</td>\n",
       "      <td>0.0</td>\n",
       "      <td>657722358</td>\n",
       "      <td>20231226</td>\n",
       "      <td>U7706434</td>\n",
       "    </tr>\n",
       "    <tr>\n",
       "      <th>5</th>\n",
       "      <td>TLT</td>\n",
       "      <td>OPT</td>\n",
       "      <td>-2.0000</td>\n",
       "      <td>0.183240</td>\n",
       "      <td>-36.6500</td>\n",
       "      <td>38.318000</td>\n",
       "      <td>39.99</td>\n",
       "      <td>0.0</td>\n",
       "      <td>671127312</td>\n",
       "      <td>20231227</td>\n",
       "      <td>U7706434</td>\n",
       "    </tr>\n",
       "    <tr>\n",
       "      <th>6</th>\n",
       "      <td>TLT</td>\n",
       "      <td>OPT</td>\n",
       "      <td>-2.0000</td>\n",
       "      <td>0.127882</td>\n",
       "      <td>-25.5800</td>\n",
       "      <td>28.305600</td>\n",
       "      <td>31.03</td>\n",
       "      <td>0.0</td>\n",
       "      <td>629057662</td>\n",
       "      <td>20231229</td>\n",
       "      <td>U7706434</td>\n",
       "    </tr>\n",
       "    <tr>\n",
       "      <th>7</th>\n",
       "      <td>VXM</td>\n",
       "      <td>FUT</td>\n",
       "      <td>-1.0000</td>\n",
       "      <td>15.120000</td>\n",
       "      <td>-1512.0000</td>\n",
       "      <td>1569.525000</td>\n",
       "      <td>57.53</td>\n",
       "      <td>0.0</td>\n",
       "      <td>644107700</td>\n",
       "      <td>20240117</td>\n",
       "      <td>U7706434</td>\n",
       "    </tr>\n",
       "    <tr>\n",
       "      <th>8</th>\n",
       "      <td>XLU</td>\n",
       "      <td>OPT</td>\n",
       "      <td>-1.0000</td>\n",
       "      <td>0.334109</td>\n",
       "      <td>-33.4100</td>\n",
       "      <td>74.957700</td>\n",
       "      <td>41.55</td>\n",
       "      <td>0.0</td>\n",
       "      <td>667770698</td>\n",
       "      <td>20240105</td>\n",
       "      <td>U7706434</td>\n",
       "    </tr>\n",
       "    <tr>\n",
       "      <th>9</th>\n",
       "      <td>EUR</td>\n",
       "      <td>CASH</td>\n",
       "      <td>53070.6500</td>\n",
       "      <td>NaN</td>\n",
       "      <td>53070.6500</td>\n",
       "      <td>NaN</td>\n",
       "      <td>NaN</td>\n",
       "      <td>NaN</td>\n",
       "      <td>None</td>\n",
       "      <td>None</td>\n",
       "      <td>All</td>\n",
       "    </tr>\n",
       "    <tr>\n",
       "      <th>10</th>\n",
       "      <td>USD</td>\n",
       "      <td>CASH</td>\n",
       "      <td>44822.5500</td>\n",
       "      <td>NaN</td>\n",
       "      <td>44822.5500</td>\n",
       "      <td>NaN</td>\n",
       "      <td>NaN</td>\n",
       "      <td>NaN</td>\n",
       "      <td>None</td>\n",
       "      <td>None</td>\n",
       "      <td>All</td>\n",
       "    </tr>\n",
       "    <tr>\n",
       "      <th>11</th>\n",
       "      <td>BASE</td>\n",
       "      <td>CASH</td>\n",
       "      <td>93770.3231</td>\n",
       "      <td>NaN</td>\n",
       "      <td>93770.3231</td>\n",
       "      <td>NaN</td>\n",
       "      <td>NaN</td>\n",
       "      <td>NaN</td>\n",
       "      <td>None</td>\n",
       "      <td>None</td>\n",
       "      <td>All</td>\n",
       "    </tr>\n",
       "  </tbody>\n",
       "</table>\n",
       "</div>"
      ],
      "text/plain": [
       "   symbol contractType    position  marketPrice  marketValue  averageCost  \\\n",
       "0     EWT          OPT     -2.0000     1.441401    -288.2800   144.317150   \n",
       "1     IAU          OPT     -1.0000     0.570311     -57.0300    63.007800   \n",
       "2    IUSQ          STK    100.0000    68.239998    6824.0000    65.602785   \n",
       "3     IWM          OPT     -1.0000     0.505823     -50.5800   105.627500   \n",
       "4     MGC          FOP     -1.0000     0.496071      -4.9600   120.980000   \n",
       "5     TLT          OPT     -2.0000     0.183240     -36.6500    38.318000   \n",
       "6     TLT          OPT     -2.0000     0.127882     -25.5800    28.305600   \n",
       "7     VXM          FUT     -1.0000    15.120000   -1512.0000  1569.525000   \n",
       "8     XLU          OPT     -1.0000     0.334109     -33.4100    74.957700   \n",
       "9     EUR         CASH  53070.6500          NaN   53070.6500          NaN   \n",
       "10    USD         CASH  44822.5500          NaN   44822.5500          NaN   \n",
       "11   BASE         CASH  93770.3231          NaN   93770.3231          NaN   \n",
       "\n",
       "    unrealizedPNL  realizedPNL      conId lastTradeDate   account  \n",
       "0            0.35          0.0  514008709      20240119  U7706434  \n",
       "1            5.98          0.0  584813329      20240119  U7706434  \n",
       "2          263.72          0.0  239363241                U7706434  \n",
       "3           55.05          0.0  671118912      20231226  U7706434  \n",
       "4          116.02          0.0  657722358      20231226  U7706434  \n",
       "5           39.99          0.0  671127312      20231227  U7706434  \n",
       "6           31.03          0.0  629057662      20231229  U7706434  \n",
       "7           57.53          0.0  644107700      20240117  U7706434  \n",
       "8           41.55          0.0  667770698      20240105  U7706434  \n",
       "9             NaN          NaN       None          None       All  \n",
       "10            NaN          NaN       None          None       All  \n",
       "11            NaN          NaN       None          None       All  "
      ]
     },
     "execution_count": 4,
     "metadata": {},
     "output_type": "execute_result"
    }
   ],
   "source": [
    "pm.fetch_portfolio()"
   ]
  },
  {
   "cell_type": "code",
   "execution_count": 5,
   "metadata": {},
   "outputs": [
    {
     "data": {
      "text/html": [
       "<div>\n",
       "<style scoped>\n",
       "    .dataframe tbody tr th:only-of-type {\n",
       "        vertical-align: middle;\n",
       "    }\n",
       "\n",
       "    .dataframe tbody tr th {\n",
       "        vertical-align: top;\n",
       "    }\n",
       "\n",
       "    .dataframe thead th {\n",
       "        text-align: right;\n",
       "    }\n",
       "</style>\n",
       "<table border=\"1\" class=\"dataframe\">\n",
       "  <thead>\n",
       "    <tr style=\"text-align: right;\">\n",
       "      <th></th>\n",
       "      <th>symbol</th>\n",
       "      <th>contractType</th>\n",
       "      <th>position</th>\n",
       "      <th>marketPrice</th>\n",
       "      <th>marketValue</th>\n",
       "      <th>averageCost</th>\n",
       "      <th>unrealizedPNL</th>\n",
       "      <th>conId</th>\n",
       "      <th>lastTradeDate</th>\n",
       "      <th>account</th>\n",
       "    </tr>\n",
       "  </thead>\n",
       "  <tbody>\n",
       "    <tr>\n",
       "      <th>0</th>\n",
       "      <td>EWT</td>\n",
       "      <td>OPT</td>\n",
       "      <td>-2.0</td>\n",
       "      <td>1.441401</td>\n",
       "      <td>-288.28</td>\n",
       "      <td>144.317150</td>\n",
       "      <td>0.35</td>\n",
       "      <td>514008709</td>\n",
       "      <td>20240119</td>\n",
       "      <td>U7706434</td>\n",
       "    </tr>\n",
       "    <tr>\n",
       "      <th>1</th>\n",
       "      <td>IAU</td>\n",
       "      <td>OPT</td>\n",
       "      <td>-1.0</td>\n",
       "      <td>0.570311</td>\n",
       "      <td>-57.03</td>\n",
       "      <td>63.007800</td>\n",
       "      <td>5.98</td>\n",
       "      <td>584813329</td>\n",
       "      <td>20240119</td>\n",
       "      <td>U7706434</td>\n",
       "    </tr>\n",
       "    <tr>\n",
       "      <th>2</th>\n",
       "      <td>IUSQ</td>\n",
       "      <td>STK</td>\n",
       "      <td>100.0</td>\n",
       "      <td>68.239998</td>\n",
       "      <td>6824.00</td>\n",
       "      <td>65.602785</td>\n",
       "      <td>263.72</td>\n",
       "      <td>239363241</td>\n",
       "      <td></td>\n",
       "      <td>U7706434</td>\n",
       "    </tr>\n",
       "    <tr>\n",
       "      <th>3</th>\n",
       "      <td>IWM</td>\n",
       "      <td>OPT</td>\n",
       "      <td>-1.0</td>\n",
       "      <td>0.505823</td>\n",
       "      <td>-50.58</td>\n",
       "      <td>105.627500</td>\n",
       "      <td>55.05</td>\n",
       "      <td>671118912</td>\n",
       "      <td>20231226</td>\n",
       "      <td>U7706434</td>\n",
       "    </tr>\n",
       "    <tr>\n",
       "      <th>4</th>\n",
       "      <td>MGC</td>\n",
       "      <td>FOP</td>\n",
       "      <td>-1.0</td>\n",
       "      <td>0.496071</td>\n",
       "      <td>-4.96</td>\n",
       "      <td>120.980000</td>\n",
       "      <td>116.02</td>\n",
       "      <td>657722358</td>\n",
       "      <td>20231226</td>\n",
       "      <td>U7706434</td>\n",
       "    </tr>\n",
       "    <tr>\n",
       "      <th>5</th>\n",
       "      <td>TLT</td>\n",
       "      <td>OPT</td>\n",
       "      <td>-2.0</td>\n",
       "      <td>0.183240</td>\n",
       "      <td>-36.65</td>\n",
       "      <td>38.318000</td>\n",
       "      <td>39.99</td>\n",
       "      <td>671127312</td>\n",
       "      <td>20231227</td>\n",
       "      <td>U7706434</td>\n",
       "    </tr>\n",
       "    <tr>\n",
       "      <th>6</th>\n",
       "      <td>TLT</td>\n",
       "      <td>OPT</td>\n",
       "      <td>-2.0</td>\n",
       "      <td>0.127882</td>\n",
       "      <td>-25.58</td>\n",
       "      <td>28.305600</td>\n",
       "      <td>31.03</td>\n",
       "      <td>629057662</td>\n",
       "      <td>20231229</td>\n",
       "      <td>U7706434</td>\n",
       "    </tr>\n",
       "    <tr>\n",
       "      <th>7</th>\n",
       "      <td>VXM</td>\n",
       "      <td>FUT</td>\n",
       "      <td>-1.0</td>\n",
       "      <td>15.120000</td>\n",
       "      <td>-1512.00</td>\n",
       "      <td>1569.525000</td>\n",
       "      <td>57.53</td>\n",
       "      <td>644107700</td>\n",
       "      <td>20240117</td>\n",
       "      <td>U7706434</td>\n",
       "    </tr>\n",
       "    <tr>\n",
       "      <th>8</th>\n",
       "      <td>XLU</td>\n",
       "      <td>OPT</td>\n",
       "      <td>-1.0</td>\n",
       "      <td>0.334109</td>\n",
       "      <td>-33.41</td>\n",
       "      <td>74.957700</td>\n",
       "      <td>41.55</td>\n",
       "      <td>667770698</td>\n",
       "      <td>20240105</td>\n",
       "      <td>U7706434</td>\n",
       "    </tr>\n",
       "  </tbody>\n",
       "</table>\n",
       "</div>"
      ],
      "text/plain": [
       "  symbol contractType  position  marketPrice  marketValue  averageCost  \\\n",
       "0    EWT          OPT      -2.0     1.441401      -288.28   144.317150   \n",
       "1    IAU          OPT      -1.0     0.570311       -57.03    63.007800   \n",
       "2   IUSQ          STK     100.0    68.239998      6824.00    65.602785   \n",
       "3    IWM          OPT      -1.0     0.505823       -50.58   105.627500   \n",
       "4    MGC          FOP      -1.0     0.496071        -4.96   120.980000   \n",
       "5    TLT          OPT      -2.0     0.183240       -36.65    38.318000   \n",
       "6    TLT          OPT      -2.0     0.127882       -25.58    28.305600   \n",
       "7    VXM          FUT      -1.0    15.120000     -1512.00  1569.525000   \n",
       "8    XLU          OPT      -1.0     0.334109       -33.41    74.957700   \n",
       "\n",
       "   unrealizedPNL      conId lastTradeDate   account  \n",
       "0           0.35  514008709      20240119  U7706434  \n",
       "1           5.98  584813329      20240119  U7706434  \n",
       "2         263.72  239363241                U7706434  \n",
       "3          55.05  671118912      20231226  U7706434  \n",
       "4         116.02  657722358      20231226  U7706434  \n",
       "5          39.99  671127312      20231227  U7706434  \n",
       "6          31.03  629057662      20231229  U7706434  \n",
       "7          57.53  644107700      20240117  U7706434  \n",
       "8          41.55  667770698      20240105  U7706434  "
      ]
     },
     "execution_count": 5,
     "metadata": {},
     "output_type": "execute_result"
    }
   ],
   "source": [
    "positions = [\n",
    "    {  \n",
    "        \"symbol\": item.contract.symbol,\n",
    "        \"contractType\": item.contract.secType,\n",
    "        \"position\": item.position,\n",
    "        \"marketPrice\": item.marketPrice,\n",
    "        \"marketValue\": item.marketValue,\n",
    "        \"averageCost\": item.averageCost,\n",
    "        \"unrealizedPNL\": item.unrealizedPNL,\n",
    "        \"conId\": item.contract.conId,\n",
    "        \"lastTradeDate\": item.contract.lastTradeDateOrContractMonth,\n",
    "        \"account\": item.account\n",
    "    }\n",
    "    for item in ib.portfolio()\n",
    "]\n",
    "df = pd.DataFrame(positions)\n",
    "df"
   ]
  },
  {
   "cell_type": "code",
   "execution_count": 6,
   "metadata": {},
   "outputs": [
    {
     "data": {
      "text/html": [
       "<div>\n",
       "<style scoped>\n",
       "    .dataframe tbody tr th:only-of-type {\n",
       "        vertical-align: middle;\n",
       "    }\n",
       "\n",
       "    .dataframe tbody tr th {\n",
       "        vertical-align: top;\n",
       "    }\n",
       "\n",
       "    .dataframe thead th {\n",
       "        text-align: right;\n",
       "    }\n",
       "</style>\n",
       "<table border=\"1\" class=\"dataframe\">\n",
       "  <thead>\n",
       "    <tr style=\"text-align: right;\">\n",
       "      <th></th>\n",
       "      <th>symbol</th>\n",
       "      <th>contractType</th>\n",
       "      <th>position</th>\n",
       "      <th>marketPrice</th>\n",
       "      <th>marketValue</th>\n",
       "      <th>averageCost</th>\n",
       "      <th>unrealizedPNL</th>\n",
       "      <th>realizedPNL</th>\n",
       "      <th>conId</th>\n",
       "      <th>lastTradeDate</th>\n",
       "      <th>account</th>\n",
       "    </tr>\n",
       "  </thead>\n",
       "  <tbody>\n",
       "    <tr>\n",
       "      <th>0</th>\n",
       "      <td>EUR</td>\n",
       "      <td>CASH</td>\n",
       "      <td>53070.6500</td>\n",
       "      <td>None</td>\n",
       "      <td>53070.6500</td>\n",
       "      <td>None</td>\n",
       "      <td>None</td>\n",
       "      <td>None</td>\n",
       "      <td>None</td>\n",
       "      <td>None</td>\n",
       "      <td>All</td>\n",
       "    </tr>\n",
       "    <tr>\n",
       "      <th>1</th>\n",
       "      <td>USD</td>\n",
       "      <td>CASH</td>\n",
       "      <td>44822.5500</td>\n",
       "      <td>None</td>\n",
       "      <td>44822.5500</td>\n",
       "      <td>None</td>\n",
       "      <td>None</td>\n",
       "      <td>None</td>\n",
       "      <td>None</td>\n",
       "      <td>None</td>\n",
       "      <td>All</td>\n",
       "    </tr>\n",
       "    <tr>\n",
       "      <th>2</th>\n",
       "      <td>BASE</td>\n",
       "      <td>CASH</td>\n",
       "      <td>93770.3231</td>\n",
       "      <td>None</td>\n",
       "      <td>93770.3231</td>\n",
       "      <td>None</td>\n",
       "      <td>None</td>\n",
       "      <td>None</td>\n",
       "      <td>None</td>\n",
       "      <td>None</td>\n",
       "      <td>All</td>\n",
       "    </tr>\n",
       "  </tbody>\n",
       "</table>\n",
       "</div>"
      ],
      "text/plain": [
       "  symbol contractType    position marketPrice  marketValue averageCost  \\\n",
       "0    EUR         CASH  53070.6500        None   53070.6500        None   \n",
       "1    USD         CASH  44822.5500        None   44822.5500        None   \n",
       "2   BASE         CASH  93770.3231        None   93770.3231        None   \n",
       "\n",
       "  unrealizedPNL realizedPNL conId lastTradeDate account  \n",
       "0          None        None  None          None     All  \n",
       "1          None        None  None          None     All  \n",
       "2          None        None  None          None     All  "
      ]
     },
     "execution_count": 6,
     "metadata": {},
     "output_type": "execute_result"
    }
   ],
   "source": [
    "# Fetch cash positions\n",
    "# cash_positions = [item for item in ib.accountSummary() if item.tag == 'CashBalance']\n",
    "\n",
    "# Convert cash positions to a list of dictionaries\n",
    "cash_positions = [\n",
    "    {\n",
    "        \"symbol\": item.currency,\n",
    "        \"contractType\": \"CASH\",\n",
    "        \"position\": float(item.value),\n",
    "        \"marketPrice\": None,\n",
    "        \"marketValue\": float(item.value),\n",
    "        \"averageCost\": None,\n",
    "        \"unrealizedPNL\": None,\n",
    "        \"realizedPNL\": None,\n",
    "        \"conId\": None,\n",
    "        \"lastTradeDate\": None,\n",
    "        \"account\": item.account\n",
    "    }\n",
    "    for item in ib.accountSummary() if item.tag == 'CashBalance'\n",
    "]\n",
    "\n",
    "cash_df = pd.DataFrame(cash_positions)\n",
    "cash_df"
   ]
  },
  {
   "cell_type": "code",
   "execution_count": null,
   "metadata": {},
   "outputs": [],
   "source": []
  },
  {
   "cell_type": "code",
   "execution_count": 5,
   "metadata": {},
   "outputs": [],
   "source": [
    "cash_positions = [item for item in ib.accountSummary() if item.tag=='CashBalance' and item.currency != \"BASE\"]"
   ]
  },
  {
   "cell_type": "code",
   "execution_count": 6,
   "metadata": {},
   "outputs": [
    {
     "data": {
      "text/plain": [
       "[AccountValue(account='All', tag='CashBalance', value='53070.65', currency='EUR', modelCode=''),\n",
       " AccountValue(account='All', tag='CashBalance', value='44822.55', currency='USD', modelCode='')]"
      ]
     },
     "execution_count": 6,
     "metadata": {},
     "output_type": "execute_result"
    }
   ],
   "source": [
    "cash_positions"
   ]
  },
  {
   "cell_type": "code",
   "execution_count": 25,
   "metadata": {},
   "outputs": [
    {
     "data": {
      "text/html": [
       "<div>\n",
       "<style scoped>\n",
       "    .dataframe tbody tr th:only-of-type {\n",
       "        vertical-align: middle;\n",
       "    }\n",
       "\n",
       "    .dataframe tbody tr th {\n",
       "        vertical-align: top;\n",
       "    }\n",
       "\n",
       "    .dataframe thead th {\n",
       "        text-align: right;\n",
       "    }\n",
       "</style>\n",
       "<table border=\"1\" class=\"dataframe\">\n",
       "  <thead>\n",
       "    <tr style=\"text-align: right;\">\n",
       "      <th></th>\n",
       "      <th>symbol</th>\n",
       "      <th>contractType</th>\n",
       "      <th>position</th>\n",
       "      <th>marketPrice</th>\n",
       "      <th>marketValue</th>\n",
       "      <th>averageCost</th>\n",
       "      <th>unrealizedPNL</th>\n",
       "      <th>realizedPNL</th>\n",
       "      <th>conId</th>\n",
       "      <th>lastTradeDate</th>\n",
       "      <th>account</th>\n",
       "    </tr>\n",
       "  </thead>\n",
       "  <tbody>\n",
       "    <tr>\n",
       "      <th>0</th>\n",
       "      <td>EUR</td>\n",
       "      <td>CASH</td>\n",
       "      <td>53070.6500</td>\n",
       "      <td>None</td>\n",
       "      <td>53070.6500</td>\n",
       "      <td>None</td>\n",
       "      <td>None</td>\n",
       "      <td>None</td>\n",
       "      <td>None</td>\n",
       "      <td>None</td>\n",
       "      <td>All</td>\n",
       "    </tr>\n",
       "    <tr>\n",
       "      <th>1</th>\n",
       "      <td>USD</td>\n",
       "      <td>CASH</td>\n",
       "      <td>44822.5500</td>\n",
       "      <td>None</td>\n",
       "      <td>44822.5500</td>\n",
       "      <td>None</td>\n",
       "      <td>None</td>\n",
       "      <td>None</td>\n",
       "      <td>None</td>\n",
       "      <td>None</td>\n",
       "      <td>All</td>\n",
       "    </tr>\n",
       "    <tr>\n",
       "      <th>2</th>\n",
       "      <td>TOTAL_CASH</td>\n",
       "      <td>CASH</td>\n",
       "      <td>93770.3231</td>\n",
       "      <td>None</td>\n",
       "      <td>93770.3231</td>\n",
       "      <td>None</td>\n",
       "      <td>None</td>\n",
       "      <td>None</td>\n",
       "      <td>None</td>\n",
       "      <td>None</td>\n",
       "      <td>All</td>\n",
       "    </tr>\n",
       "  </tbody>\n",
       "</table>\n",
       "</div>"
      ],
      "text/plain": [
       "       symbol contractType    position marketPrice  marketValue averageCost  \\\n",
       "0         EUR         CASH  53070.6500        None   53070.6500        None   \n",
       "1         USD         CASH  44822.5500        None   44822.5500        None   \n",
       "2  TOTAL_CASH         CASH  93770.3231        None   93770.3231        None   \n",
       "\n",
       "  unrealizedPNL realizedPNL conId lastTradeDate account  \n",
       "0          None        None  None          None     All  \n",
       "1          None        None  None          None     All  \n",
       "2          None        None  None          None     All  "
      ]
     },
     "execution_count": 25,
     "metadata": {},
     "output_type": "execute_result"
    }
   ],
   "source": [
    "cash_positions = [item for item in ib.accountSummary() if item.tag == 'CashBalance' and item.currency != \"BASE\"]\n",
    "cash_data = [\n",
    "    {\n",
    "        \"symbol\": item.currency,\n",
    "        \"contractType\": \"CASH\",\n",
    "        \"position\": float(item.value),\n",
    "        \"marketPrice\": None,\n",
    "        \"marketValue\": float(item.value),\n",
    "        \"averageCost\": None,\n",
    "        \"unrealizedPNL\": None,\n",
    "        \"realizedPNL\": None,\n",
    "        \"conId\": None,\n",
    "        \"lastTradeDate\": None,\n",
    "        \"account\": item.account\n",
    "    }\n",
    "    for item in cash_positions\n",
    "]\n",
    "\n",
    "\n",
    "base = [{\"symbol\": \"TOTAL_CASH\",\n",
    "        \"contractType\": \"CASH\",\n",
    "        \"position\": float(item.value),\n",
    "        \"marketPrice\": None,\n",
    "        \"marketValue\": float(item.value),\n",
    "        \"averageCost\": None,\n",
    "        \"unrealizedPNL\": None,\n",
    "        \"realizedPNL\": None,\n",
    "        \"conId\": None,\n",
    "        \"lastTradeDate\": None,\n",
    "        \"account\": item.account} \n",
    "        for item in ib.accountSummary() if item.currency == \"BASE\" and item.tag == 'CashBalance']\n",
    "\n",
    "cash_data.append(base[0])\n",
    "\n",
    "cash_df = pd.DataFrame(cash_data)\n",
    "cash_df"
   ]
  },
  {
   "cell_type": "code",
   "execution_count": 20,
   "metadata": {},
   "outputs": [
    {
     "data": {
      "text/html": [
       "<div>\n",
       "<style scoped>\n",
       "    .dataframe tbody tr th:only-of-type {\n",
       "        vertical-align: middle;\n",
       "    }\n",
       "\n",
       "    .dataframe tbody tr th {\n",
       "        vertical-align: top;\n",
       "    }\n",
       "\n",
       "    .dataframe thead th {\n",
       "        text-align: right;\n",
       "    }\n",
       "</style>\n",
       "<table border=\"1\" class=\"dataframe\">\n",
       "  <thead>\n",
       "    <tr style=\"text-align: right;\">\n",
       "      <th></th>\n",
       "      <th>symbol</th>\n",
       "      <th>contractType</th>\n",
       "      <th>position</th>\n",
       "      <th>marketPrice</th>\n",
       "      <th>marketValue</th>\n",
       "      <th>averageCost</th>\n",
       "      <th>unrealizedPNL</th>\n",
       "      <th>realizedPNL</th>\n",
       "      <th>conId</th>\n",
       "      <th>lastTradeDate</th>\n",
       "      <th>account</th>\n",
       "    </tr>\n",
       "  </thead>\n",
       "  <tbody>\n",
       "    <tr>\n",
       "      <th>0</th>\n",
       "      <td>EUR</td>\n",
       "      <td>CASH</td>\n",
       "      <td>53070.65</td>\n",
       "      <td>None</td>\n",
       "      <td>53070.65</td>\n",
       "      <td>None</td>\n",
       "      <td>None</td>\n",
       "      <td>None</td>\n",
       "      <td>None</td>\n",
       "      <td>None</td>\n",
       "      <td>All</td>\n",
       "    </tr>\n",
       "    <tr>\n",
       "      <th>1</th>\n",
       "      <td>USD</td>\n",
       "      <td>CASH</td>\n",
       "      <td>44822.55</td>\n",
       "      <td>None</td>\n",
       "      <td>44822.55</td>\n",
       "      <td>None</td>\n",
       "      <td>None</td>\n",
       "      <td>None</td>\n",
       "      <td>None</td>\n",
       "      <td>None</td>\n",
       "      <td>All</td>\n",
       "    </tr>\n",
       "    <tr>\n",
       "      <th>2</th>\n",
       "      <td>EUR</td>\n",
       "      <td>CASH</td>\n",
       "      <td>53070.65</td>\n",
       "      <td>None</td>\n",
       "      <td>53070.65</td>\n",
       "      <td>None</td>\n",
       "      <td>None</td>\n",
       "      <td>None</td>\n",
       "      <td>None</td>\n",
       "      <td>None</td>\n",
       "      <td>All</td>\n",
       "    </tr>\n",
       "  </tbody>\n",
       "</table>\n",
       "</div>"
      ],
      "text/plain": [
       "  symbol contractType  position marketPrice  marketValue averageCost  \\\n",
       "0    EUR         CASH  53070.65        None     53070.65        None   \n",
       "1    USD         CASH  44822.55        None     44822.55        None   \n",
       "2    EUR         CASH  53070.65        None     53070.65        None   \n",
       "\n",
       "  unrealizedPNL realizedPNL conId lastTradeDate account  \n",
       "0          None        None  None          None     All  \n",
       "1          None        None  None          None     All  \n",
       "2          None        None  None          None     All  "
      ]
     },
     "execution_count": 20,
     "metadata": {},
     "output_type": "execute_result"
    }
   ],
   "source": [
    "cash_df"
   ]
  },
  {
   "cell_type": "code",
   "execution_count": 10,
   "metadata": {},
   "outputs": [
    {
     "name": "stdout",
     "output_type": "stream",
     "text": [
      "[*********************100%%**********************]  1 of 1 completed\n",
      "[*********************100%%**********************]  1 of 1 completed"
     ]
    },
    {
     "name": "stderr",
     "output_type": "stream",
     "text": [
      "/Users/johanneslange/Desktop/Pythonprojekte/IB-Multi-Strategy-ATS/strategy_manager/strategies/short_vix.py:57: SettingWithCopyWarning: \n",
      "A value is trying to be set on a copy of a slice from a DataFrame.\n",
      "Try using .loc[row_indexer,col_indexer] = value instead\n",
      "\n",
      "See the caveats in the documentation: https://pandas.pydata.org/pandas-docs/stable/user_guide/indexing.html#returning-a-view-versus-a-copy\n",
      "  spx_df['Realised Volatility'] = spx_df['Return'].rolling(21).std()*np.sqrt(252)*100\n",
      "Error 200, reqId 75: Es wurde keine Wertpapierdefinition zu der Anfrage gefunden, contract: Future(symbol='VXM', lastTradeDateOrContractMonth='202312')\n",
      "Unknown contract: Future(symbol='VXM', lastTradeDateOrContractMonth='202312')\n"
     ]
    },
    {
     "name": "stdout",
     "output_type": "stream",
     "text": [
      "\n",
      "Latest Volatility Risk Premium                   Close    Return  Realised Volatility    VIX       VRP\n",
      "Date                                                                   \n",
      "2023-12-18  4740.560059  0.004528             6.971769  12.56  7.348231\n",
      "2023-12-19  4768.370117  0.005866             7.059069  12.53  6.740931\n",
      "2023-12-20  4698.350098 -0.014684             9.043557  13.67  4.366442\n",
      "2023-12-21  4746.750000  0.010301             9.426038  13.65  3.923962\n",
      "2023-12-22  4754.629883  0.001660             9.401645  13.03  3.448356\n",
      "Current Spot Rate: 13.029999732971191\n",
      "[Future(conId=644107700, symbol='VXM', lastTradeDateOrContractMonth='20240117', multiplier='100', exchange='CFE', currency='USD', localSymbol='VXMF4', tradingClass='VXM')]: 15.1\n"
     ]
    },
    {
     "name": "stderr",
     "output_type": "stream",
     "text": [
      "Error 354, reqId 81: Dieses aufgerufene Marktdaten Packet haben Sie nicht abonniert.VXM MAR'24/TOP/ALL, contract: Future(conId=656210801, symbol='VXM', lastTradeDateOrContractMonth='20240320', multiplier='100', exchange='CFE', currency='USD', localSymbol='VXMH4', tradingClass='VXM')\n"
     ]
    },
    {
     "name": "stdout",
     "output_type": "stream",
     "text": [
      "[Future(conId=649526843, symbol='VXM', lastTradeDateOrContractMonth='20240214', multiplier='100', exchange='CFE', currency='USD', localSymbol='VXMG4', tradingClass='VXM')]: 16.3\n"
     ]
    },
    {
     "name": "stderr",
     "output_type": "stream",
     "text": [
      "Error 354, reqId 83: Dieses aufgerufene Marktdaten Packet haben Sie nicht abonniert.VXM APR'24/TOP/ALL, contract: Future(conId=661277712, symbol='VXM', lastTradeDateOrContractMonth='20240417', multiplier='100', exchange='CFE', currency='USD', localSymbol='VXMJ4', tradingClass='VXM')\n"
     ]
    },
    {
     "name": "stdout",
     "output_type": "stream",
     "text": [
      "[Future(conId=656210801, symbol='VXM', lastTradeDateOrContractMonth='20240320', multiplier='100', exchange='CFE', currency='USD', localSymbol='VXMH4', tradingClass='VXM')]: nan\n"
     ]
    },
    {
     "name": "stderr",
     "output_type": "stream",
     "text": [
      "Error 354, reqId 85: Dieses aufgerufene Marktdaten Packet haben Sie nicht abonniert.VXM MAY'24/TOP/ALL, contract: Future(conId=666994095, symbol='VXM', lastTradeDateOrContractMonth='20240522', multiplier='100', exchange='CFE', currency='USD', localSymbol='VXMK4', tradingClass='VXM')\n"
     ]
    },
    {
     "name": "stdout",
     "output_type": "stream",
     "text": [
      "[Future(conId=661277712, symbol='VXM', lastTradeDateOrContractMonth='20240417', multiplier='100', exchange='CFE', currency='USD', localSymbol='VXMJ4', tradingClass='VXM')]: nan\n"
     ]
    },
    {
     "name": "stderr",
     "output_type": "stream",
     "text": [
      "Error 354, reqId 87: Dieses aufgerufene Marktdaten Packet haben Sie nicht abonniert.VXM JUN'24/TOP/ALL, contract: Future(conId=674402981, symbol='VXM', lastTradeDateOrContractMonth='20240618', multiplier='100', exchange='CFE', currency='USD', localSymbol='VXMM4', tradingClass='VXM')\n"
     ]
    },
    {
     "name": "stdout",
     "output_type": "stream",
     "text": [
      "[Future(conId=666994095, symbol='VXM', lastTradeDateOrContractMonth='20240522', multiplier='100', exchange='CFE', currency='USD', localSymbol='VXMK4', tradingClass='VXM')]: nan\n"
     ]
    },
    {
     "name": "stderr",
     "output_type": "stream",
     "text": [
      "Error 200, reqId 88: Es wurde keine Wertpapierdefinition zu der Anfrage gefunden, contract: Future(symbol='VXM', lastTradeDateOrContractMonth='202407')\n",
      "Unknown contract: Future(symbol='VXM', lastTradeDateOrContractMonth='202407')\n",
      "Error 200, reqId 89: Es wurde keine Wertpapierdefinition zu der Anfrage gefunden, contract: Future(symbol='VXM', lastTradeDateOrContractMonth='202408')\n",
      "Unknown contract: Future(symbol='VXM', lastTradeDateOrContractMonth='202408')\n"
     ]
    },
    {
     "name": "stdout",
     "output_type": "stream",
     "text": [
      "[Future(conId=674402981, symbol='VXM', lastTradeDateOrContractMonth='20240618', multiplier='100', exchange='CFE', currency='USD', localSymbol='VXMM4', tradingClass='VXM')]: nan\n"
     ]
    }
   ],
   "source": [
    "vrp = VRP(ib,TradeManager)"
   ]
  },
  {
   "cell_type": "code",
   "execution_count": 11,
   "metadata": {},
   "outputs": [
    {
     "data": {
      "text/plain": [
       "[Future(conId=649526843, symbol='VXM', lastTradeDateOrContractMonth='20240214', multiplier='100', exchange='CFE', currency='USD', localSymbol='VXMG4', tradingClass='VXM')]"
      ]
     },
     "execution_count": 11,
     "metadata": {},
     "output_type": "execute_result"
    }
   ],
   "source": [
    "cc = Future(localSymbol=\"VXMF4\")\n",
    "nc = Future(localSymbol=\"VXMG4\")\n",
    "ib.qualifyContracts(cc)\n",
    "ib.qualifyContracts(nc)"
   ]
  },
  {
   "cell_type": "code",
   "execution_count": 12,
   "metadata": {},
   "outputs": [
    {
     "data": {
      "text/plain": [
       "Trade(contract=Contract(secType='BAG', symbol='VXM', exchange='SMART', currency='USD', comboLegs=[ComboLeg(conId=644107700, ratio=1, action='BUY', exchange='CFE', openClose=0, shortSaleSlot=0, designatedLocation='', exemptCode=-1), ComboLeg(conId=649526843, ratio=1, action='SELL', exchange='CFE', openClose=0, shortSaleSlot=0, designatedLocation='', exemptCode=-1)]), order=MarketOrder(orderId=94, action='BUY', totalQuantity=1.0, orderRef='test2'), orderStatus=OrderStatus(orderId=94, status='PendingSubmit', filled=0.0, remaining=0.0, avgFillPrice=0.0, permId=0, parentId=0, lastFillPrice=0.0, clientId=0, whyHeld='', mktCapPrice=0.0), fills=[], log=[TradeLogEntry(time=datetime.datetime(2023, 12, 23, 23, 14, 59, 387932, tzinfo=datetime.timezone.utc), status='PendingSubmit', message='', errorCode=0)], advancedError='')"
      ]
     },
     "execution_count": 12,
     "metadata": {},
     "output_type": "execute_result"
    }
   ],
   "source": [
    "vrp.TradeManager.roll_future(vrp,cc,nc,\"test2\")"
   ]
  },
  {
   "cell_type": "code",
   "execution_count": 3,
   "metadata": {},
   "outputs": [
    {
     "data": {
      "text/plain": [
       "[Future(conId=649526843, symbol='VXM', lastTradeDateOrContractMonth='20240214', multiplier='100', exchange='CFE', currency='USD', localSymbol='VXMG4', tradingClass='VXM')]"
      ]
     },
     "execution_count": 3,
     "metadata": {},
     "output_type": "execute_result"
    }
   ],
   "source": []
  },
  {
   "cell_type": "code",
   "execution_count": 12,
   "metadata": {},
   "outputs": [],
   "source": [
    "next_f = ib.reqMktData(nc)"
   ]
  },
  {
   "cell_type": "code",
   "execution_count": 13,
   "metadata": {},
   "outputs": [
    {
     "data": {
      "text/plain": [
       "Ticker(contract=Future(conId=649526843, symbol='VXM', lastTradeDateOrContractMonth='20240214', multiplier='100', exchange='CFE', currency='USD', localSymbol='VXMG4', tradingClass='VXM'), time=datetime.datetime(2023, 12, 23, 22, 42, 28, 671695, tzinfo=datetime.timezone.utc), marketDataType=4, minTick=0.01, bid=16.29, bidSize=2.0, ask=16.3, askSize=6.0, last=16.3, lastSize=1.0, volume=895.0, high=16.73, low=16.3, close=16.52, ticks=[TickData(time=datetime.datetime(2023, 12, 23, 22, 42, 28, 671695, tzinfo=datetime.timezone.utc), tickType=68, price=16.3, size=1.0), TickData(time=datetime.datetime(2023, 12, 23, 22, 42, 28, 671695, tzinfo=datetime.timezone.utc), tickType=72, price=16.73, size=0.0), TickData(time=datetime.datetime(2023, 12, 23, 22, 42, 28, 671695, tzinfo=datetime.timezone.utc), tickType=73, price=16.3, size=0.0), TickData(time=datetime.datetime(2023, 12, 23, 22, 42, 28, 671695, tzinfo=datetime.timezone.utc), tickType=74, price=-1.0, size=895.0), TickData(time=datetime.datetime(2023, 12, 23, 22, 42, 28, 671695, tzinfo=datetime.timezone.utc), tickType=75, price=16.52, size=0.0)])"
      ]
     },
     "execution_count": 13,
     "metadata": {},
     "output_type": "execute_result"
    }
   ],
   "source": [
    "next_f"
   ]
  },
  {
   "cell_type": "code",
   "execution_count": 27,
   "metadata": {},
   "outputs": [],
   "source": [
    "def roll_future(self, current_contract, new_contract, orderRef=\"\"):\n",
    "    # Qualify contracts\n",
    "    self.ib.qualifyContracts(current_contract,new_contract)\n",
    "    ib.sleep(1)\n",
    "    print(new_contract)\n",
    "    # Define quantity based on current position\n",
    "    quantity = [pos.position for pos in self.ib.portfolio() if pos.contract.localSymbol==current_contract.localSymbol][0]\n",
    "\n",
    "    # Define the combination contract (bag)\n",
    "    bag = Contract(symbol=current_contract.symbol, secType='BAG', exchange='SMART', currency=current_contract.currency)\n",
    "    bag.comboLegs = [\n",
    "        ComboLeg(conId=current_contract.conId, ratio=1, action=\"SELL\" if quantity > 0 else \"BUY\",exchange='CFE'),  # Exiting the current contract\n",
    "        ComboLeg(conId=new_contract.conId, ratio=1, action=\"BUY\" if quantity > 0 else \"SELL\",exchange='CFE')        # Entering the new contract\n",
    "    ]\n",
    "\n",
    "    # Create the order - here we use a Market order as an example\n",
    "    order = MarketOrder('BUY', abs(quantity))\n",
    "    order.orderRef = orderRef\n",
    "\n",
    "    # Place the order\n",
    "    trade = self.ib.placeOrder(bag, order)\n",
    "    return trade"
   ]
  },
  {
   "cell_type": "code",
   "execution_count": 28,
   "metadata": {},
   "outputs": [
    {
     "name": "stdout",
     "output_type": "stream",
     "text": [
      "Future(conId=649526843, symbol='VXM', lastTradeDateOrContractMonth='20240214', multiplier='100', exchange='CFE', currency='USD', localSymbol='VXMG4', tradingClass='VXM')\n"
     ]
    },
    {
     "data": {
      "text/plain": [
       "Trade(contract=Contract(secType='BAG', symbol='VXM', exchange='SMART', currency='USD', comboLegs=[ComboLeg(conId=644107700, ratio=1, action='BUY', exchange='CFE', openClose=0, shortSaleSlot=0, designatedLocation='', exemptCode=-1), ComboLeg(conId=649526843, ratio=1, action='SELL', exchange='CFE', openClose=0, shortSaleSlot=0, designatedLocation='', exemptCode=-1)]), order=MarketOrder(orderId=48, action='BUY', totalQuantity=1.0, orderRef='test'), orderStatus=OrderStatus(orderId=48, status='PendingSubmit', filled=0.0, remaining=0.0, avgFillPrice=0.0, permId=0, parentId=0, lastFillPrice=0.0, clientId=0, whyHeld='', mktCapPrice=0.0), fills=[], log=[TradeLogEntry(time=datetime.datetime(2023, 12, 23, 23, 7, 4, 775502, tzinfo=datetime.timezone.utc), status='PendingSubmit', message='', errorCode=0)], advancedError='')"
      ]
     },
     "execution_count": 28,
     "metadata": {},
     "output_type": "execute_result"
    },
    {
     "name": "stderr",
     "output_type": "stream",
     "text": [
      "Error 161, reqId 48: Es wurde eine Stornierung versucht, die Order ist jedoch nicht in einem stornierbaren Zustand. Order permId =154751771\n",
      "Canceled order: Trade(contract=Contract(secType='BAG', symbol='VXM', exchange='SMART', currency='USD', comboLegs=[ComboLeg(conId=644107700, ratio=1, action='BUY', exchange='CFE', openClose=0, shortSaleSlot=0, designatedLocation='', exemptCode=-1), ComboLeg(conId=649526843, ratio=1, action='SELL', exchange='CFE', openClose=0, shortSaleSlot=0, designatedLocation='', exemptCode=-1)]), order=MarketOrder(orderId=48, permId=154751771, action='BUY', totalQuantity=1.0, lmtPrice=0.0, auxPrice=0.0, orderRef='test'), orderStatus=OrderStatus(orderId=48, status='Cancelled', filled=0.0, remaining=1.0, avgFillPrice=0.0, permId=154751771, parentId=0, lastFillPrice=0.0, clientId=0, whyHeld='', mktCapPrice=0.0), fills=[], log=[TradeLogEntry(time=datetime.datetime(2023, 12, 23, 23, 7, 4, 775502, tzinfo=datetime.timezone.utc), status='PendingSubmit', message='', errorCode=0), TradeLogEntry(time=datetime.datetime(2023, 12, 23, 23, 7, 5, 440103, tzinfo=datetime.timezone.utc), status='PreSubmitted', message='', errorCode=0), TradeLogEntry(time=datetime.datetime(2023, 12, 23, 23, 7, 42, 198120, tzinfo=datetime.timezone.utc), status='Cancelled', message='Error 161, reqId 48: Es wurde eine Stornierung versucht, die Order ist jedoch nicht in einem stornierbaren Zustand. Order permId =154751771', errorCode=161)], advancedError='')\n",
      "Error 161, reqId 48: Es wurde eine Stornierung versucht, die Order ist jedoch nicht in einem stornierbaren Zustand. Order permId =154751771\n",
      "Error 161, reqId 48: Es wurde eine Stornierung versucht, die Order ist jedoch nicht in einem stornierbaren Zustand. Order permId =154751771\n"
     ]
    }
   ],
   "source": [
    "roll_future(vrp,cc,nc,\"test\")"
   ]
  },
  {
   "cell_type": "code",
   "execution_count": null,
   "metadata": {},
   "outputs": [],
   "source": []
  },
  {
   "cell_type": "code",
   "execution_count": 24,
   "metadata": {},
   "outputs": [
    {
     "data": {
      "text/plain": [
       "[Future(conId=649526843, symbol='VXM', lastTradeDateOrContractMonth='20240214', multiplier='100', exchange='CFE', currency='USD', localSymbol='VXMG4', tradingClass='VXM')]"
      ]
     },
     "execution_count": 24,
     "metadata": {},
     "output_type": "execute_result"
    }
   ],
   "source": [
    "ib.qualifyContracts(Future(conId=\"649526843\"))"
   ]
  },
  {
   "cell_type": "code",
   "execution_count": null,
   "metadata": {},
   "outputs": [],
   "source": []
  }
 ],
 "metadata": {
  "kernelspec": {
   "display_name": "base",
   "language": "python",
   "name": "python3"
  },
  "language_info": {
   "codemirror_mode": {
    "name": "ipython",
    "version": 3
   },
   "file_extension": ".py",
   "mimetype": "text/x-python",
   "name": "python",
   "nbconvert_exporter": "python",
   "pygments_lexer": "ipython3",
   "version": "3.11.6"
  }
 },
 "nbformat": 4,
 "nbformat_minor": 2
}
