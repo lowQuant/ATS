{
 "cells": [
  {
   "cell_type": "code",
   "execution_count": 27,
   "metadata": {},
   "outputs": [],
   "source": [
    "# ac/utils.py\n",
    "import numpy as np\n",
    "import pandas as pd\n",
    "from datetime import datetime\n",
    "import importlib.util\n",
    "from pathlib import Path\n",
    "from arcticdb import Arctic, QueryBuilder\n",
    "\n",
    "def initialize_db(db_path):\n",
    "    global ac\n",
    "    ac_local = Arctic(f'lmdb://{db_path}?map_size=5MB')\n",
    "    \n",
    "    if not \"general\" in ac_local.list_libraries():\n",
    "        print(\"Creating library 'general' where *settings and *strategies will be stored\")\n",
    "        library = ac_local.get_library('general', create_if_missing=True)\n",
    "        index_values = ['port', \n",
    "                        's3_db_management', # False for local\n",
    "                        'aws_access_id', 'aws_access_key',\n",
    "                        'bucket_name','region',\n",
    "                        'start_tws','username','password']\n",
    "        \n",
    "        data = {'Value': [\"7497\", # default port\n",
    "                        \"False\", # defaul local\n",
    "                        \"\", \"\", # aws_access_id, key\n",
    "                        \"\", \"\", # bucket_name, region\n",
    "                        \"False\",\"\",\"\" # Start TWS Automatically default False\n",
    "                        ]}\n",
    "        df = pd.DataFrame(data, index=index_values)\n",
    "        library.write(symbol=\"settings\",data=df)\n",
    "        ac = ac_local\n",
    "        return ac\n",
    "    \n",
    "    else: # read local settings if settings table exists\n",
    "        library = ac_local.get_library('general', create_if_missing=True)\n",
    "        settings_df = library.read(\"settings\").data\n",
    "        \n",
    "        # if S3 is set, change ac from local to s3\n",
    "        if settings_df.loc[\"s3_db_management\",\"Value\"] == str(True):\n",
    "            region = settings_df.loc[\"region\",\"Value\"]\n",
    "            bucket_name = settings_df.loc[\"bucket_name\",\"Value\"]\n",
    "            id = settings_df.loc[\"aws_access_id\",\"Value\"]\n",
    "            key = settings_df.loc[\"aws_access_key\",\"Value\"]\n",
    "        \n",
    "            ac =Arctic(f's3://s3.{region}.amazonaws.com:{bucket_name}?region={region}&access={id}&secret={key}')\n",
    "\n",
    "            # check if \"settings\" exists in s3 ac\n",
    "            if not \"general\" in ac.list_libraries():\n",
    "                lib = ac.get_library('general', create_if_missing=True)\n",
    "                # copy settings from local ac\n",
    "                lib.write(\"settings\", settings_df)\n",
    "            elif not \"settings\" in ac.get_library('general', create_if_missing=True).list_symbols():\n",
    "                ac.get_library('general', create_if_missing=True).write(\"settings\", settings_df)\n",
    "        else:\n",
    "            ac = ac_local\n",
    "        return ac"
   ]
  },
  {
   "cell_type": "code",
   "execution_count": 16,
   "metadata": {},
   "outputs": [],
   "source": [
    "ac = Arctic(f'lmdb://db?map_size=5MB')\n",
    "lib = ac.get_library(\"general\")\n",
    "\n",
    "lib.delete(\"settings\")"
   ]
  },
  {
   "cell_type": "code",
   "execution_count": 28,
   "metadata": {},
   "outputs": [],
   "source": [
    "# ac = Arctic(f'lmdb://db?map_size=5MB')\n",
    "ac = initialize_db(\"db\")"
   ]
  },
  {
   "cell_type": "code",
   "execution_count": 19,
   "metadata": {},
   "outputs": [
    {
     "data": {
      "text/plain": [
       "['general', 'settings', 'spx500']"
      ]
     },
     "execution_count": 19,
     "metadata": {},
     "output_type": "execute_result"
    }
   ],
   "source": [
    "ac.list_libraries()"
   ]
  },
  {
   "cell_type": "code",
   "execution_count": 29,
   "metadata": {},
   "outputs": [],
   "source": [
    "lib = ac.get_library('general')"
   ]
  },
  {
   "cell_type": "code",
   "execution_count": 30,
   "metadata": {},
   "outputs": [
    {
     "data": {
      "text/plain": [
       "['strategies', 'settings']"
      ]
     },
     "execution_count": 30,
     "metadata": {},
     "output_type": "execute_result"
    }
   ],
   "source": [
    "lib.list_symbols()"
   ]
  },
  {
   "cell_type": "code",
   "execution_count": 31,
   "metadata": {},
   "outputs": [
    {
     "data": {
      "text/html": [
       "<div>\n",
       "<style scoped>\n",
       "    .dataframe tbody tr th:only-of-type {\n",
       "        vertical-align: middle;\n",
       "    }\n",
       "\n",
       "    .dataframe tbody tr th {\n",
       "        vertical-align: top;\n",
       "    }\n",
       "\n",
       "    .dataframe thead th {\n",
       "        text-align: right;\n",
       "    }\n",
       "</style>\n",
       "<table border=\"1\" class=\"dataframe\">\n",
       "  <thead>\n",
       "    <tr style=\"text-align: right;\">\n",
       "      <th></th>\n",
       "      <th>name</th>\n",
       "      <th>filename</th>\n",
       "      <th>description</th>\n",
       "      <th>target_weight</th>\n",
       "      <th>min_weight</th>\n",
       "      <th>max_weight</th>\n",
       "      <th>params</th>\n",
       "    </tr>\n",
       "  </thead>\n",
       "  <tbody>\n",
       "    <tr>\n",
       "      <th>SVIX</th>\n",
       "      <td>Short VIX Future</td>\n",
       "      <td>SVIX.py</td>\n",
       "      <td>If the Volatility Risk Premium is positive and...</td>\n",
       "      <td>0.05</td>\n",
       "      <td>0.02</td>\n",
       "      <td>0.08</td>\n",
       "      <td>{'target_weight': 0.05, 'min_weight': 0.02, 'm...</td>\n",
       "    </tr>\n",
       "    <tr>\n",
       "      <th>test1</th>\n",
       "      <td>test</td>\n",
       "      <td>test.py</td>\n",
       "      <td></td>\n",
       "      <td>1</td>\n",
       "      <td>1</td>\n",
       "      <td>1</td>\n",
       "      <td>[Errno 2] No such file or directory: '/Users/j...</td>\n",
       "    </tr>\n",
       "  </tbody>\n",
       "</table>\n",
       "</div>"
      ],
      "text/plain": [
       "                   name filename  \\\n",
       "SVIX   Short VIX Future  SVIX.py   \n",
       "test1              test  test.py   \n",
       "\n",
       "                                             description target_weight  \\\n",
       "SVIX   If the Volatility Risk Premium is positive and...          0.05   \n",
       "test1                                                                1   \n",
       "\n",
       "      min_weight max_weight                                             params  \n",
       "SVIX        0.02       0.08  {'target_weight': 0.05, 'min_weight': 0.02, 'm...  \n",
       "test1          1          1  [Errno 2] No such file or directory: '/Users/j...  "
      ]
     },
     "execution_count": 31,
     "metadata": {},
     "output_type": "execute_result"
    }
   ],
   "source": [
    "# lib.read('settings').data\n",
    "lib.list_symbols()\n",
    "lib.read('strategies').data"
   ]
  },
  {
   "cell_type": "code",
   "execution_count": 32,
   "metadata": {},
   "outputs": [],
   "source": [
    "df = lib.read('strategies').data"
   ]
  },
  {
   "cell_type": "code",
   "execution_count": 33,
   "metadata": {},
   "outputs": [],
   "source": [
    "df[\"active\"] = True"
   ]
  },
  {
   "cell_type": "code",
   "execution_count": 34,
   "metadata": {},
   "outputs": [
    {
     "data": {
      "text/plain": [
       "VersionedItem(symbol='strategies', library='general', data=n/a, version=4, metadata=None, host='S3(endpoint=s3.eu-central-1.amazonaws.com, bucket=lowquant-arcticdb)')"
      ]
     },
     "execution_count": 34,
     "metadata": {},
     "output_type": "execute_result"
    }
   ],
   "source": [
    "lib.write('strategies',df)"
   ]
  },
  {
   "cell_type": "code",
   "execution_count": 35,
   "metadata": {},
   "outputs": [],
   "source": [
    "df = lib.read('strategies').data"
   ]
  },
  {
   "cell_type": "code",
   "execution_count": 36,
   "metadata": {},
   "outputs": [
    {
     "data": {
      "text/html": [
       "<div>\n",
       "<style scoped>\n",
       "    .dataframe tbody tr th:only-of-type {\n",
       "        vertical-align: middle;\n",
       "    }\n",
       "\n",
       "    .dataframe tbody tr th {\n",
       "        vertical-align: top;\n",
       "    }\n",
       "\n",
       "    .dataframe thead th {\n",
       "        text-align: right;\n",
       "    }\n",
       "</style>\n",
       "<table border=\"1\" class=\"dataframe\">\n",
       "  <thead>\n",
       "    <tr style=\"text-align: right;\">\n",
       "      <th></th>\n",
       "      <th>name</th>\n",
       "      <th>filename</th>\n",
       "      <th>description</th>\n",
       "      <th>target_weight</th>\n",
       "      <th>min_weight</th>\n",
       "      <th>max_weight</th>\n",
       "      <th>params</th>\n",
       "      <th>active</th>\n",
       "    </tr>\n",
       "  </thead>\n",
       "  <tbody>\n",
       "    <tr>\n",
       "      <th>SVIX</th>\n",
       "      <td>Short VIX Future</td>\n",
       "      <td>SVIX.py</td>\n",
       "      <td>If the Volatility Risk Premium is positive and...</td>\n",
       "      <td>0.05</td>\n",
       "      <td>0.02</td>\n",
       "      <td>0.08</td>\n",
       "      <td>{'target_weight': 0.05, 'min_weight': 0.02, 'm...</td>\n",
       "      <td>True</td>\n",
       "    </tr>\n",
       "    <tr>\n",
       "      <th>test1</th>\n",
       "      <td>test</td>\n",
       "      <td>test.py</td>\n",
       "      <td></td>\n",
       "      <td>1</td>\n",
       "      <td>1</td>\n",
       "      <td>1</td>\n",
       "      <td>[Errno 2] No such file or directory: '/Users/j...</td>\n",
       "      <td>True</td>\n",
       "    </tr>\n",
       "  </tbody>\n",
       "</table>\n",
       "</div>"
      ],
      "text/plain": [
       "                   name filename  \\\n",
       "SVIX   Short VIX Future  SVIX.py   \n",
       "test1              test  test.py   \n",
       "\n",
       "                                             description target_weight  \\\n",
       "SVIX   If the Volatility Risk Premium is positive and...          0.05   \n",
       "test1                                                                1   \n",
       "\n",
       "      min_weight max_weight  \\\n",
       "SVIX        0.02       0.08   \n",
       "test1          1          1   \n",
       "\n",
       "                                                  params  active  \n",
       "SVIX   {'target_weight': 0.05, 'min_weight': 0.02, 'm...    True  \n",
       "test1  [Errno 2] No such file or directory: '/Users/j...    True  "
      ]
     },
     "execution_count": 36,
     "metadata": {},
     "output_type": "execute_result"
    }
   ],
   "source": [
    "df"
   ]
  },
  {
   "cell_type": "code",
   "execution_count": null,
   "metadata": {},
   "outputs": [],
   "source": []
  }
 ],
 "metadata": {
  "kernelspec": {
   "display_name": "Python 3.10.5 64-bit",
   "language": "python",
   "name": "python3"
  },
  "language_info": {
   "codemirror_mode": {
    "name": "ipython",
    "version": 3
   },
   "file_extension": ".py",
   "mimetype": "text/x-python",
   "name": "python",
   "nbconvert_exporter": "python",
   "pygments_lexer": "ipython3",
   "version": "3.11.6"
  },
  "orig_nbformat": 4,
  "vscode": {
   "interpreter": {
    "hash": "9b4d75ac280b6c7c3aa43866cb82dc88915409b55fec83a093dd0284cb58708e"
   }
  }
 },
 "nbformat": 4,
 "nbformat_minor": 2
}
