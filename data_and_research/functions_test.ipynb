{
 "cells": [
  {
   "cell_type": "code",
   "execution_count": 4,
   "metadata": {},
   "outputs": [],
   "source": [
    "# IB-MULTI-STRATEGY-ATS/broker/functions.py\n",
    "import numpy as np\n",
    "import pandas as pd\n",
    "import yfinance as yf\n",
    "from ib_insync import *\n",
    "# from gui.log import add_log\n",
    "import datetime\n",
    "\n",
    "util.startLoop()  # Needed in script mode\n",
    "ib = IB()\n",
    "try:\n",
    "    ib.connect('127.0.0.1', 7497, clientId=0)\n",
    "except ConnectionError:\n",
    "    print('Connection failed. Start TWS or IB Gateway and try again!')\n",
    "except:\n",
    "    ib.connect('127.0.0.1', 7497, clientId=1)\n"
   ]
  },
  {
   "cell_type": "code",
   "execution_count": 20,
   "metadata": {},
   "outputs": [],
   "source": [
    "future_symbol = \"ES\"\n",
    "index_symbol = \"SPX\""
   ]
  },
  {
   "cell_type": "code",
   "execution_count": 38,
   "metadata": {},
   "outputs": [
    {
     "name": "stderr",
     "output_type": "stream",
     "text": [
      "Error 200, reqId 284: No security definition has been found for the request, contract: Future(symbol='ES', lastTradeDateOrContractMonth='202312')\n",
      "Error 200, reqId 285: No security definition has been found for the request, contract: Future(symbol='ES', lastTradeDateOrContractMonth='202401')\n",
      "Error 200, reqId 286: No security definition has been found for the request, contract: Future(symbol='ES', lastTradeDateOrContractMonth='202402')\n",
      "Error 200, reqId 288: No security definition has been found for the request, contract: Future(symbol='ES', lastTradeDateOrContractMonth='202404')\n",
      "Error 200, reqId 289: No security definition has been found for the request, contract: Future(symbol='ES', lastTradeDateOrContractMonth='202405')\n",
      "Error 200, reqId 291: No security definition has been found for the request, contract: Future(symbol='ES', lastTradeDateOrContractMonth='202407')\n",
      "Error 200, reqId 292: No security definition has been found for the request, contract: Future(symbol='ES', lastTradeDateOrContractMonth='202408')\n",
      "Error 200, reqId 294: No security definition has been found for the request, contract: Future(symbol='ES', lastTradeDateOrContractMonth='202410')\n",
      "Error 200, reqId 295: No security definition has been found for the request, contract: Future(symbol='ES', lastTradeDateOrContractMonth='202411')\n",
      "Unknown contract: Future(symbol='ES', lastTradeDateOrContractMonth='202312')\n",
      "Unknown contract: Future(symbol='ES', lastTradeDateOrContractMonth='202401')\n",
      "Unknown contract: Future(symbol='ES', lastTradeDateOrContractMonth='202402')\n",
      "Ambiguous contract: Future(symbol='ES', lastTradeDateOrContractMonth='202403'), possibles are [Contract(secType='FUT', conId=533620665, symbol='ES', lastTradeDateOrContractMonth='20240315', multiplier='50', exchange='CME', currency='USD', localSymbol='ESH4', tradingClass='ES'), Contract(secType='FUT', conId=533620665, symbol='ES', lastTradeDateOrContractMonth='20240315', multiplier='50', exchange='QBALGO', currency='USD', localSymbol='ESH4', tradingClass='ES')]\n",
      "Unknown contract: Future(symbol='ES', lastTradeDateOrContractMonth='202404')\n",
      "Unknown contract: Future(symbol='ES', lastTradeDateOrContractMonth='202405')\n",
      "Ambiguous contract: Future(symbol='ES', lastTradeDateOrContractMonth='202406'), possibles are [Contract(secType='FUT', conId=551601561, symbol='ES', lastTradeDateOrContractMonth='20240621', multiplier='50', exchange='CME', currency='USD', localSymbol='ESM4', tradingClass='ES'), Contract(secType='FUT', conId=551601561, symbol='ES', lastTradeDateOrContractMonth='20240621', multiplier='50', exchange='QBALGO', currency='USD', localSymbol='ESM4', tradingClass='ES')]\n",
      "Unknown contract: Future(symbol='ES', lastTradeDateOrContractMonth='202407')\n",
      "Unknown contract: Future(symbol='ES', lastTradeDateOrContractMonth='202408')\n",
      "Ambiguous contract: Future(symbol='ES', lastTradeDateOrContractMonth='202409'), possibles are [Contract(secType='FUT', conId=568550526, symbol='ES', lastTradeDateOrContractMonth='20240920', multiplier='50', exchange='CME', currency='USD', localSymbol='ESU4', tradingClass='ES'), Contract(secType='FUT', conId=568550526, symbol='ES', lastTradeDateOrContractMonth='20240920', multiplier='50', exchange='QBALGO', currency='USD', localSymbol='ESU4', tradingClass='ES')]\n",
      "Unknown contract: Future(symbol='ES', lastTradeDateOrContractMonth='202410')\n",
      "Unknown contract: Future(symbol='ES', lastTradeDateOrContractMonth='202411')\n",
      "Error 200, reqId 298: No security definition has been found for the request, contract: Future(symbol='ES', lastTradeDateOrContractMonth='202312', exchange='CME')\n",
      "Error 200, reqId 299: No security definition has been found for the request, contract: Future(symbol='ES', lastTradeDateOrContractMonth='202401', exchange='CME')\n",
      "Error 200, reqId 300: No security definition has been found for the request, contract: Future(symbol='ES', lastTradeDateOrContractMonth='202402', exchange='CME')\n",
      "Error 200, reqId 302: No security definition has been found for the request, contract: Future(symbol='ES', lastTradeDateOrContractMonth='202404', exchange='CME')\n",
      "Error 200, reqId 303: No security definition has been found for the request, contract: Future(symbol='ES', lastTradeDateOrContractMonth='202405', exchange='CME')\n",
      "Error 200, reqId 305: No security definition has been found for the request, contract: Future(symbol='ES', lastTradeDateOrContractMonth='202407', exchange='CME')\n",
      "Error 200, reqId 306: No security definition has been found for the request, contract: Future(symbol='ES', lastTradeDateOrContractMonth='202408', exchange='CME')\n",
      "Error 200, reqId 308: No security definition has been found for the request, contract: Future(symbol='ES', lastTradeDateOrContractMonth='202410', exchange='CME')\n",
      "Error 200, reqId 309: No security definition has been found for the request, contract: Future(symbol='ES', lastTradeDateOrContractMonth='202411', exchange='CME')\n",
      "Unknown contract: Future(symbol='ES', lastTradeDateOrContractMonth='202312', exchange='CME')\n",
      "Unknown contract: Future(symbol='ES', lastTradeDateOrContractMonth='202401', exchange='CME')\n",
      "Unknown contract: Future(symbol='ES', lastTradeDateOrContractMonth='202402', exchange='CME')\n",
      "Unknown contract: Future(symbol='ES', lastTradeDateOrContractMonth='202404', exchange='CME')\n",
      "Unknown contract: Future(symbol='ES', lastTradeDateOrContractMonth='202405', exchange='CME')\n",
      "Unknown contract: Future(symbol='ES', lastTradeDateOrContractMonth='202407', exchange='CME')\n",
      "Unknown contract: Future(symbol='ES', lastTradeDateOrContractMonth='202408', exchange='CME')\n",
      "Unknown contract: Future(symbol='ES', lastTradeDateOrContractMonth='202410', exchange='CME')\n",
      "Unknown contract: Future(symbol='ES', lastTradeDateOrContractMonth='202411', exchange='CME')\n"
     ]
    }
   ],
   "source": [
    "today = datetime.datetime.now()\n",
    "\n",
    "# Generate contract months for the next 9 maturities\n",
    "monthly_expirations = [\n",
    "    f\"{today.year + (today.month + i - 1) // 12}{(today.month + i - 1) % 12 + 1:02}\" \n",
    "    for i in range(12)\n",
    "]\n",
    "\n",
    "# Create Future objects for each contract month\n",
    "contracts = [Future(future_symbol, lastTradeDateOrContractMonth=exp) for exp in monthly_expirations]\n",
    "qualified_contracts = ib.qualifyContracts(*contracts)\n",
    "ib.sleep(1)\n",
    "\n",
    "# Set market data type to delayed frozen data\n",
    "ib.reqMarketDataType(3)\n",
    "\n",
    "idx = Index(index_symbol)\n",
    "ib.qualifyContracts(idx)\n",
    "idx_details = ib.reqMktData(idx)\n",
    "ib.sleep(1)\n",
    "spot = idx_details.last\n",
    "\n",
    "futures_data = {\n",
    "    'Contract': [\"Index\"],\n",
    "    'LastPrice': [spot],\n",
    "    'DTE': [0],\n",
    "    'AnnualizedYield': [None]\n",
    "}\n",
    "\n",
    "if not qualified_contracts:\n",
    "    contracts = [Future(future_symbol, exchange=\"CME\" ,lastTradeDateOrContractMonth=exp) for exp in monthly_expirations]\n",
    "    qualified_contracts = ib.qualifyContracts(*contracts)"
   ]
  },
  {
   "cell_type": "code",
   "execution_count": 39,
   "metadata": {},
   "outputs": [],
   "source": [
    "qualified_contracts\n",
    "contract = qualified_contracts[0]"
   ]
  },
  {
   "cell_type": "code",
   "execution_count": 40,
   "metadata": {},
   "outputs": [],
   "source": [
    "market_data = ib.reqMktData(contract)\n",
    "ib.sleep(1)  # Wait for the data to be fetched\n",
    "last_price = market_data.last if market_data.last > 0 else market_data.bid\n",
    "\n",
    "expiration_date = datetime.datetime.strptime(contract.lastTradeDateOrContractMonth, '%Y%m%d')\n",
    "dte = (expiration_date - today).days\n",
    "annualized_yield = None\n",
    "\n",
    "if dte != 0:\n",
    "    annualized_yield = ((last_price / spot) ** (365 / dte) - 1) if last_price <= spot else ((spot / last_price) ** (365 / dte) - 1)\n",
    "\n",
    "futures_data['Contract'].append(contract.localSymbol)\n",
    "futures_data['LastPrice'].append(last_price)\n",
    "futures_data['DTE'].append(dte)\n",
    "futures_data['AnnualizedYield'].append(annualized_yield)\n",
    "\n",
    "# Convert the dictionary to DataFrame\n",
    "term_structure = pd.DataFrame(futures_data)"
   ]
  },
  {
   "cell_type": "code",
   "execution_count": 41,
   "metadata": {},
   "outputs": [
    {
     "data": {
      "text/html": [
       "<div>\n",
       "<style scoped>\n",
       "    .dataframe tbody tr th:only-of-type {\n",
       "        vertical-align: middle;\n",
       "    }\n",
       "\n",
       "    .dataframe tbody tr th {\n",
       "        vertical-align: top;\n",
       "    }\n",
       "\n",
       "    .dataframe thead th {\n",
       "        text-align: right;\n",
       "    }\n",
       "</style>\n",
       "<table border=\"1\" class=\"dataframe\">\n",
       "  <thead>\n",
       "    <tr style=\"text-align: right;\">\n",
       "      <th></th>\n",
       "      <th>Contract</th>\n",
       "      <th>LastPrice</th>\n",
       "      <th>DTE</th>\n",
       "      <th>AnnualizedYield</th>\n",
       "    </tr>\n",
       "  </thead>\n",
       "  <tbody>\n",
       "    <tr>\n",
       "      <th>0</th>\n",
       "      <td>Index</td>\n",
       "      <td>NaN</td>\n",
       "      <td>0</td>\n",
       "      <td>NaN</td>\n",
       "    </tr>\n",
       "    <tr>\n",
       "      <th>1</th>\n",
       "      <td>ESH4</td>\n",
       "      <td>NaN</td>\n",
       "      <td>77</td>\n",
       "      <td>NaN</td>\n",
       "    </tr>\n",
       "  </tbody>\n",
       "</table>\n",
       "</div>"
      ],
      "text/plain": [
       "  Contract  LastPrice  DTE  AnnualizedYield\n",
       "0    Index        NaN    0              NaN\n",
       "1     ESH4        NaN   77              NaN"
      ]
     },
     "execution_count": 41,
     "metadata": {},
     "output_type": "execute_result"
    },
    {
     "name": "stderr",
     "output_type": "stream",
     "text": [
      "Error 10197, reqId 283: No market data during competing live session, contract: Future(conId=533620665, symbol='ES', lastTradeDateOrContractMonth='20240315', multiplier='50', exchange='CME', currency='USD', localSymbol='ESH4', tradingClass='ES')\n",
      "Error 10197, reqId 243: No market data during competing live session, contract: Index(conId=416904, symbol='SPX', exchange='CBOE', currency='USD', localSymbol='SPX')\n",
      "Error 10197, reqId 270: No market data during competing live session, contract: Index(conId=416904, symbol='SPX', exchange='CBOE', currency='USD', localSymbol='SPX')\n",
      "Error 10197, reqId 188: No market data during competing live session, contract: Index(conId=13455763, symbol='VIX', exchange='CBOE', currency='USD', localSymbol='VIX')\n",
      "Error 10197, reqId 174: No market data during competing live session, contract: Future(conId=644107700, symbol='VXM', lastTradeDateOrContractMonth='20240117', multiplier='100', exchange='CFE', currency='USD', localSymbol='VXMF4', tradingClass='VXM')\n",
      "Error 10197, reqId 203: No market data during competing live session, contract: Index(conId=416904, symbol='SPX', exchange='CBOE', currency='USD', localSymbol='SPX')\n",
      "Error 10197, reqId 310: No market data during competing live session, contract: Future(conId=533620665, symbol='ES', lastTradeDateOrContractMonth='20240315', multiplier='50', exchange='CME', currency='USD', localSymbol='ESH4', tradingClass='ES')\n",
      "Error 10197, reqId 173: No market data during competing live session, contract: Index(conId=13455763, symbol='VIX', exchange='CBOE', currency='USD', localSymbol='VIX')\n",
      "Error 10197, reqId 189: No market data during competing live session, contract: Future(conId=644107700, symbol='VXM', lastTradeDateOrContractMonth='20240117', multiplier='100', exchange='CFE', currency='USD', localSymbol='VXMF4', tradingClass='VXM')\n",
      "Error 10197, reqId 217: No market data during competing live session, contract: Index(conId=416904, symbol='SPX', exchange='CBOE', currency='USD', localSymbol='SPX')\n",
      "Error 10197, reqId 256: No market data during competing live session, contract: Future(conId=644107700, symbol='VXM', lastTradeDateOrContractMonth='20240117', multiplier='100', exchange='CFE', currency='USD', localSymbol='VXMF4', tradingClass='VXM')\n",
      "Error 10197, reqId 297: No market data during competing live session, contract: Index(conId=416904, symbol='SPX', exchange='CBOE', currency='USD', localSymbol='SPX')\n",
      "Error 10197, reqId 159: No market data during competing live session, contract: Index(conId=13455763, symbol='VIX', exchange='CBOE', currency='USD', localSymbol='VIX')\n"
     ]
    }
   ],
   "source": [
    "term_structure"
   ]
  },
  {
   "cell_type": "code",
   "execution_count": null,
   "metadata": {},
   "outputs": [],
   "source": []
  }
 ],
 "metadata": {
  "kernelspec": {
   "display_name": "base",
   "language": "python",
   "name": "python3"
  },
  "language_info": {
   "codemirror_mode": {
    "name": "ipython",
    "version": 3
   },
   "file_extension": ".py",
   "mimetype": "text/x-python",
   "name": "python",
   "nbconvert_exporter": "python",
   "pygments_lexer": "ipython3",
   "version": "3.11.6"
  }
 },
 "nbformat": 4,
 "nbformat_minor": 2
}
