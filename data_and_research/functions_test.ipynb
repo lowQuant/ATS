{
 "cells": [
  {
   "cell_type": "code",
   "execution_count": 3,
   "metadata": {},
   "outputs": [],
   "source": [
    "# IB-MULTI-STRATEGY-ATS/broker/functions.py\n",
    "import numpy as np\n",
    "import pandas as pd\n",
    "import yfinance as yf\n",
    "from ib_insync import *\n",
    "# from gui.log import add_log\n",
    "import datetime\n",
    "\n",
    "util.startLoop()  # Needed in script mode\n",
    "ib = IB()\n",
    "try:\n",
    "    ib.connect('127.0.0.1', 7497, clientId=5)\n",
    "except ConnectionError:\n",
    "    print('Connection failed. Start TWS or IB Gateway and try again!')\n",
    "except:\n",
    "    ib.connect('127.0.0.1', 7497, clientId=1)\n"
   ]
  },
  {
   "cell_type": "code",
   "execution_count": 4,
   "metadata": {},
   "outputs": [],
   "source": [
    "future_symbol = \"ES\"\n",
    "index_symbol = \"SPX\""
   ]
  },
  {
   "cell_type": "code",
   "execution_count": 8,
   "metadata": {},
   "outputs": [
    {
     "name": "stderr",
     "output_type": "stream",
     "text": [
      "Error 200, reqId 29: No security definition has been found for the request, contract: Future(symbol='ES', lastTradeDateOrContractMonth='202401')\n",
      "Error 200, reqId 30: No security definition has been found for the request, contract: Future(symbol='ES', lastTradeDateOrContractMonth='202402')\n",
      "Error 200, reqId 32: No security definition has been found for the request, contract: Future(symbol='ES', lastTradeDateOrContractMonth='202404')\n",
      "Error 200, reqId 33: No security definition has been found for the request, contract: Future(symbol='ES', lastTradeDateOrContractMonth='202405')\n",
      "Error 200, reqId 35: No security definition has been found for the request, contract: Future(symbol='ES', lastTradeDateOrContractMonth='202407')\n",
      "Error 200, reqId 36: No security definition has been found for the request, contract: Future(symbol='ES', lastTradeDateOrContractMonth='202408')\n",
      "Error 200, reqId 38: No security definition has been found for the request, contract: Future(symbol='ES', lastTradeDateOrContractMonth='202410')\n",
      "Error 200, reqId 39: No security definition has been found for the request, contract: Future(symbol='ES', lastTradeDateOrContractMonth='202411')\n",
      "Unknown contract: Future(symbol='ES', lastTradeDateOrContractMonth='202401')\n",
      "Unknown contract: Future(symbol='ES', lastTradeDateOrContractMonth='202402')\n",
      "Ambiguous contract: Future(symbol='ES', lastTradeDateOrContractMonth='202403'), possibles are [Contract(secType='FUT', conId=533620665, symbol='ES', lastTradeDateOrContractMonth='20240315', multiplier='50', exchange='CME', currency='USD', localSymbol='ESH4', tradingClass='ES'), Contract(secType='FUT', conId=533620665, symbol='ES', lastTradeDateOrContractMonth='20240315', multiplier='50', exchange='QBALGO', currency='USD', localSymbol='ESH4', tradingClass='ES')]\n",
      "Unknown contract: Future(symbol='ES', lastTradeDateOrContractMonth='202404')\n",
      "Unknown contract: Future(symbol='ES', lastTradeDateOrContractMonth='202405')\n",
      "Ambiguous contract: Future(symbol='ES', lastTradeDateOrContractMonth='202406'), possibles are [Contract(secType='FUT', conId=551601561, symbol='ES', lastTradeDateOrContractMonth='20240621', multiplier='50', exchange='CME', currency='USD', localSymbol='ESM4', tradingClass='ES'), Contract(secType='FUT', conId=551601561, symbol='ES', lastTradeDateOrContractMonth='20240621', multiplier='50', exchange='QBALGO', currency='USD', localSymbol='ESM4', tradingClass='ES')]\n",
      "Unknown contract: Future(symbol='ES', lastTradeDateOrContractMonth='202407')\n",
      "Unknown contract: Future(symbol='ES', lastTradeDateOrContractMonth='202408')\n",
      "Ambiguous contract: Future(symbol='ES', lastTradeDateOrContractMonth='202409'), possibles are [Contract(secType='FUT', conId=568550526, symbol='ES', lastTradeDateOrContractMonth='20240920', multiplier='50', exchange='CME', currency='USD', localSymbol='ESU4', tradingClass='ES'), Contract(secType='FUT', conId=568550526, symbol='ES', lastTradeDateOrContractMonth='20240920', multiplier='50', exchange='QBALGO', currency='USD', localSymbol='ESU4', tradingClass='ES')]\n",
      "Unknown contract: Future(symbol='ES', lastTradeDateOrContractMonth='202410')\n",
      "Unknown contract: Future(symbol='ES', lastTradeDateOrContractMonth='202411')\n",
      "Ambiguous contract: Future(symbol='ES', lastTradeDateOrContractMonth='202412'), possibles are [Contract(secType='FUT', conId=495512557, symbol='ES', lastTradeDateOrContractMonth='20241220', multiplier='50', exchange='CME', currency='USD', localSymbol='ESZ4', tradingClass='ES'), Contract(secType='FUT', conId=495512557, symbol='ES', lastTradeDateOrContractMonth='20241220', multiplier='50', exchange='QBALGO', currency='USD', localSymbol='ESZ4', tradingClass='ES')]\n",
      "Error 200, reqId 43: No security definition has been found for the request, contract: Future(symbol='ES', lastTradeDateOrContractMonth='202401', exchange='CME')\n",
      "Error 200, reqId 44: No security definition has been found for the request, contract: Future(symbol='ES', lastTradeDateOrContractMonth='202402', exchange='CME')\n",
      "Error 200, reqId 46: No security definition has been found for the request, contract: Future(symbol='ES', lastTradeDateOrContractMonth='202404', exchange='CME')\n",
      "Error 200, reqId 47: No security definition has been found for the request, contract: Future(symbol='ES', lastTradeDateOrContractMonth='202405', exchange='CME')\n",
      "Error 200, reqId 49: No security definition has been found for the request, contract: Future(symbol='ES', lastTradeDateOrContractMonth='202407', exchange='CME')\n",
      "Error 200, reqId 50: No security definition has been found for the request, contract: Future(symbol='ES', lastTradeDateOrContractMonth='202408', exchange='CME')\n",
      "Error 200, reqId 52: No security definition has been found for the request, contract: Future(symbol='ES', lastTradeDateOrContractMonth='202410', exchange='CME')\n",
      "Error 200, reqId 53: No security definition has been found for the request, contract: Future(symbol='ES', lastTradeDateOrContractMonth='202411', exchange='CME')\n",
      "Unknown contract: Future(symbol='ES', lastTradeDateOrContractMonth='202401', exchange='CME')\n",
      "Unknown contract: Future(symbol='ES', lastTradeDateOrContractMonth='202402', exchange='CME')\n",
      "Unknown contract: Future(symbol='ES', lastTradeDateOrContractMonth='202404', exchange='CME')\n",
      "Unknown contract: Future(symbol='ES', lastTradeDateOrContractMonth='202405', exchange='CME')\n",
      "Unknown contract: Future(symbol='ES', lastTradeDateOrContractMonth='202407', exchange='CME')\n",
      "Unknown contract: Future(symbol='ES', lastTradeDateOrContractMonth='202408', exchange='CME')\n",
      "Unknown contract: Future(symbol='ES', lastTradeDateOrContractMonth='202410', exchange='CME')\n",
      "Unknown contract: Future(symbol='ES', lastTradeDateOrContractMonth='202411', exchange='CME')\n"
     ]
    },
    {
     "name": "stderr",
     "output_type": "stream",
     "text": [
      "Peer closed connection.\n",
      "Peer closed connection.\n"
     ]
    }
   ],
   "source": [
    "today = datetime.datetime.now()\n",
    "\n",
    "# Generate contract months for the next 9 maturities\n",
    "monthly_expirations = [\n",
    "    f\"{today.year + (today.month + i - 1) // 12}{(today.month + i - 1) % 12 + 1:02}\" \n",
    "    for i in range(12)\n",
    "]\n",
    "\n",
    "# Create Future objects for each contract month\n",
    "contracts = [Future(future_symbol, lastTradeDateOrContractMonth=exp) for exp in monthly_expirations]\n",
    "qualified_contracts = ib.qualifyContracts(*contracts)\n",
    "ib.sleep(1)\n",
    "\n",
    "# Set market data type to delayed frozen data\n",
    "ib.reqMarketDataType(3)\n",
    "\n",
    "idx = Index(index_symbol)\n",
    "ib.qualifyContracts(idx)\n",
    "idx_details = ib.reqMktData(idx)\n",
    "ib.sleep(1)\n",
    "spot = idx_details.last\n",
    "\n",
    "futures_data = {\n",
    "    'Contract': [\"Index\"],\n",
    "    'LastPrice': [spot],\n",
    "    'DTE': [0],\n",
    "    'AnnualizedYield': [None]\n",
    "}\n",
    "\n",
    "if not qualified_contracts:\n",
    "    contracts = [Future(future_symbol, exchange=\"CME\" ,lastTradeDateOrContractMonth=exp) for exp in monthly_expirations]\n",
    "    qualified_contracts = ib.qualifyContracts(*contracts)"
   ]
  },
  {
   "cell_type": "code",
   "execution_count": 39,
   "metadata": {},
   "outputs": [],
   "source": [
    "qualified_contracts\n",
    "contract = qualified_contracts[0]"
   ]
  },
  {
   "cell_type": "code",
   "execution_count": 6,
   "metadata": {},
   "outputs": [
    {
     "ename": "NameError",
     "evalue": "name 'contract' is not defined",
     "output_type": "error",
     "traceback": [
      "\u001b[0;31m---------------------------------------------------------------------------\u001b[0m",
      "\u001b[0;31mNameError\u001b[0m                                 Traceback (most recent call last)",
      "Cell \u001b[0;32mIn[6], line 1\u001b[0m\n\u001b[0;32m----> 1\u001b[0m market_data \u001b[38;5;241m=\u001b[39m ib\u001b[38;5;241m.\u001b[39mreqMktData(contract)\n\u001b[1;32m      2\u001b[0m ib\u001b[38;5;241m.\u001b[39msleep(\u001b[38;5;241m1\u001b[39m)  \u001b[38;5;66;03m# Wait for the data to be fetched\u001b[39;00m\n\u001b[1;32m      3\u001b[0m last_price \u001b[38;5;241m=\u001b[39m market_data\u001b[38;5;241m.\u001b[39mlast \u001b[38;5;28;01mif\u001b[39;00m market_data\u001b[38;5;241m.\u001b[39mlast \u001b[38;5;241m>\u001b[39m \u001b[38;5;241m0\u001b[39m \u001b[38;5;28;01melse\u001b[39;00m market_data\u001b[38;5;241m.\u001b[39mbid\n",
      "\u001b[0;31mNameError\u001b[0m: name 'contract' is not defined"
     ]
    }
   ],
   "source": [
    "market_data = ib.reqMktData(contract)\n",
    "ib.sleep(1)  # Wait for the data to be fetched\n",
    "last_price = market_data.last if market_data.last > 0 else market_data.bid\n",
    "\n",
    "expiration_date = datetime.datetime.strptime(contract.lastTradeDateOrContractMonth, '%Y%m%d')\n",
    "dte = (expiration_date - today).days\n",
    "annualized_yield = None\n",
    "\n",
    "if dte != 0:\n",
    "    annualized_yield = ((last_price / spot) ** (365 / dte) - 1) if last_price <= spot else ((spot / last_price) ** (365 / dte) - 1)\n",
    "\n",
    "futures_data['Contract'].append(contract.localSymbol)\n",
    "futures_data['LastPrice'].append(last_price)\n",
    "futures_data['DTE'].append(dte)\n",
    "futures_data['AnnualizedYield'].append(annualized_yield)\n",
    "\n",
    "# Convert the dictionary to DataFrame\n",
    "term_structure = pd.DataFrame(futures_data)"
   ]
  },
  {
   "cell_type": "code",
   "execution_count": 7,
   "metadata": {},
   "outputs": [
    {
     "ename": "NameError",
     "evalue": "name 'term_structure' is not defined",
     "output_type": "error",
     "traceback": [
      "\u001b[0;31m---------------------------------------------------------------------------\u001b[0m",
      "\u001b[0;31mNameError\u001b[0m                                 Traceback (most recent call last)",
      "Cell \u001b[0;32mIn[7], line 1\u001b[0m\n\u001b[0;32m----> 1\u001b[0m term_structure\n",
      "\u001b[0;31mNameError\u001b[0m: name 'term_structure' is not defined"
     ]
    }
   ],
   "source": [
    "term_structure"
   ]
  },
  {
   "cell_type": "code",
   "execution_count": null,
   "metadata": {},
   "outputs": [],
   "source": []
  }
 ],
 "metadata": {
  "kernelspec": {
   "display_name": "base",
   "language": "python",
   "name": "python3"
  },
  "language_info": {
   "codemirror_mode": {
    "name": "ipython",
    "version": 3
   },
   "file_extension": ".py",
   "mimetype": "text/x-python",
   "name": "python",
   "nbconvert_exporter": "python",
   "pygments_lexer": "ipython3",
   "version": "3.11.6"
  }
 },
 "nbformat": 4,
 "nbformat_minor": 2
}
