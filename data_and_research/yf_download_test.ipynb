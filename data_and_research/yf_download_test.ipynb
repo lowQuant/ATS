{
 "cells": [
  {
   "cell_type": "code",
   "execution_count": 11,
   "metadata": {},
   "outputs": [],
   "source": [
    "import numpy as np\n",
    "import pandas as pd\n",
    "import yfinance as yf\n",
    "import time, datetime\n",
    "from arcticdb import Arctic, QueryBuilder\n",
    "import yfinance as yf\n",
    "import talib\n",
    "# from arcticdb import Arctic, QueryBuilder\n",
    "from utils import ac\n",
    "\n",
    "lib = ac.get_library('stocks', create_if_missing=True)\n",
    "\n",
    "symbol_df = pd.read_csv(\"us_stocks/symbols.csv\",delimiter=',',index_col='Symbol').drop('Unnamed: 0',axis=1)\n",
    "# Keep the first occurrence of each symbol\n",
    "symbol_df = symbol_df[~symbol_df.index.duplicated(keep='first')]\n",
    "\n",
    "symbols = symbol_df.index.unique().to_list()"
   ]
  },
  {
   "cell_type": "code",
   "execution_count": 13,
   "metadata": {},
   "outputs": [
    {
     "data": {
      "text/plain": [
       "4606"
      ]
     },
     "execution_count": 13,
     "metadata": {},
     "output_type": "execute_result"
    }
   ],
   "source": [
    "len(symbols)"
   ]
  },
  {
   "cell_type": "code",
   "execution_count": 23,
   "metadata": {},
   "outputs": [],
   "source": [
    "def split_symbols(symbols, chunk_size):\n",
    "    \"\"\"Split a list of symbols into smaller chunks.\"\"\"\n",
    "    for i in range(0, len(symbols), chunk_size):\n",
    "        yield symbols[i:i + chunk_size]\n",
    "\n",
    "# Function to download and store data\n",
    "def download_and_store(chunk):\n",
    "    data = yf.download(chunk, group_by=\"Ticker\", period=\"3y\", auto_adjust=True)\n",
    "\n",
    "    df = data.stack(level=0).rename_axis(['Date', 'Symbol']).reset_index(level=1)\n",
    "    df = df.sort_values(by='Symbol',axis='index',kind='stable')\n",
    "    print(df)\n",
    "    # Add additional information\n",
    "    df[\"Name\"] = df[\"Symbol\"].map(symbol_df[\"Name\"])\n",
    "    df['Sector'] = df['Symbol'].map(symbol_df['Sector'])\n",
    "\n",
    "    df[\"20D_SMA\"] = df.groupby(\"Symbol\")[\"Close\"].rolling(window=20).mean().reset_index(level=0, drop=True)\n",
    "    df[\"50D_SMA\"] = df.groupby(\"Symbol\")[\"Close\"].rolling(window=50).mean().reset_index(level=0, drop=True)\n",
    "    df[\"200D_SMA\"] = df.groupby(\"Symbol\")[\"Close\"].rolling(window=200).mean().reset_index(level=0, drop=True)\n",
    "    # df['ATR'] = df.groupby('Symbol').apply(lambda group: talib.ATR(group['High'], group['Low'], group['Close'], timeperiod=14)).reset_index(level=0, drop=True)\n",
    "    print(df)\n",
    "    def calculate_atr(group):\n",
    "        print(group['Close'])\n",
    "        return talib.ATR(group['High'], group['Low'], group['Close'], timeperiod=20)\n",
    "\n",
    "    df['ATR'] = df.groupby('Symbol').apply(calculate_atr).reset_index(level=0, drop=True)\n",
    "\n",
    "    df['1M'] = df.groupby('Symbol')['Close'].pct_change(21)\n",
    "    df['3M'] = df.groupby('Symbol')['Close'].pct_change(63)\n",
    "    df['6M'] = df.groupby('Symbol')['Close'].pct_change(126)\n",
    "    df['12M'] = df.groupby('Symbol')['Close'].pct_change(252)\n",
    "    df['RS IBD'] = 2*df['3M']+df['6M']+df['12M'] # IBD Relative Strength =  2x 3M + 1x 6M + 1x 12M\n",
    "    df['RS Rank'] = df.groupby(df.index)['RS IBD'].rank(pct=True)\n",
    "    df[\"RS Rank 20D MA\"] = df.groupby(\"Symbol\")[\"RS Rank\"].rolling(window=20).mean().reset_index(level=0, drop=True)\n",
    "\n",
    "    for symbol in df.Symbol.unique().to_list():\n",
    "        stock_data = df[df['Symbol']==symbol]\n",
    "        # Store in Arctic\n",
    "        print(f\"saving {symbol} to arcticdb\")\n",
    "        lib.write(symbol, stock_data)\n",
    "\n"
   ]
  },
  {
   "cell_type": "code",
   "execution_count": 24,
   "metadata": {},
   "outputs": [
    {
     "name": "stdout",
     "output_type": "stream",
     "text": [
      "Splitting symbols into 2303 chunks.\n"
     ]
    }
   ],
   "source": [
    "# Example usage\n",
    "chunked_symbols = list(split_symbols(symbols, 2))\n",
    "print(f\"Splitting symbols into {len(chunked_symbols)} chunks.\")"
   ]
  },
  {
   "cell_type": "code",
   "execution_count": 25,
   "metadata": {},
   "outputs": [
    {
     "name": "stdout",
     "output_type": "stream",
     "text": [
      "['A', 'AA']\n",
      "[*********************100%***********************]  2 of 2 completed\n",
      "           Symbol       Close        High         Low        Open   Volume\n",
      "Date                                                                      \n",
      "2021-01-08      A  124.644684  125.213660  123.457686  124.085519  1577200\n",
      "2021-01-11      A  125.713966  126.881348  123.830473  124.046285  1746800\n",
      "2021-01-12      A  124.556412  125.949417  123.801045  125.890560  1826400\n",
      "2021-01-13      A  124.566238  125.615898  124.330795  125.037110  1530400\n",
      "2021-01-14      A  123.634277  125.753221  123.428270  124.850704   924900\n",
      "...           ...         ...         ...         ...         ...      ...\n",
      "2024-01-02     AA   33.310001   33.970001   33.040001   33.529999  3838000\n",
      "2024-01-03     AA   31.490000   32.270000   31.045000   32.119999  8245700\n",
      "2024-01-04     AA   31.129999   31.490000   30.860001   31.129999  4543600\n",
      "2024-01-05     AA   32.130001   32.305000   30.090000   30.540001  7313000\n",
      "2024-01-08     AA   31.820000   32.090000   31.219999   31.820000  1925074\n",
      "\n",
      "[1508 rows x 6 columns]\n",
      "           Symbol       Close        High         Low        Open   Volume  \\\n",
      "Date                                                                         \n",
      "2021-01-08      A  124.644684  125.213660  123.457686  124.085519  1577200   \n",
      "2021-01-11      A  125.713966  126.881348  123.830473  124.046285  1746800   \n",
      "2021-01-12      A  124.556412  125.949417  123.801045  125.890560  1826400   \n",
      "2021-01-13      A  124.566238  125.615898  124.330795  125.037110  1530400   \n",
      "2021-01-14      A  123.634277  125.753221  123.428270  124.850704   924900   \n",
      "...           ...         ...         ...         ...         ...      ...   \n",
      "2024-01-02     AA   33.310001   33.970001   33.040001   33.529999  3838000   \n",
      "2024-01-03     AA   31.490000   32.270000   31.045000   32.119999  8245700   \n",
      "2024-01-04     AA   31.129999   31.490000   30.860001   31.129999  4543600   \n",
      "2024-01-05     AA   32.130001   32.305000   30.090000   30.540001  7313000   \n",
      "2024-01-08     AA   31.820000   32.090000   31.219999   31.820000  1925074   \n",
      "\n",
      "                                  Name               Sector  20D_SMA  \\\n",
      "Date                                                                   \n",
      "2021-01-08  Agilent Technologies, Inc.    Health Technology      NaN   \n",
      "2021-01-11  Agilent Technologies, Inc.    Health Technology      NaN   \n",
      "2021-01-12  Agilent Technologies, Inc.    Health Technology      NaN   \n",
      "2021-01-13  Agilent Technologies, Inc.    Health Technology      NaN   \n",
      "2021-01-14  Agilent Technologies, Inc.    Health Technology      NaN   \n",
      "...                                ...                  ...      ...   \n",
      "2024-01-02           Alcoa Corporation  Non-Energy Minerals  29.6510   \n",
      "2024-01-03           Alcoa Corporation  Non-Energy Minerals  29.8850   \n",
      "2024-01-04           Alcoa Corporation  Non-Energy Minerals  30.1795   \n",
      "2024-01-05           Alcoa Corporation  Non-Energy Minerals  30.5300   \n",
      "2024-01-08           Alcoa Corporation  Non-Energy Minerals  30.8740   \n",
      "\n",
      "              50D_SMA   200D_SMA  \n",
      "Date                              \n",
      "2021-01-08        NaN        NaN  \n",
      "2021-01-11        NaN        NaN  \n",
      "2021-01-12        NaN        NaN  \n",
      "2021-01-13        NaN        NaN  \n",
      "2021-01-14        NaN        NaN  \n",
      "...               ...        ...  \n",
      "2024-01-02  27.156544  31.884677  \n",
      "2024-01-03  27.308186  31.848333  \n",
      "2024-01-04  27.464578  31.804596  \n",
      "2024-01-05  27.640372  31.757790  \n",
      "2024-01-08  27.802000  31.718592  \n",
      "\n",
      "[1508 rows x 11 columns]\n",
      "Date\n",
      "2021-01-08    124.644684\n",
      "2021-01-11    125.713966\n",
      "2021-01-12    124.556412\n",
      "2021-01-13    124.566238\n",
      "2021-01-14    123.634277\n",
      "                 ...    \n",
      "2024-01-02    138.750000\n",
      "2024-01-03    131.160004\n",
      "2024-01-04    131.000000\n",
      "2024-01-05    130.559998\n",
      "2024-01-08    132.070007\n",
      "Name: Close, Length: 754, dtype: float64\n",
      "Date\n",
      "2021-01-08    24.460789\n",
      "2021-01-11    24.039894\n",
      "2021-01-12    24.548880\n",
      "2021-01-13    23.922434\n",
      "2021-01-14    24.558668\n",
      "                ...    \n",
      "2024-01-02    33.310001\n",
      "2024-01-03    31.490000\n",
      "2024-01-04    31.129999\n",
      "2024-01-05    32.130001\n",
      "2024-01-08    31.820000\n",
      "Name: Close, Length: 754, dtype: float64\n"
     ]
    },
    {
     "ename": "ValueError",
     "evalue": "Expected a 1D array, got an array with shape (1508, 754)",
     "output_type": "error",
     "traceback": [
      "\u001b[1;31m---------------------------------------------------------------------------\u001b[0m",
      "\u001b[1;31mKeyError\u001b[0m                                  Traceback (most recent call last)",
      "File \u001b[1;32mc:\\Program Files\\Python\\lib\\site-packages\\pandas\\core\\indexes\\base.py:3621\u001b[0m, in \u001b[0;36mIndex.get_loc\u001b[1;34m(self, key, method, tolerance)\u001b[0m\n\u001b[0;32m   3620\u001b[0m \u001b[39mtry\u001b[39;00m:\n\u001b[1;32m-> 3621\u001b[0m     \u001b[39mreturn\u001b[39;00m \u001b[39mself\u001b[39;49m\u001b[39m.\u001b[39;49m_engine\u001b[39m.\u001b[39;49mget_loc(casted_key)\n\u001b[0;32m   3622\u001b[0m \u001b[39mexcept\u001b[39;00m \u001b[39mKeyError\u001b[39;00m \u001b[39mas\u001b[39;00m err:\n",
      "File \u001b[1;32mc:\\Program Files\\Python\\lib\\site-packages\\pandas\\_libs\\index.pyx:136\u001b[0m, in \u001b[0;36mpandas._libs.index.IndexEngine.get_loc\u001b[1;34m()\u001b[0m\n",
      "File \u001b[1;32mc:\\Program Files\\Python\\lib\\site-packages\\pandas\\_libs\\index.pyx:163\u001b[0m, in \u001b[0;36mpandas._libs.index.IndexEngine.get_loc\u001b[1;34m()\u001b[0m\n",
      "File \u001b[1;32mpandas\\_libs\\hashtable_class_helper.pxi:5198\u001b[0m, in \u001b[0;36mpandas._libs.hashtable.PyObjectHashTable.get_item\u001b[1;34m()\u001b[0m\n",
      "File \u001b[1;32mpandas\\_libs\\hashtable_class_helper.pxi:5206\u001b[0m, in \u001b[0;36mpandas._libs.hashtable.PyObjectHashTable.get_item\u001b[1;34m()\u001b[0m\n",
      "\u001b[1;31mKeyError\u001b[0m: 'ATR'",
      "\nThe above exception was the direct cause of the following exception:\n",
      "\u001b[1;31mKeyError\u001b[0m                                  Traceback (most recent call last)",
      "File \u001b[1;32mc:\\Program Files\\Python\\lib\\site-packages\\pandas\\core\\frame.py:3799\u001b[0m, in \u001b[0;36mDataFrame._set_item_mgr\u001b[1;34m(self, key, value)\u001b[0m\n\u001b[0;32m   3798\u001b[0m \u001b[39mtry\u001b[39;00m:\n\u001b[1;32m-> 3799\u001b[0m     loc \u001b[39m=\u001b[39m \u001b[39mself\u001b[39;49m\u001b[39m.\u001b[39;49m_info_axis\u001b[39m.\u001b[39;49mget_loc(key)\n\u001b[0;32m   3800\u001b[0m \u001b[39mexcept\u001b[39;00m \u001b[39mKeyError\u001b[39;00m:\n\u001b[0;32m   3801\u001b[0m     \u001b[39m# This item wasn't present, just insert at end\u001b[39;00m\n",
      "File \u001b[1;32mc:\\Program Files\\Python\\lib\\site-packages\\pandas\\core\\indexes\\base.py:3623\u001b[0m, in \u001b[0;36mIndex.get_loc\u001b[1;34m(self, key, method, tolerance)\u001b[0m\n\u001b[0;32m   3622\u001b[0m \u001b[39mexcept\u001b[39;00m \u001b[39mKeyError\u001b[39;00m \u001b[39mas\u001b[39;00m err:\n\u001b[1;32m-> 3623\u001b[0m     \u001b[39mraise\u001b[39;00m \u001b[39mKeyError\u001b[39;00m(key) \u001b[39mfrom\u001b[39;00m \u001b[39merr\u001b[39;00m\n\u001b[0;32m   3624\u001b[0m \u001b[39mexcept\u001b[39;00m \u001b[39mTypeError\u001b[39;00m:\n\u001b[0;32m   3625\u001b[0m     \u001b[39m# If we have a listlike key, _check_indexing_error will raise\u001b[39;00m\n\u001b[0;32m   3626\u001b[0m     \u001b[39m#  InvalidIndexError. Otherwise we fall through and re-raise\u001b[39;00m\n\u001b[0;32m   3627\u001b[0m     \u001b[39m#  the TypeError.\u001b[39;00m\n",
      "\u001b[1;31mKeyError\u001b[0m: 'ATR'",
      "\nDuring handling of the above exception, another exception occurred:\n",
      "\u001b[1;31mValueError\u001b[0m                                Traceback (most recent call last)",
      "\u001b[1;32mc:\\Users\\Johannes.Lange\\pythonscripts\\IB-Multi-Strategy-ATS\\data_and_research\\yf_download_test.ipynb Zelle 5\u001b[0m in \u001b[0;36m<cell line: 2>\u001b[1;34m()\u001b[0m\n\u001b[0;32m      <a href='vscode-notebook-cell:/c%3A/Users/Johannes.Lange/pythonscripts/IB-Multi-Strategy-ATS/data_and_research/yf_download_test.ipynb#ch0000002?line=1'>2</a>\u001b[0m \u001b[39mfor\u001b[39;00m chunk \u001b[39min\u001b[39;00m chunked_symbols[:\u001b[39m2\u001b[39m]:\n\u001b[0;32m      <a href='vscode-notebook-cell:/c%3A/Users/Johannes.Lange/pythonscripts/IB-Multi-Strategy-ATS/data_and_research/yf_download_test.ipynb#ch0000002?line=2'>3</a>\u001b[0m     \u001b[39mprint\u001b[39m(chunk)\n\u001b[1;32m----> <a href='vscode-notebook-cell:/c%3A/Users/Johannes.Lange/pythonscripts/IB-Multi-Strategy-ATS/data_and_research/yf_download_test.ipynb#ch0000002?line=3'>4</a>\u001b[0m     download_and_store(chunk)\n",
      "\u001b[1;32mc:\\Users\\Johannes.Lange\\pythonscripts\\IB-Multi-Strategy-ATS\\data_and_research\\yf_download_test.ipynb Zelle 5\u001b[0m in \u001b[0;36mdownload_and_store\u001b[1;34m(chunk)\u001b[0m\n\u001b[0;32m     <a href='vscode-notebook-cell:/c%3A/Users/Johannes.Lange/pythonscripts/IB-Multi-Strategy-ATS/data_and_research/yf_download_test.ipynb#ch0000002?line=22'>23</a>\u001b[0m     \u001b[39mprint\u001b[39m(group[\u001b[39m'\u001b[39m\u001b[39mClose\u001b[39m\u001b[39m'\u001b[39m])\n\u001b[0;32m     <a href='vscode-notebook-cell:/c%3A/Users/Johannes.Lange/pythonscripts/IB-Multi-Strategy-ATS/data_and_research/yf_download_test.ipynb#ch0000002?line=23'>24</a>\u001b[0m     \u001b[39mreturn\u001b[39;00m talib\u001b[39m.\u001b[39mATR(group[\u001b[39m'\u001b[39m\u001b[39mHigh\u001b[39m\u001b[39m'\u001b[39m], group[\u001b[39m'\u001b[39m\u001b[39mLow\u001b[39m\u001b[39m'\u001b[39m], group[\u001b[39m'\u001b[39m\u001b[39mClose\u001b[39m\u001b[39m'\u001b[39m], timeperiod\u001b[39m=\u001b[39m\u001b[39m20\u001b[39m)\n\u001b[1;32m---> <a href='vscode-notebook-cell:/c%3A/Users/Johannes.Lange/pythonscripts/IB-Multi-Strategy-ATS/data_and_research/yf_download_test.ipynb#ch0000002?line=25'>26</a>\u001b[0m df[\u001b[39m'\u001b[39;49m\u001b[39mATR\u001b[39;49m\u001b[39m'\u001b[39;49m] \u001b[39m=\u001b[39m df\u001b[39m.\u001b[39mgroupby(\u001b[39m'\u001b[39m\u001b[39mSymbol\u001b[39m\u001b[39m'\u001b[39m)\u001b[39m.\u001b[39mapply(calculate_atr)\u001b[39m.\u001b[39mreset_index(level\u001b[39m=\u001b[39m\u001b[39m0\u001b[39m, drop\u001b[39m=\u001b[39m\u001b[39mTrue\u001b[39;00m)\n\u001b[0;32m     <a href='vscode-notebook-cell:/c%3A/Users/Johannes.Lange/pythonscripts/IB-Multi-Strategy-ATS/data_and_research/yf_download_test.ipynb#ch0000002?line=27'>28</a>\u001b[0m df[\u001b[39m'\u001b[39m\u001b[39m1M\u001b[39m\u001b[39m'\u001b[39m] \u001b[39m=\u001b[39m df\u001b[39m.\u001b[39mgroupby(\u001b[39m'\u001b[39m\u001b[39mSymbol\u001b[39m\u001b[39m'\u001b[39m)[\u001b[39m'\u001b[39m\u001b[39mClose\u001b[39m\u001b[39m'\u001b[39m]\u001b[39m.\u001b[39mpct_change(\u001b[39m21\u001b[39m)\n\u001b[0;32m     <a href='vscode-notebook-cell:/c%3A/Users/Johannes.Lange/pythonscripts/IB-Multi-Strategy-ATS/data_and_research/yf_download_test.ipynb#ch0000002?line=28'>29</a>\u001b[0m df[\u001b[39m'\u001b[39m\u001b[39m3M\u001b[39m\u001b[39m'\u001b[39m] \u001b[39m=\u001b[39m df\u001b[39m.\u001b[39mgroupby(\u001b[39m'\u001b[39m\u001b[39mSymbol\u001b[39m\u001b[39m'\u001b[39m)[\u001b[39m'\u001b[39m\u001b[39mClose\u001b[39m\u001b[39m'\u001b[39m]\u001b[39m.\u001b[39mpct_change(\u001b[39m63\u001b[39m)\n",
      "File \u001b[1;32mc:\\Program Files\\Python\\lib\\site-packages\\pandas\\core\\frame.py:3645\u001b[0m, in \u001b[0;36mDataFrame.__setitem__\u001b[1;34m(self, key, value)\u001b[0m\n\u001b[0;32m   3643\u001b[0m     \u001b[39mself\u001b[39m\u001b[39m.\u001b[39m_setitem_array(key, value)\n\u001b[0;32m   3644\u001b[0m \u001b[39melif\u001b[39;00m \u001b[39misinstance\u001b[39m(value, DataFrame):\n\u001b[1;32m-> 3645\u001b[0m     \u001b[39mself\u001b[39;49m\u001b[39m.\u001b[39;49m_set_item_frame_value(key, value)\n\u001b[0;32m   3646\u001b[0m \u001b[39melif\u001b[39;00m (\n\u001b[0;32m   3647\u001b[0m     is_list_like(value)\n\u001b[0;32m   3648\u001b[0m     \u001b[39mand\u001b[39;00m \u001b[39mnot\u001b[39;00m \u001b[39mself\u001b[39m\u001b[39m.\u001b[39mcolumns\u001b[39m.\u001b[39mis_unique\n\u001b[0;32m   3649\u001b[0m     \u001b[39mand\u001b[39;00m \u001b[39m1\u001b[39m \u001b[39m<\u001b[39m \u001b[39mlen\u001b[39m(\u001b[39mself\u001b[39m\u001b[39m.\u001b[39mcolumns\u001b[39m.\u001b[39mget_indexer_for([key])) \u001b[39m==\u001b[39m \u001b[39mlen\u001b[39m(value)\n\u001b[0;32m   3650\u001b[0m ):\n\u001b[0;32m   3651\u001b[0m     \u001b[39m# Column to set is duplicated\u001b[39;00m\n\u001b[0;32m   3652\u001b[0m     \u001b[39mself\u001b[39m\u001b[39m.\u001b[39m_setitem_array([key], value)\n",
      "File \u001b[1;32mc:\\Program Files\\Python\\lib\\site-packages\\pandas\\core\\frame.py:3788\u001b[0m, in \u001b[0;36mDataFrame._set_item_frame_value\u001b[1;34m(self, key, value)\u001b[0m\n\u001b[0;32m   3786\u001b[0m \u001b[39m# now align rows\u001b[39;00m\n\u001b[0;32m   3787\u001b[0m arraylike \u001b[39m=\u001b[39m _reindex_for_setitem(value, \u001b[39mself\u001b[39m\u001b[39m.\u001b[39mindex)\n\u001b[1;32m-> 3788\u001b[0m \u001b[39mself\u001b[39;49m\u001b[39m.\u001b[39;49m_set_item_mgr(key, arraylike)\n",
      "File \u001b[1;32mc:\\Program Files\\Python\\lib\\site-packages\\pandas\\core\\frame.py:3802\u001b[0m, in \u001b[0;36mDataFrame._set_item_mgr\u001b[1;34m(self, key, value)\u001b[0m\n\u001b[0;32m   3799\u001b[0m     loc \u001b[39m=\u001b[39m \u001b[39mself\u001b[39m\u001b[39m.\u001b[39m_info_axis\u001b[39m.\u001b[39mget_loc(key)\n\u001b[0;32m   3800\u001b[0m \u001b[39mexcept\u001b[39;00m \u001b[39mKeyError\u001b[39;00m:\n\u001b[0;32m   3801\u001b[0m     \u001b[39m# This item wasn't present, just insert at end\u001b[39;00m\n\u001b[1;32m-> 3802\u001b[0m     \u001b[39mself\u001b[39;49m\u001b[39m.\u001b[39;49m_mgr\u001b[39m.\u001b[39;49minsert(\u001b[39mlen\u001b[39;49m(\u001b[39mself\u001b[39;49m\u001b[39m.\u001b[39;49m_info_axis), key, value)\n\u001b[0;32m   3803\u001b[0m \u001b[39melse\u001b[39;00m:\n\u001b[0;32m   3804\u001b[0m     \u001b[39mself\u001b[39m\u001b[39m.\u001b[39m_iset_item_mgr(loc, value)\n",
      "File \u001b[1;32mc:\\Program Files\\Python\\lib\\site-packages\\pandas\\core\\internals\\managers.py:1235\u001b[0m, in \u001b[0;36mBlockManager.insert\u001b[1;34m(self, loc, item, value)\u001b[0m\n\u001b[0;32m   1233\u001b[0m     value \u001b[39m=\u001b[39m value\u001b[39m.\u001b[39mT\n\u001b[0;32m   1234\u001b[0m     \u001b[39mif\u001b[39;00m \u001b[39mlen\u001b[39m(value) \u001b[39m>\u001b[39m \u001b[39m1\u001b[39m:\n\u001b[1;32m-> 1235\u001b[0m         \u001b[39mraise\u001b[39;00m \u001b[39mValueError\u001b[39;00m(\n\u001b[0;32m   1236\u001b[0m             \u001b[39mf\u001b[39m\u001b[39m\"\u001b[39m\u001b[39mExpected a 1D array, got an array with shape \u001b[39m\u001b[39m{\u001b[39;00mvalue\u001b[39m.\u001b[39mT\u001b[39m.\u001b[39mshape\u001b[39m}\u001b[39;00m\u001b[39m\"\u001b[39m\n\u001b[0;32m   1237\u001b[0m         )\n\u001b[0;32m   1238\u001b[0m \u001b[39melse\u001b[39;00m:\n\u001b[0;32m   1239\u001b[0m     value \u001b[39m=\u001b[39m ensure_block_shape(value, ndim\u001b[39m=\u001b[39m\u001b[39mself\u001b[39m\u001b[39m.\u001b[39mndim)\n",
      "\u001b[1;31mValueError\u001b[0m: Expected a 1D array, got an array with shape (1508, 754)"
     ]
    }
   ],
   "source": [
    "\n",
    "# Download and store data for each chunk\n",
    "for chunk in chunked_symbols[:2]:\n",
    "    print(chunk)\n",
    "    download_and_store(chunk)"
   ]
  },
  {
   "cell_type": "code",
   "execution_count": null,
   "metadata": {},
   "outputs": [],
   "source": []
  }
 ],
 "metadata": {
  "kernelspec": {
   "display_name": "Python 3.10.5 64-bit",
   "language": "python",
   "name": "python3"
  },
  "language_info": {
   "codemirror_mode": {
    "name": "ipython",
    "version": 3
   },
   "file_extension": ".py",
   "mimetype": "text/x-python",
   "name": "python",
   "nbconvert_exporter": "python",
   "pygments_lexer": "ipython3",
   "version": "3.10.5"
  },
  "orig_nbformat": 4,
  "vscode": {
   "interpreter": {
    "hash": "9b4d75ac280b6c7c3aa43866cb82dc88915409b55fec83a093dd0284cb58708e"
   }
  }
 },
 "nbformat": 4,
 "nbformat_minor": 2
}
