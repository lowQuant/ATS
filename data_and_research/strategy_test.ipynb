{
 "cells": [
  {
   "cell_type": "code",
   "execution_count": 1,
   "metadata": {},
   "outputs": [],
   "source": [
    "import datetime\n",
    "from ib_insync import *"
   ]
  },
  {
   "cell_type": "code",
   "execution_count": 2,
   "metadata": {},
   "outputs": [],
   "source": [
    "import sys\n",
    "from pathlib import Path\n",
    "\n",
    "# Get the parent directory of the current notebook's directory\n",
    "project_root = Path.cwd().parent\n",
    "\n",
    "# Add the project root to the system path\n",
    "if str(project_root) not in sys.path:\n",
    "    sys.path.append(str(project_root))\n"
   ]
  },
  {
   "cell_type": "code",
   "execution_count": 5,
   "metadata": {},
   "outputs": [],
   "source": [
    "try:\n",
    "    from strategy_manager.strategies.short_vix import VRP\n",
    "    from broker import connect_to_IB\n",
    "except:\n",
    "    from strategy_manager.strategies.short_vix import VRP\n",
    "    from broker import connect_to_IB"
   ]
  },
  {
   "cell_type": "code",
   "execution_count": 6,
   "metadata": {},
   "outputs": [],
   "source": [
    "ib = connect_to_IB()"
   ]
  },
  {
   "cell_type": "code",
   "execution_count": 7,
   "metadata": {},
   "outputs": [],
   "source": [
    "positions = ib.portfolio()\n",
    " \n",
    "# Sum up the investment value for all positions of the given symbol\n",
    "contract = [pos.contract for pos in ib.portfolio() if pos.contract.symbol==\"VXM\"]"
   ]
  },
  {
   "cell_type": "code",
   "execution_count": 22,
   "metadata": {},
   "outputs": [
    {
     "data": {
      "text/plain": [
       "[Future(conId=644107700, symbol='VXM', lastTradeDateOrContractMonth='20240117', right='0', multiplier='100', primaryExchange='CFE', currency='USD', localSymbol='VXMF4', tradingClass='VXM')]"
      ]
     },
     "execution_count": 22,
     "metadata": {},
     "output_type": "execute_result"
    }
   ],
   "source": [
    "contract\n",
    "# market_value.lastTradeDateOrContractMonth\n",
    "# market_value.localSymbol\n"
   ]
  },
  {
   "cell_type": "code",
   "execution_count": 23,
   "metadata": {},
   "outputs": [
    {
     "name": "stdout",
     "output_type": "stream",
     "text": [
      "[*********************100%%**********************]  1 of 1 completed\n",
      "[*********************100%%**********************]  1 of 1 completed\n",
      "Latest Volatility Risk Premium                   Close    Return  Realised Volatility    VIX       VRP\n",
      "Date                                                                   \n",
      "2023-12-14  4719.549805  0.002647             6.892980  12.48  7.267020\n",
      "2023-12-15  4719.189941 -0.000076             6.939476  12.28  7.240524\n",
      "2023-12-18  4740.560059  0.004528             6.971769  12.56  7.348231\n",
      "2023-12-19  4768.370117  0.005866             7.059069  12.53  6.740931\n",
      "2023-12-20  4698.350098 -0.014684             9.043557  13.67  4.366442\n",
      "Current Spot Rate: 13.670000076293945\n"
     ]
    },
    {
     "name": "stderr",
     "output_type": "stream",
     "text": [
      "/Users/johanneslange/Desktop/Pythonprojekte/IB-Multi-Strategy-ATS/strategy_manager/strategies/short_vix.py:56: SettingWithCopyWarning: \n",
      "A value is trying to be set on a copy of a slice from a DataFrame.\n",
      "Try using .loc[row_indexer,col_indexer] = value instead\n",
      "\n",
      "See the caveats in the documentation: https://pandas.pydata.org/pandas-docs/stable/user_guide/indexing.html#returning-a-view-versus-a-copy\n",
      "  spx_df['Realised Volatility'] = spx_df['Return'].rolling(21).std()*np.sqrt(252)*100\n"
     ]
    },
    {
     "name": "stdout",
     "output_type": "stream",
     "text": [
      "[Future(conId=639094612, symbol='VXM', lastTradeDateOrContractMonth='20231220', multiplier='100', exchange='CFE', currency='USD', localSymbol='VXMZ3', tradingClass='VXM')]: nan\n",
      "[Future(conId=644107700, symbol='VXM', lastTradeDateOrContractMonth='20240117', multiplier='100', exchange='CFE', currency='USD', localSymbol='VXMF4', tradingClass='VXM')]: 15.58\n",
      "[Future(conId=649526843, symbol='VXM', lastTradeDateOrContractMonth='20240214', multiplier='100', exchange='CFE', currency='USD', localSymbol='VXMG4', tradingClass='VXM')]: 16.75\n",
      "[Future(conId=656210801, symbol='VXM', lastTradeDateOrContractMonth='20240320', multiplier='100', exchange='CFE', currency='USD', localSymbol='VXMH4', tradingClass='VXM')]: 17.35\n",
      "[Future(conId=661277712, symbol='VXM', lastTradeDateOrContractMonth='20240417', multiplier='100', exchange='CFE', currency='USD', localSymbol='VXMJ4', tradingClass='VXM')]: 17.91\n"
     ]
    },
    {
     "name": "stderr",
     "output_type": "stream",
     "text": [
      "Error 200, reqId 24: Es wurde keine Wertpapierdefinition zu der Anfrage gefunden, contract: Future(symbol='VXM', lastTradeDateOrContractMonth='202406')\n",
      "Unknown contract: Future(symbol='VXM', lastTradeDateOrContractMonth='202406')\n",
      "Error 200, reqId 25: Es wurde keine Wertpapierdefinition zu der Anfrage gefunden, contract: Future(symbol='VXM', lastTradeDateOrContractMonth='202407')\n",
      "Unknown contract: Future(symbol='VXM', lastTradeDateOrContractMonth='202407')\n",
      "Error 200, reqId 26: Es wurde keine Wertpapierdefinition zu der Anfrage gefunden, contract: Future(symbol='VXM', lastTradeDateOrContractMonth='202408')\n",
      "Unknown contract: Future(symbol='VXM', lastTradeDateOrContractMonth='202408')\n"
     ]
    },
    {
     "name": "stdout",
     "output_type": "stream",
     "text": [
      "[Future(conId=666994095, symbol='VXM', lastTradeDateOrContractMonth='20240522', multiplier='100', exchange='CFE', currency='USD', localSymbol='VXMK4', tradingClass='VXM')]: 18.15\n"
     ]
    }
   ],
   "source": [
    "vrp = VRP(ib)"
   ]
  },
  {
   "cell_type": "code",
   "execution_count": 24,
   "metadata": {},
   "outputs": [
    {
     "data": {
      "text/html": [
       "<div>\n",
       "<style scoped>\n",
       "    .dataframe tbody tr th:only-of-type {\n",
       "        vertical-align: middle;\n",
       "    }\n",
       "\n",
       "    .dataframe tbody tr th {\n",
       "        vertical-align: top;\n",
       "    }\n",
       "\n",
       "    .dataframe thead th {\n",
       "        text-align: right;\n",
       "    }\n",
       "</style>\n",
       "<table border=\"1\" class=\"dataframe\">\n",
       "  <thead>\n",
       "    <tr style=\"text-align: right;\">\n",
       "      <th></th>\n",
       "      <th>Contract</th>\n",
       "      <th>LastPrice</th>\n",
       "      <th>DTE</th>\n",
       "      <th>AnnualizedYield</th>\n",
       "    </tr>\n",
       "  </thead>\n",
       "  <tbody>\n",
       "    <tr>\n",
       "      <th>0</th>\n",
       "      <td>VIX Index</td>\n",
       "      <td>13.67</td>\n",
       "      <td>0</td>\n",
       "      <td>NaN</td>\n",
       "    </tr>\n",
       "    <tr>\n",
       "      <th>1</th>\n",
       "      <td>VXMZ3</td>\n",
       "      <td>NaN</td>\n",
       "      <td>-2</td>\n",
       "      <td>NaN</td>\n",
       "    </tr>\n",
       "    <tr>\n",
       "      <th>2</th>\n",
       "      <td>VXMF4</td>\n",
       "      <td>15.58</td>\n",
       "      <td>26</td>\n",
       "      <td>-0.840548</td>\n",
       "    </tr>\n",
       "    <tr>\n",
       "      <th>3</th>\n",
       "      <td>VXMG4</td>\n",
       "      <td>16.75</td>\n",
       "      <td>54</td>\n",
       "      <td>-0.746767</td>\n",
       "    </tr>\n",
       "    <tr>\n",
       "      <th>4</th>\n",
       "      <td>VXMH4</td>\n",
       "      <td>17.35</td>\n",
       "      <td>89</td>\n",
       "      <td>-0.623810</td>\n",
       "    </tr>\n",
       "    <tr>\n",
       "      <th>5</th>\n",
       "      <td>VXMJ4</td>\n",
       "      <td>17.91</td>\n",
       "      <td>117</td>\n",
       "      <td>-0.569494</td>\n",
       "    </tr>\n",
       "    <tr>\n",
       "      <th>6</th>\n",
       "      <td>VXMK4</td>\n",
       "      <td>18.15</td>\n",
       "      <td>152</td>\n",
       "      <td>-0.493734</td>\n",
       "    </tr>\n",
       "  </tbody>\n",
       "</table>\n",
       "</div>"
      ],
      "text/plain": [
       "    Contract  LastPrice  DTE  AnnualizedYield\n",
       "0  VIX Index      13.67    0              NaN\n",
       "1      VXMZ3        NaN   -2              NaN\n",
       "2      VXMF4      15.58   26        -0.840548\n",
       "3      VXMG4      16.75   54        -0.746767\n",
       "4      VXMH4      17.35   89        -0.623810\n",
       "5      VXMJ4      17.91  117        -0.569494\n",
       "6      VXMK4      18.15  152        -0.493734"
      ]
     },
     "execution_count": 24,
     "metadata": {},
     "output_type": "execute_result"
    }
   ],
   "source": [
    "vrp.term_structure"
   ]
  },
  {
   "cell_type": "code",
   "execution_count": 25,
   "metadata": {},
   "outputs": [
    {
     "data": {
      "text/plain": [
       "'VXMG4'"
      ]
     },
     "execution_count": 25,
     "metadata": {},
     "output_type": "execute_result"
    }
   ],
   "source": [
    "vrp.choose_future_to_short()"
   ]
  },
  {
   "cell_type": "code",
   "execution_count": 32,
   "metadata": {},
   "outputs": [],
   "source": [
    "\n",
    "\"\"\" Get the current future contract in the portfolio \"\"\"\n",
    "positions = vrp.ib.portfolio()\n",
    "\n",
    "# Sum up the investment value for all positions of the given symbol\n",
    "vrp.inv_contract = [pos.contract for pos in vrp.ib.portfolio() if pos.contract.symbol==\"VXM\"][0]\n"
   ]
  },
  {
   "cell_type": "code",
   "execution_count": 37,
   "metadata": {},
   "outputs": [
    {
     "name": "stdout",
     "output_type": "stream",
     "text": [
      "verkaufen\n"
     ]
    },
    {
     "name": "stderr",
     "output_type": "stream",
     "text": [
      "Error 1100, reqId -1: Verbindung zwischen %SHORT:COMPNAME% und Trader Workstation ist abgebrochen.\n",
      "Error 1100, reqId -1: Verbindung zwischen %SHORT:COMPNAME% und Trader Workstation ist abgebrochen.\n",
      "Error 1102, reqId -1: Verbindung zwischen %SHORT:COMPNAME% und Trader Workstation wurde wiederhergestellt \\u2013 Daten sind erhalten geblieben. Verbindung zu allen Datenzentren hergestellt: usfuture.nj; usfuture; usfarm.nj; eufarm; usopt; usfarm; euhmds; fundfarm; ushmds; secdefeu.\n",
      "Error 1100, reqId -1: Verbindung zwischen %SHORT:COMPNAME% und Trader Workstation ist abgebrochen.\n",
      "Error 1100, reqId -1: Verbindung zwischen %SHORT:COMPNAME% und Trader Workstation ist abgebrochen.\n",
      "Error 1102, reqId -1: Verbindung zwischen %SHORT:COMPNAME% und Trader Workstation wurde wiederhergestellt \\u2013 Daten sind erhalten geblieben. Verbindung zu allen Datenzentren hergestellt: usfuture.nj; usfuture; usfarm.nj; eufarm; usopt; usfarm; euhmds; fundfarm; ushmds; secdefeu.\n",
      "Error 1100, reqId -1: Verbindung zwischen %SHORT:COMPNAME% und Trader Workstation ist abgebrochen.\n",
      "Error 1100, reqId -1: Verbindung zwischen %SHORT:COMPNAME% und Trader Workstation ist abgebrochen.\n",
      "Error 1102, reqId -1: Verbindung zwischen %SHORT:COMPNAME% und Trader Workstation wurde wiederhergestellt \\u2013 Daten sind erhalten geblieben. Verbindung zu allen Datenzentren hergestellt: eufarm; usfarm; euhmds; fundfarm; ushmds; secdefeu.\n",
      "Peer closed connection.\n"
     ]
    }
   ],
   "source": [
    "today = datetime.datetime.now()\n",
    "expiration_date = datetime.datetime.strptime(vrp.inv_contract.lastTradeDateOrContractMonth, '%Y%m%d')\n",
    "dte = (expiration_date - today).days\n",
    "\n",
    "if dte <=4:\n",
    "    print(\"verkaufen\")"
   ]
  },
  {
   "cell_type": "code",
   "execution_count": 36,
   "metadata": {},
   "outputs": [
    {
     "data": {
      "text/plain": [
       "26"
      ]
     },
     "execution_count": 36,
     "metadata": {},
     "output_type": "execute_result"
    }
   ],
   "source": [
    "dte"
   ]
  },
  {
   "cell_type": "code",
   "execution_count": 33,
   "metadata": {},
   "outputs": [
    {
     "data": {
      "text/plain": [
       "Future(conId=644107700, symbol='VXM', lastTradeDateOrContractMonth='20240117', right='0', multiplier='100', primaryExchange='CFE', currency='USD', localSymbol='VXMF4', tradingClass='VXM')"
      ]
     },
     "execution_count": 33,
     "metadata": {},
     "output_type": "execute_result"
    }
   ],
   "source": [
    "vrp.inv_contract"
   ]
  },
  {
   "cell_type": "code",
   "execution_count": null,
   "metadata": {},
   "outputs": [],
   "source": []
  },
  {
   "cell_type": "code",
   "execution_count": 29,
   "metadata": {},
   "outputs": [
    {
     "data": {
      "text/html": [
       "<div>\n",
       "<style scoped>\n",
       "    .dataframe tbody tr th:only-of-type {\n",
       "        vertical-align: middle;\n",
       "    }\n",
       "\n",
       "    .dataframe tbody tr th {\n",
       "        vertical-align: top;\n",
       "    }\n",
       "\n",
       "    .dataframe thead th {\n",
       "        text-align: right;\n",
       "    }\n",
       "</style>\n",
       "<table border=\"1\" class=\"dataframe\">\n",
       "  <thead>\n",
       "    <tr style=\"text-align: right;\">\n",
       "      <th></th>\n",
       "      <th>Close</th>\n",
       "      <th>Return</th>\n",
       "      <th>Realised Volatility</th>\n",
       "      <th>VIX</th>\n",
       "      <th>VRP</th>\n",
       "    </tr>\n",
       "    <tr>\n",
       "      <th>Date</th>\n",
       "      <th></th>\n",
       "      <th></th>\n",
       "      <th></th>\n",
       "      <th></th>\n",
       "      <th></th>\n",
       "    </tr>\n",
       "  </thead>\n",
       "  <tbody>\n",
       "    <tr>\n",
       "      <th>2023-08-23</th>\n",
       "      <td>4436.009766</td>\n",
       "      <td>NaN</td>\n",
       "      <td>NaN</td>\n",
       "      <td>15.980000</td>\n",
       "      <td>NaN</td>\n",
       "    </tr>\n",
       "    <tr>\n",
       "      <th>2023-08-24</th>\n",
       "      <td>4376.310059</td>\n",
       "      <td>-0.013458</td>\n",
       "      <td>NaN</td>\n",
       "      <td>17.200001</td>\n",
       "      <td>NaN</td>\n",
       "    </tr>\n",
       "    <tr>\n",
       "      <th>2023-08-25</th>\n",
       "      <td>4405.709961</td>\n",
       "      <td>0.006718</td>\n",
       "      <td>NaN</td>\n",
       "      <td>15.680000</td>\n",
       "      <td>NaN</td>\n",
       "    </tr>\n",
       "    <tr>\n",
       "      <th>2023-08-28</th>\n",
       "      <td>4433.310059</td>\n",
       "      <td>0.006265</td>\n",
       "      <td>NaN</td>\n",
       "      <td>15.080000</td>\n",
       "      <td>NaN</td>\n",
       "    </tr>\n",
       "    <tr>\n",
       "      <th>2023-08-29</th>\n",
       "      <td>4497.629883</td>\n",
       "      <td>0.014508</td>\n",
       "      <td>NaN</td>\n",
       "      <td>14.450000</td>\n",
       "      <td>NaN</td>\n",
       "    </tr>\n",
       "    <tr>\n",
       "      <th>...</th>\n",
       "      <td>...</td>\n",
       "      <td>...</td>\n",
       "      <td>...</td>\n",
       "      <td>...</td>\n",
       "      <td>...</td>\n",
       "    </tr>\n",
       "    <tr>\n",
       "      <th>2023-12-14</th>\n",
       "      <td>4719.549805</td>\n",
       "      <td>0.002647</td>\n",
       "      <td>6.892980</td>\n",
       "      <td>12.480000</td>\n",
       "      <td>7.267020</td>\n",
       "    </tr>\n",
       "    <tr>\n",
       "      <th>2023-12-15</th>\n",
       "      <td>4719.189941</td>\n",
       "      <td>-0.000076</td>\n",
       "      <td>6.939476</td>\n",
       "      <td>12.280000</td>\n",
       "      <td>7.240524</td>\n",
       "    </tr>\n",
       "    <tr>\n",
       "      <th>2023-12-18</th>\n",
       "      <td>4740.560059</td>\n",
       "      <td>0.004528</td>\n",
       "      <td>6.971769</td>\n",
       "      <td>12.560000</td>\n",
       "      <td>7.348231</td>\n",
       "    </tr>\n",
       "    <tr>\n",
       "      <th>2023-12-19</th>\n",
       "      <td>4768.370117</td>\n",
       "      <td>0.005866</td>\n",
       "      <td>7.059069</td>\n",
       "      <td>12.530000</td>\n",
       "      <td>6.740931</td>\n",
       "    </tr>\n",
       "    <tr>\n",
       "      <th>2023-12-20</th>\n",
       "      <td>4698.350098</td>\n",
       "      <td>-0.014684</td>\n",
       "      <td>9.043557</td>\n",
       "      <td>13.670000</td>\n",
       "      <td>4.366442</td>\n",
       "    </tr>\n",
       "  </tbody>\n",
       "</table>\n",
       "<p>84 rows × 5 columns</p>\n",
       "</div>"
      ],
      "text/plain": [
       "                  Close    Return  Realised Volatility        VIX       VRP\n",
       "Date                                                                       \n",
       "2023-08-23  4436.009766       NaN                  NaN  15.980000       NaN\n",
       "2023-08-24  4376.310059 -0.013458                  NaN  17.200001       NaN\n",
       "2023-08-25  4405.709961  0.006718                  NaN  15.680000       NaN\n",
       "2023-08-28  4433.310059  0.006265                  NaN  15.080000       NaN\n",
       "2023-08-29  4497.629883  0.014508                  NaN  14.450000       NaN\n",
       "...                 ...       ...                  ...        ...       ...\n",
       "2023-12-14  4719.549805  0.002647             6.892980  12.480000  7.267020\n",
       "2023-12-15  4719.189941 -0.000076             6.939476  12.280000  7.240524\n",
       "2023-12-18  4740.560059  0.004528             6.971769  12.560000  7.348231\n",
       "2023-12-19  4768.370117  0.005866             7.059069  12.530000  6.740931\n",
       "2023-12-20  4698.350098 -0.014684             9.043557  13.670000  4.366442\n",
       "\n",
       "[84 rows x 5 columns]"
      ]
     },
     "execution_count": 29,
     "metadata": {},
     "output_type": "execute_result"
    }
   ],
   "source": [
    "vrp.vrp_df"
   ]
  },
  {
   "cell_type": "markdown",
   "metadata": {},
   "source": [
    "# Place_Order func"
   ]
  },
  {
   "cell_type": "code",
   "execution_count": 9,
   "metadata": {},
   "outputs": [
    {
     "data": {
      "text/plain": [
       "Future(conId=644107700, symbol='VXM', lastTradeDateOrContractMonth='20240117', right='0', multiplier='100', primaryExchange='CFE', currency='USD', localSymbol='VXMF4', tradingClass='VXM')"
      ]
     },
     "execution_count": 9,
     "metadata": {},
     "output_type": "execute_result"
    }
   ],
   "source": [
    "contract = contract[0]\n",
    "contract"
   ]
  },
  {
   "cell_type": "code",
   "execution_count": 41,
   "metadata": {},
   "outputs": [],
   "source": [
    "def place_order(ib, contract,quantity, order_type='MKT',urgency='Patient',limit=None):\n",
    "    '''Place an Order on the exchange via ib_insync\n",
    "    :param ib: ib connection\n",
    "    :param contract: ib.Contract\n",
    "    :param quantity: order size as a signed integer (quantity > 0 means 'BUY'\n",
    "                         and quantity < 0 means 'SELL')\n",
    "    :param order_type: order type such as 'LMT', 'MKT' etc.\n",
    "    :param urgency: 'Patient' (default), 'Normal', 'Urgent' \n",
    "    :param limit: if order_type 'LMT' state limit as float\n",
    "    '''\n",
    "    \n",
    "    ib.qualifyContracts(contract)\n",
    "\n",
    "    # Create order object\n",
    "    action = quantity > 0 and 'BUY' or 'SELL'\n",
    "    print(action)\n",
    "\n",
    "    if order_type == 'LMT':\n",
    "        order = LimitOrder()\n",
    "        assert limit\n",
    "        order.lmtPrice = float(limit)\n",
    "        print(order)\n",
    "    elif order_type == 'MKT':\n",
    "        order = MarketOrder()\n",
    "        \n",
    "    order.algoStrategy = 'Adaptive'\n",
    "    if urgency == 'Normal':\n",
    "        order.algoParams = [TagValue('adaptivePriority', 'Normal')]\n",
    "    elif urgency == 'Urgent':\n",
    "        order.algoParams = [TagValue('adaptivePriority', 'Urgent')]\n",
    "    else:\n",
    "        order.algoParams = [TagValue('adaptivePriority', 'Patient')]\n",
    "    \n",
    "    order.totalQuantity = int(abs(quantity))\n",
    "    \n",
    "    print(type(order))\n",
    "    return order\n",
    "    #ib.placeOrder(contract,order)\n",
    "    ib.sleep(1)\n",
    "\n",
    "    \n"
   ]
  },
  {
   "cell_type": "code",
   "execution_count": 42,
   "metadata": {},
   "outputs": [],
   "source": [
    "aapl = Stock('AAPL', exchange='SMART', currency='USD')\n",
    "contract = ib.qualifyContracts(aapl)"
   ]
  },
  {
   "cell_type": "code",
   "execution_count": 43,
   "metadata": {},
   "outputs": [
    {
     "ename": "TypeError",
     "evalue": "MarketOrder.__init__() missing 2 required positional arguments: 'action' and 'totalQuantity'",
     "output_type": "error",
     "traceback": [
      "\u001b[0;31m---------------------------------------------------------------------------\u001b[0m",
      "\u001b[0;31mTypeError\u001b[0m                                 Traceback (most recent call last)",
      "\u001b[1;32m/Users/johanneslange/Desktop/Pythonprojekte/IB-Multi-Strategy-ATS/data_and_research/strategy_test.ipynb Zelle 20\u001b[0m line \u001b[0;36m1\n\u001b[0;32m----> <a href='vscode-notebook-cell:/Users/johanneslange/Desktop/Pythonprojekte/IB-Multi-Strategy-ATS/data_and_research/strategy_test.ipynb#X32sZmlsZQ%3D%3D?line=0'>1</a>\u001b[0m place_order(ib,aapl,\u001b[39m1\u001b[39m)\n",
      "\u001b[1;32m/Users/johanneslange/Desktop/Pythonprojekte/IB-Multi-Strategy-ATS/data_and_research/strategy_test.ipynb Zelle 20\u001b[0m line \u001b[0;36m2\n\u001b[1;32m     <a href='vscode-notebook-cell:/Users/johanneslange/Desktop/Pythonprojekte/IB-Multi-Strategy-ATS/data_and_research/strategy_test.ipynb#X32sZmlsZQ%3D%3D?line=20'>21</a>\u001b[0m     \u001b[39mprint\u001b[39m(order)\n\u001b[1;32m     <a href='vscode-notebook-cell:/Users/johanneslange/Desktop/Pythonprojekte/IB-Multi-Strategy-ATS/data_and_research/strategy_test.ipynb#X32sZmlsZQ%3D%3D?line=21'>22</a>\u001b[0m \u001b[39melif\u001b[39;00m order_type \u001b[39m==\u001b[39m \u001b[39m'\u001b[39m\u001b[39mMKT\u001b[39m\u001b[39m'\u001b[39m:\n\u001b[0;32m---> <a href='vscode-notebook-cell:/Users/johanneslange/Desktop/Pythonprojekte/IB-Multi-Strategy-ATS/data_and_research/strategy_test.ipynb#X32sZmlsZQ%3D%3D?line=22'>23</a>\u001b[0m     order \u001b[39m=\u001b[39m MarketOrder()\n\u001b[1;32m     <a href='vscode-notebook-cell:/Users/johanneslange/Desktop/Pythonprojekte/IB-Multi-Strategy-ATS/data_and_research/strategy_test.ipynb#X32sZmlsZQ%3D%3D?line=24'>25</a>\u001b[0m order\u001b[39m.\u001b[39malgoStrategy \u001b[39m=\u001b[39m \u001b[39m'\u001b[39m\u001b[39mAdaptive\u001b[39m\u001b[39m'\u001b[39m\n\u001b[1;32m     <a href='vscode-notebook-cell:/Users/johanneslange/Desktop/Pythonprojekte/IB-Multi-Strategy-ATS/data_and_research/strategy_test.ipynb#X32sZmlsZQ%3D%3D?line=25'>26</a>\u001b[0m \u001b[39mif\u001b[39;00m urgency \u001b[39m==\u001b[39m \u001b[39m'\u001b[39m\u001b[39mNormal\u001b[39m\u001b[39m'\u001b[39m:\n",
      "\u001b[0;31mTypeError\u001b[0m: MarketOrder.__init__() missing 2 required positional arguments: 'action' and 'totalQuantity'"
     ]
    }
   ],
   "source": [
    "place_order(ib,aapl,1)"
   ]
  },
  {
   "cell_type": "code",
   "execution_count": 26,
   "metadata": {},
   "outputs": [],
   "source": [
    "contract = Stock(\"AMD\", 'SMART', 'USD')\n",
    "order = MarketOrder(\"BUY\", 1, algoStrategy='Adaptive', algoParams=[TagValue('adaptivePriority', 'Patient')], tif=\"DAY\") ##algos only DAY"
   ]
  },
  {
   "cell_type": "code",
   "execution_count": 27,
   "metadata": {},
   "outputs": [
    {
     "data": {
      "text/plain": [
       "ib_insync.order.MarketOrder"
      ]
     },
     "execution_count": 27,
     "metadata": {},
     "output_type": "execute_result"
    }
   ],
   "source": [
    "type(order)"
   ]
  },
  {
   "cell_type": "code",
   "execution_count": null,
   "metadata": {},
   "outputs": [],
   "source": [
    "ib.placeOrder()"
   ]
  },
  {
   "cell_type": "code",
   "execution_count": 51,
   "metadata": {},
   "outputs": [
    {
     "ename": "AttributeError",
     "evalue": "'Future' object has no attribute 'ib_code'",
     "output_type": "error",
     "traceback": [
      "\u001b[0;31m---------------------------------------------------------------------------\u001b[0m",
      "\u001b[0;31mAttributeError\u001b[0m                            Traceback (most recent call last)",
      "\u001b[1;32m/Users/johanneslange/Desktop/Pythonprojekte/IB-Multi-Strategy-ATS/data_and_research/strategy_test.ipynb Zelle 19\u001b[0m line \u001b[0;36m1\n\u001b[0;32m----> <a href='vscode-notebook-cell:/Users/johanneslange/Desktop/Pythonprojekte/IB-Multi-Strategy-ATS/data_and_research/strategy_test.ipynb#X25sZmlsZQ%3D%3D?line=0'>1</a>\u001b[0m ib\u001b[39m.\u001b[39mqualifyContracts(Future(localSymbol\u001b[39m=\u001b[39m\u001b[39m\"\u001b[39m\u001b[39mVXMF4\u001b[39m\u001b[39m\"\u001b[39m))[\u001b[39m0\u001b[39m]\u001b[39m.\u001b[39mib_code\n",
      "\u001b[0;31mAttributeError\u001b[0m: 'Future' object has no attribute 'ib_code'"
     ]
    }
   ],
   "source": [
    "ib.qualifyContracts(Future(localSymbol=\"VXMF4\"))[0].ib_code"
   ]
  },
  {
   "cell_type": "code",
   "execution_count": 8,
   "metadata": {},
   "outputs": [
    {
     "data": {
      "text/plain": [
       "[Future(conId=644107700, symbol='VXM', lastTradeDateOrContractMonth='20240117', right='0', multiplier='100', primaryExchange='CFE', currency='USD', localSymbol='VXMF4', tradingClass='VXM')]"
      ]
     },
     "execution_count": 8,
     "metadata": {},
     "output_type": "execute_result"
    }
   ],
   "source": []
  }
 ],
 "metadata": {
  "kernelspec": {
   "display_name": "base",
   "language": "python",
   "name": "python3"
  },
  "language_info": {
   "codemirror_mode": {
    "name": "ipython",
    "version": 3
   },
   "file_extension": ".py",
   "mimetype": "text/x-python",
   "name": "python",
   "nbconvert_exporter": "python",
   "pygments_lexer": "ipython3",
   "version": "3.11.6"
  }
 },
 "nbformat": 4,
 "nbformat_minor": 2
}
