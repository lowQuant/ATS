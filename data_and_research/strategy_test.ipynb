{
 "cells": [
  {
   "cell_type": "code",
   "execution_count": 1,
   "metadata": {},
   "outputs": [],
   "source": [
    "import sys\n",
    "from pathlib import Path\n",
    "\n",
    "# Get the parent directory of the current notebook's directory\n",
    "project_root = Path.cwd().parent\n",
    "\n",
    "# Add the project root to the system path\n",
    "if str(project_root) not in sys.path:\n",
    "    sys.path.append(str(project_root))\n"
   ]
  },
  {
   "cell_type": "code",
   "execution_count": 3,
   "metadata": {},
   "outputs": [],
   "source": [
    "from strategy_manager.strategies.short_vix import VRP\n",
    "from broker import connect_to_IB"
   ]
  },
  {
   "cell_type": "code",
   "execution_count": 4,
   "metadata": {},
   "outputs": [],
   "source": [
    "ib = connect_to_IB()"
   ]
  },
  {
   "cell_type": "code",
   "execution_count": 5,
   "metadata": {},
   "outputs": [
    {
     "name": "stdout",
     "output_type": "stream",
     "text": [
      "[*********************100%%**********************]  1 of 1 completed\n",
      "[*********************100%%**********************]  1 of 1 completed\n",
      "Latest Volatility Risk Premium                   Close    Return  Realised Volatility    VIX       VRP\n",
      "Date                                                                   \n",
      "2023-12-13  4707.089844  0.013651             9.012747  12.19  5.747254\n",
      "2023-12-14  4719.549805  0.002647             6.892980  12.48  7.267020\n",
      "2023-12-15  4719.189941 -0.000076             6.939476  12.28  7.240524\n",
      "2023-12-18  4740.560059  0.004528             6.971769  12.56  7.348231\n",
      "2023-12-19  4768.370117  0.005866             7.059069  12.53  6.740931\n",
      "Current Spot Rate: 12.529999732971191\n"
     ]
    },
    {
     "name": "stderr",
     "output_type": "stream",
     "text": [
      "/Users/johanneslange/Desktop/Pythonprojekte/IB-Multi-Strategy-ATS/strategy_manager/strategies/short_vix.py:56: SettingWithCopyWarning: \n",
      "A value is trying to be set on a copy of a slice from a DataFrame.\n",
      "Try using .loc[row_indexer,col_indexer] = value instead\n",
      "\n",
      "See the caveats in the documentation: https://pandas.pydata.org/pandas-docs/stable/user_guide/indexing.html#returning-a-view-versus-a-copy\n",
      "  spx_df['Realised Volatility'] = spx_df['Return'].rolling(21).std()*np.sqrt(252)*100\n"
     ]
    },
    {
     "name": "stdout",
     "output_type": "stream",
     "text": [
      "[Future(conId=639094612, symbol='VXM', lastTradeDateOrContractMonth='20231220', multiplier='100', exchange='CFE', currency='USD', localSymbol='VXMZ3', tradingClass='VXM')]: 12.38\n",
      "[Future(conId=644107700, symbol='VXM', lastTradeDateOrContractMonth='20240117', multiplier='100', exchange='CFE', currency='USD', localSymbol='VXMF4', tradingClass='VXM')]: 15.61\n",
      "[Future(conId=649526843, symbol='VXM', lastTradeDateOrContractMonth='20240214', multiplier='100', exchange='CFE', currency='USD', localSymbol='VXMG4', tradingClass='VXM')]: 16.75\n",
      "[Future(conId=656210801, symbol='VXM', lastTradeDateOrContractMonth='20240320', multiplier='100', exchange='CFE', currency='USD', localSymbol='VXMH4', tradingClass='VXM')]: 17.52\n",
      "[Future(conId=661277712, symbol='VXM', lastTradeDateOrContractMonth='20240417', multiplier='100', exchange='CFE', currency='USD', localSymbol='VXMJ4', tradingClass='VXM')]: 17.97\n"
     ]
    },
    {
     "name": "stderr",
     "output_type": "stream",
     "text": [
      "Error 200, reqId 24: Es wurde keine Wertpapierdefinition zu der Anfrage gefunden, contract: Future(symbol='VXM', lastTradeDateOrContractMonth='202406')\n",
      "Unknown contract: Future(symbol='VXM', lastTradeDateOrContractMonth='202406')\n"
     ]
    },
    {
     "name": "stdout",
     "output_type": "stream",
     "text": [
      "[Future(conId=666994095, symbol='VXM', lastTradeDateOrContractMonth='20240522', multiplier='100', exchange='CFE', currency='USD', localSymbol='VXMK4', tradingClass='VXM')]: 18.23\n"
     ]
    },
    {
     "name": "stderr",
     "output_type": "stream",
     "text": [
      "Error 200, reqId 25: Es wurde keine Wertpapierdefinition zu der Anfrage gefunden, contract: Future(symbol='VXM', lastTradeDateOrContractMonth='202407')\n",
      "Unknown contract: Future(symbol='VXM', lastTradeDateOrContractMonth='202407')\n",
      "Error 200, reqId 26: Es wurde keine Wertpapierdefinition zu der Anfrage gefunden, contract: Future(symbol='VXM', lastTradeDateOrContractMonth='202408')\n",
      "Unknown contract: Future(symbol='VXM', lastTradeDateOrContractMonth='202408')\n"
     ]
    }
   ],
   "source": [
    "vrp = VRP(ib)"
   ]
  },
  {
   "cell_type": "code",
   "execution_count": 6,
   "metadata": {},
   "outputs": [
    {
     "data": {
      "text/html": [
       "<div>\n",
       "<style scoped>\n",
       "    .dataframe tbody tr th:only-of-type {\n",
       "        vertical-align: middle;\n",
       "    }\n",
       "\n",
       "    .dataframe tbody tr th {\n",
       "        vertical-align: top;\n",
       "    }\n",
       "\n",
       "    .dataframe thead th {\n",
       "        text-align: right;\n",
       "    }\n",
       "</style>\n",
       "<table border=\"1\" class=\"dataframe\">\n",
       "  <thead>\n",
       "    <tr style=\"text-align: right;\">\n",
       "      <th></th>\n",
       "      <th>Contract</th>\n",
       "      <th>LastPrice</th>\n",
       "      <th>DTE</th>\n",
       "      <th>AnnualizedYield</th>\n",
       "    </tr>\n",
       "  </thead>\n",
       "  <tbody>\n",
       "    <tr>\n",
       "      <th>0</th>\n",
       "      <td>VIX Index</td>\n",
       "      <td>12.53</td>\n",
       "      <td>0</td>\n",
       "      <td>NaN</td>\n",
       "    </tr>\n",
       "    <tr>\n",
       "      <th>1</th>\n",
       "      <td>VXMZ3</td>\n",
       "      <td>12.38</td>\n",
       "      <td>-1</td>\n",
       "      <td>80.115197</td>\n",
       "    </tr>\n",
       "    <tr>\n",
       "      <th>2</th>\n",
       "      <td>VXMF4</td>\n",
       "      <td>15.61</td>\n",
       "      <td>27</td>\n",
       "      <td>-0.948757</td>\n",
       "    </tr>\n",
       "    <tr>\n",
       "      <th>3</th>\n",
       "      <td>VXMG4</td>\n",
       "      <td>16.75</td>\n",
       "      <td>55</td>\n",
       "      <td>-0.854322</td>\n",
       "    </tr>\n",
       "    <tr>\n",
       "      <th>4</th>\n",
       "      <td>VXMH4</td>\n",
       "      <td>17.52</td>\n",
       "      <td>90</td>\n",
       "      <td>-0.743209</td>\n",
       "    </tr>\n",
       "    <tr>\n",
       "      <th>5</th>\n",
       "      <td>VXMJ4</td>\n",
       "      <td>17.97</td>\n",
       "      <td>118</td>\n",
       "      <td>-0.672199</td>\n",
       "    </tr>\n",
       "    <tr>\n",
       "      <th>6</th>\n",
       "      <td>VXMK4</td>\n",
       "      <td>18.23</td>\n",
       "      <td>153</td>\n",
       "      <td>-0.591176</td>\n",
       "    </tr>\n",
       "  </tbody>\n",
       "</table>\n",
       "</div>"
      ],
      "text/plain": [
       "    Contract  LastPrice  DTE  AnnualizedYield\n",
       "0  VIX Index      12.53    0              NaN\n",
       "1      VXMZ3      12.38   -1        80.115197\n",
       "2      VXMF4      15.61   27        -0.948757\n",
       "3      VXMG4      16.75   55        -0.854322\n",
       "4      VXMH4      17.52   90        -0.743209\n",
       "5      VXMJ4      17.97  118        -0.672199\n",
       "6      VXMK4      18.23  153        -0.591176"
      ]
     },
     "execution_count": 6,
     "metadata": {},
     "output_type": "execute_result"
    }
   ],
   "source": [
    "vrp.term_structure"
   ]
  },
  {
   "cell_type": "code",
   "execution_count": 7,
   "metadata": {},
   "outputs": [
    {
     "data": {
      "text/plain": [
       "'VXMG4'"
      ]
     },
     "execution_count": 7,
     "metadata": {},
     "output_type": "execute_result"
    }
   ],
   "source": [
    "vrp.choose_future_to_short()"
   ]
  },
  {
   "cell_type": "code",
   "execution_count": 8,
   "metadata": {},
   "outputs": [
    {
     "data": {
      "text/html": [
       "<div>\n",
       "<style scoped>\n",
       "    .dataframe tbody tr th:only-of-type {\n",
       "        vertical-align: middle;\n",
       "    }\n",
       "\n",
       "    .dataframe tbody tr th {\n",
       "        vertical-align: top;\n",
       "    }\n",
       "\n",
       "    .dataframe thead th {\n",
       "        text-align: right;\n",
       "    }\n",
       "</style>\n",
       "<table border=\"1\" class=\"dataframe\">\n",
       "  <thead>\n",
       "    <tr style=\"text-align: right;\">\n",
       "      <th></th>\n",
       "      <th>Close</th>\n",
       "      <th>Return</th>\n",
       "      <th>Realised Volatility</th>\n",
       "      <th>VIX</th>\n",
       "      <th>VRP</th>\n",
       "    </tr>\n",
       "    <tr>\n",
       "      <th>Date</th>\n",
       "      <th></th>\n",
       "      <th></th>\n",
       "      <th></th>\n",
       "      <th></th>\n",
       "      <th></th>\n",
       "    </tr>\n",
       "  </thead>\n",
       "  <tbody>\n",
       "    <tr>\n",
       "      <th>2023-08-22</th>\n",
       "      <td>4387.549805</td>\n",
       "      <td>NaN</td>\n",
       "      <td>NaN</td>\n",
       "      <td>16.969999</td>\n",
       "      <td>NaN</td>\n",
       "    </tr>\n",
       "    <tr>\n",
       "      <th>2023-08-23</th>\n",
       "      <td>4436.009766</td>\n",
       "      <td>0.011045</td>\n",
       "      <td>NaN</td>\n",
       "      <td>15.980000</td>\n",
       "      <td>NaN</td>\n",
       "    </tr>\n",
       "    <tr>\n",
       "      <th>2023-08-24</th>\n",
       "      <td>4376.310059</td>\n",
       "      <td>-0.013458</td>\n",
       "      <td>NaN</td>\n",
       "      <td>17.200001</td>\n",
       "      <td>NaN</td>\n",
       "    </tr>\n",
       "    <tr>\n",
       "      <th>2023-08-25</th>\n",
       "      <td>4405.709961</td>\n",
       "      <td>0.006718</td>\n",
       "      <td>NaN</td>\n",
       "      <td>15.680000</td>\n",
       "      <td>NaN</td>\n",
       "    </tr>\n",
       "    <tr>\n",
       "      <th>2023-08-28</th>\n",
       "      <td>4433.310059</td>\n",
       "      <td>0.006265</td>\n",
       "      <td>NaN</td>\n",
       "      <td>15.080000</td>\n",
       "      <td>NaN</td>\n",
       "    </tr>\n",
       "    <tr>\n",
       "      <th>...</th>\n",
       "      <td>...</td>\n",
       "      <td>...</td>\n",
       "      <td>...</td>\n",
       "      <td>...</td>\n",
       "      <td>...</td>\n",
       "    </tr>\n",
       "    <tr>\n",
       "      <th>2023-12-13</th>\n",
       "      <td>4707.089844</td>\n",
       "      <td>0.013651</td>\n",
       "      <td>9.012747</td>\n",
       "      <td>12.190000</td>\n",
       "      <td>5.747254</td>\n",
       "    </tr>\n",
       "    <tr>\n",
       "      <th>2023-12-14</th>\n",
       "      <td>4719.549805</td>\n",
       "      <td>0.002647</td>\n",
       "      <td>6.892980</td>\n",
       "      <td>12.480000</td>\n",
       "      <td>7.267020</td>\n",
       "    </tr>\n",
       "    <tr>\n",
       "      <th>2023-12-15</th>\n",
       "      <td>4719.189941</td>\n",
       "      <td>-0.000076</td>\n",
       "      <td>6.939476</td>\n",
       "      <td>12.280000</td>\n",
       "      <td>7.240524</td>\n",
       "    </tr>\n",
       "    <tr>\n",
       "      <th>2023-12-18</th>\n",
       "      <td>4740.560059</td>\n",
       "      <td>0.004528</td>\n",
       "      <td>6.971769</td>\n",
       "      <td>12.560000</td>\n",
       "      <td>7.348231</td>\n",
       "    </tr>\n",
       "    <tr>\n",
       "      <th>2023-12-19</th>\n",
       "      <td>4768.370117</td>\n",
       "      <td>0.005866</td>\n",
       "      <td>7.059069</td>\n",
       "      <td>12.530000</td>\n",
       "      <td>6.740931</td>\n",
       "    </tr>\n",
       "  </tbody>\n",
       "</table>\n",
       "<p>84 rows × 5 columns</p>\n",
       "</div>"
      ],
      "text/plain": [
       "                  Close    Return  Realised Volatility        VIX       VRP\n",
       "Date                                                                       \n",
       "2023-08-22  4387.549805       NaN                  NaN  16.969999       NaN\n",
       "2023-08-23  4436.009766  0.011045                  NaN  15.980000       NaN\n",
       "2023-08-24  4376.310059 -0.013458                  NaN  17.200001       NaN\n",
       "2023-08-25  4405.709961  0.006718                  NaN  15.680000       NaN\n",
       "2023-08-28  4433.310059  0.006265                  NaN  15.080000       NaN\n",
       "...                 ...       ...                  ...        ...       ...\n",
       "2023-12-13  4707.089844  0.013651             9.012747  12.190000  5.747254\n",
       "2023-12-14  4719.549805  0.002647             6.892980  12.480000  7.267020\n",
       "2023-12-15  4719.189941 -0.000076             6.939476  12.280000  7.240524\n",
       "2023-12-18  4740.560059  0.004528             6.971769  12.560000  7.348231\n",
       "2023-12-19  4768.370117  0.005866             7.059069  12.530000  6.740931\n",
       "\n",
       "[84 rows x 5 columns]"
      ]
     },
     "execution_count": 8,
     "metadata": {},
     "output_type": "execute_result"
    },
    {
     "name": "stderr",
     "output_type": "stream",
     "text": [
      "Error 1100, reqId -1: Verbindung zwischen %SHORT:COMPNAME% und Trader Workstation ist abgebrochen.\n",
      "Error 1100, reqId -1: Verbindung zwischen %SHORT:COMPNAME% und Trader Workstation ist abgebrochen.\n"
     ]
    }
   ],
   "source": [
    "vrp.vrp_df"
   ]
  },
  {
   "cell_type": "code",
   "execution_count": null,
   "metadata": {},
   "outputs": [],
   "source": []
  }
 ],
 "metadata": {
  "kernelspec": {
   "display_name": "base",
   "language": "python",
   "name": "python3"
  },
  "language_info": {
   "codemirror_mode": {
    "name": "ipython",
    "version": 3
   },
   "file_extension": ".py",
   "mimetype": "text/x-python",
   "name": "python",
   "nbconvert_exporter": "python",
   "pygments_lexer": "ipython3",
   "version": "3.11.6"
  }
 },
 "nbformat": 4,
 "nbformat_minor": 2
}
