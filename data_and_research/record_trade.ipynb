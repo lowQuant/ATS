{
 "cells": [
  {
   "cell_type": "code",
   "execution_count": 2,
   "metadata": {},
   "outputs": [],
   "source": [
    "import datetime\n",
    "from ib_insync import *\n",
    "import pandas as pd\n",
    "from pandas import Timestamp\n",
    "from pytvlwcharts import *\n",
    "from arcticdb import Arctic, QueryBuilder, LibraryOptions\n",
    "\n",
    "import sys\n",
    "from pathlib import Path\n",
    "\n",
    "# Get the parent directory of the current notebook's directory\n",
    "project_root = Path.cwd().parent\n",
    "\n",
    "# Add the project root to the system path\n",
    "if str(project_root) not in sys.path:\n",
    "    sys.path.append(str(project_root))\n",
    "\n",
    "try:\n",
    "    from strategy_manager import StrategyManager\n",
    "    from strategy_manager.strategies.temple_w_fill import Strategy\n",
    "    from broker.connection import connect_to_IB\n",
    "    from broker.trademanager import TradeManager\n",
    "    from broker.portfolio import PortfolioManager\n",
    "    from data_and_research import ac, initialize_db\n",
    "except:\n",
    "    from strategy_manager import StrategyManager\n",
    "    from strategy_manager.strategies.temple_w_fill import Strategy\n",
    "    from broker.connection import connect_to_IB\n",
    "    from broker.trademanager import TradeManager\n",
    "    from broker.portfolio import PortfolioManager\n",
    "    from data_and_research import ac, initialize_db"
   ]
  },
  {
   "cell_type": "code",
   "execution_count": 3,
   "metadata": {},
   "outputs": [],
   "source": [
    "ib = connect_to_IB()\n",
    "trade_manager = TradeManager()"
   ]
  },
  {
   "cell_type": "code",
   "execution_count": 23,
   "metadata": {},
   "outputs": [],
   "source": [
    "# Functions\n",
    "   \n",
    "def trade(ib, contract, quantity, order_type='MKT', urgency='Patient', orderRef=\"\", limit=None, outsideRth=True):\n",
    "    \"\"\"\n",
    "    Place an Order on the exchange via ib_insync.\n",
    "    \n",
    "    :param ib: ib insync instance.\n",
    "    :param contract: ib.Contract\n",
    "    :param quantity: order size as a signed integer (quantity > 0 means 'BUY' and quantity < 0 means 'SELL')\n",
    "    :param order_type: order type such as 'LMT', 'MKT' etc.\n",
    "    :param urgency: 'Patient' (default), 'Normal', 'Urgent'\n",
    "    :param limit: if order_type 'LMT' state limit as float\n",
    "    \"\"\"\n",
    "    ib.qualifyContracts(contract)\n",
    "\n",
    "    # Create order object\n",
    "    action = 'BUY' if quantity > 0 else 'SELL'\n",
    "    totalQuantity = int(abs(quantity))\n",
    "\n",
    "    if order_type == 'LMT':\n",
    "        assert limit, \"Limit price must be specified for limit orders.\"\n",
    "        lmtPrice = float(limit)\n",
    "        order = LimitOrder(action, totalQuantity, lmtPrice)\n",
    "    elif order_type == 'MKT':\n",
    "        order = MarketOrder(action, totalQuantity)\n",
    "\n",
    "    # order.algoStrategy = 'Adaptive'\n",
    "    # if urgency == 'Normal':\n",
    "    #     order.algoParams = [TagValue('adaptivePriority', 'Normal')]\n",
    "    # elif urgency == 'Urgent':\n",
    "    #     order.algoParams = [TagValue('adaptivePriority', 'Urgent')]\n",
    "    # else:\n",
    "    #     order.algoParams = [TagValue('adaptivePriority', 'Patient')]\n",
    "\n",
    "    order.orderRef = orderRef\n",
    "    order.outsideRth = outsideRth\n",
    "    # Place the order\n",
    "    trade = ib.placeOrder(contract, order)\n",
    "    ib.sleep(1)\n",
    "    return trade\n",
    "       \n",
    "\n",
    "def on_fill( trade, fill):\n",
    "    # Handle fill event\n",
    "    message_dict = {\n",
    "        'type': 'fill',\n",
    "        'strategy': 'my_symbol',\n",
    "        'trade': trade,\n",
    "        'fill': fill\n",
    "    }\n",
    "    return message_dict\n",
    "    \n",
    "\n",
    "\n"
   ]
  },
  {
   "cell_type": "code",
   "execution_count": 24,
   "metadata": {},
   "outputs": [
    {
     "name": "stdout",
     "output_type": "stream",
     "text": [
      "Submitted\n",
      "Trade(contract=Stock(conId=265598, symbol='AAPL', exchange='SMART', primaryExchange='ISLAND', currency='USD', localSymbol='AAPL', tradingClass='NMS'), order=LimitOrder(orderId=165, permId=1365223704, action='BUY', totalQuantity=1.0, lmtPrice=99.0, auxPrice=0.0, orderRef='JUPYTER', outsideRth=True), orderStatus=OrderStatus(orderId=165, status='Submitted', filled=0.0, remaining=1.0, avgFillPrice=0.0, permId=1365223704, parentId=0, lastFillPrice=0.0, clientId=0, whyHeld='', mktCapPrice=0.0), fills=[], log=[TradeLogEntry(time=datetime.datetime(2024, 4, 5, 20, 33, 6, 547111, tzinfo=datetime.timezone.utc), status='PendingSubmit', message='', errorCode=0), TradeLogEntry(time=datetime.datetime(2024, 4, 5, 20, 33, 6, 963118, tzinfo=datetime.timezone.utc), status='Submitted', message='', errorCode=0)], advancedError='')\n"
     ]
    }
   ],
   "source": [
    "# TRADE LOGIC\n",
    "\n",
    "# Add Trading logic\n",
    "contract = Stock('AAPL', 'SMART', 'USD')\n",
    "trade = trade(ib,contract,1,order_type='LMT',orderRef='JUPYTER', limit=99)\n",
    "\n",
    "    # Assign callbacks for order updates\n",
    "trade.fillEvent += on_fill\n",
    "\n",
    "ib.sleep(1)\n",
    "        \n",
    "while True:\n",
    "    # This integrates the ib_insync event loop\n",
    "    # Additional strategy logic here\n",
    "    ib.sleep(1)\n",
    "    if trade.order and trade.orderStatus.status != \"Cancelled\":\n",
    "        #trade = ib.cancelOrder(trade.order)\n",
    "        print(trade.orderStatus.status)\n",
    "    \n",
    "    if trade.orderStatus.status == 'Submitted':\n",
    "        print(trade)\n",
    "        break\n",
    "    \n"
   ]
  },
  {
   "cell_type": "code",
   "execution_count": 10,
   "metadata": {},
   "outputs": [
    {
     "ename": "TypeError",
     "evalue": "Strategy.__init__() missing 2 required positional arguments: 'client_id' and 'strategy_manager'",
     "output_type": "error",
     "traceback": [
      "\u001b[1;31m---------------------------------------------------------------------------\u001b[0m",
      "\u001b[1;31mTypeError\u001b[0m                                 Traceback (most recent call last)",
      "\u001b[1;32mc:\\Users\\Johannes.Lange\\pythonscripts\\ATS\\data_and_research\\record_trade.ipynb Zelle 5\u001b[0m in \u001b[0;36m<cell line: 1>\u001b[1;34m()\u001b[0m\n\u001b[1;32m----> <a href='vscode-notebook-cell:/c%3A/Users/Johannes.Lange/pythonscripts/ATS/data_and_research/record_trade.ipynb#ch0000002?line=0'>1</a>\u001b[0m Strategy \u001b[39m=\u001b[39m Strategy()\n",
      "\u001b[1;31mTypeError\u001b[0m: Strategy.__init__() missing 2 required positional arguments: 'client_id' and 'strategy_manager'"
     ]
    }
   ],
   "source": [
    "Strategy = Strategy()"
   ]
  },
  {
   "cell_type": "code",
   "execution_count": null,
   "metadata": {},
   "outputs": [],
   "source": [
    "StrategyManager = StrategyManager()"
   ]
  }
 ],
 "metadata": {
  "kernelspec": {
   "display_name": "Python 3.10.5 64-bit",
   "language": "python",
   "name": "python3"
  },
  "language_info": {
   "codemirror_mode": {
    "name": "ipython",
    "version": 3
   },
   "file_extension": ".py",
   "mimetype": "text/x-python",
   "name": "python",
   "nbconvert_exporter": "python",
   "pygments_lexer": "ipython3",
   "version": "3.10.5"
  },
  "orig_nbformat": 4,
  "vscode": {
   "interpreter": {
    "hash": "9b4d75ac280b6c7c3aa43866cb82dc88915409b55fec83a093dd0284cb58708e"
   }
  }
 },
 "nbformat": 4,
 "nbformat_minor": 2
}
