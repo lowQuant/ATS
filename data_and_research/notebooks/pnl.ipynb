{
 "cells": [
  {
   "cell_type": "code",
   "execution_count": null,
   "metadata": {},
   "outputs": [
    {
     "ename": "",
     "evalue": "",
     "output_type": "error",
     "traceback": [
      "\u001b[1;31mDer Kernel konnte nicht gestartet werden. \n",
      "\u001b[1;31mAttributeError: module 'psutil._psutil_posix' has no attribute 'getpagesize'. \n",
      "\u001b[1;31mWeitere Details finden Sie in Jupyter <a href='command:jupyter.viewOutput'>log</a>."
     ]
    }
   ],
   "source": [
    "import datetime\n",
    "from ib_async import *\n",
    "import pandas as pd\n",
    "from arcticdb import Arctic, QueryBuilder, LibraryOptions\n",
    "\n",
    "import sys\n",
    "from pathlib import Path\n",
    "\n",
    "# Get the parent directory of the current notebook's directory\n",
    "project_root = Path.cwd().parent\n",
    "\n",
    "# Add the project root to the system path\n",
    "if str(project_root) not in sys.path:\n",
    "    sys.path.append(str(project_root))\n",
    "\n",
    "try:\n",
    "    from strategy_manager.strategies.short_vix import Strategy\n",
    "    from broker.connection import connect_to_IB\n",
    "    from broker.trademanager import TradeManager\n",
    "    from broker.portfolio import PortfolioManager\n",
    "    from data_and_research import ac, initialize_db\n",
    "except:\n",
    "    from strategy_manager.strategies.short_vix import Strategy\n",
    "    from broker.connection import connect_to_IB\n",
    "    from broker.trademanager import TradeManager\n",
    "    from broker.portfolio import PortfolioManager\n",
    "    from data_and_research import ac, initialize_db"
   ]
  },
  {
   "cell_type": "code",
   "execution_count": 24,
   "metadata": {},
   "outputs": [],
   "source": [
    "ac.delete_library('pnl')"
   ]
  },
  {
   "cell_type": "code",
   "execution_count": 2,
   "metadata": {},
   "outputs": [],
   "source": [
    "ib = connect_to_IB(clientid=2)"
   ]
  },
  {
   "cell_type": "code",
   "execution_count": 3,
   "metadata": {},
   "outputs": [
    {
     "data": {
      "text/plain": [
       "Arctic(config=S3(endpoint=s3.eu-central-1.amazonaws.com, bucket=lowquant-arcticdb))"
      ]
     },
     "execution_count": 3,
     "metadata": {},
     "output_type": "execute_result"
    }
   ],
   "source": [
    "ac = initialize_db('db')\n",
    "ac"
   ]
  },
  {
   "cell_type": "code",
   "execution_count": 10,
   "metadata": {},
   "outputs": [],
   "source": [
    "trade = Trade(contract=Stock(conId=265598, symbol='AAPL', exchange='SMART', primaryExchange='ISLAND', currency='USD', localSymbol='AAPL', tradingClass='NMS'), order=LimitOrder(orderId=16, clientId=2, permId=1769050860, action='BUY', totalQuantity=1.0, lmtPrice=0.99, auxPrice=0.0, orderRef='AAPL', algoStrategy='Adaptive', algoParams=[TagValue(tag='adaptivePriority', value='Patient')]), orderStatus=OrderStatus(orderId=16, status='PreSubmitted', filled=0.0, remaining=1.0, avgFillPrice=0.0, permId=1769050860, parentId=0, lastFillPrice=0.0, clientId=2, whyHeld='', mktCapPrice=0.0), fills=[], log=[TradeLogEntry(time=datetime.datetime(2024, 4, 6, 18, 24, 12, 56742, tzinfo=datetime.timezone.utc), status='PendingSubmit', message='', errorCode=0), TradeLogEntry(time=datetime.datetime(2024, 4, 6, 18, 24, 12, 117234, tzinfo=datetime.timezone.utc), status='PreSubmitted', message='', errorCode=0)], advancedError='')"
   ]
  },
  {
   "cell_type": "code",
   "execution_count": 17,
   "metadata": {},
   "outputs": [
    {
     "data": {
      "text/plain": [
       "\"Trade(contract=Stock(conId=265598, symbol='AAPL', exchange='SMART', primaryExchange='ISLAND', currency='USD', localSymbol='AAPL', tradingClass='NMS'), order=LimitOrder(orderId=16, clientId=2, permId=1769050860, action='BUY', totalQuantity=1.0, lmtPrice=0.99, auxPrice=0.0, orderRef='AAPL', algoStrategy='Adaptive', algoParams=[TagValue(tag='adaptivePriority', value='Patient')]), orderStatus=OrderStatus(orderId=16, status='PreSubmitted', filled=0.0, remaining=1.0, avgFillPrice=0.0, permId=1769050860, parentId=0, lastFillPrice=0.0, clientId=2, whyHeld='', mktCapPrice=0.0), fills=[], log=[TradeLogEntry(time=datetime.datetime(2024, 4, 6, 18, 24, 12, 56742, tzinfo=datetime.timezone.utc), status='PendingSubmit', message='', errorCode=0), TradeLogEntry(time=datetime.datetime(2024, 4, 6, 18, 24, 12, 117234, tzinfo=datetime.timezone.utc), status='PreSubmitted', message='', errorCode=0)], advancedError='')\""
      ]
     },
     "execution_count": 17,
     "metadata": {},
     "output_type": "execute_result"
    }
   ],
   "source": [
    "str(trade)"
   ]
  },
  {
   "cell_type": "code",
   "execution_count": 14,
   "metadata": {},
   "outputs": [
    {
     "data": {
      "text/plain": [
       "Stock(conId=265598, symbol='AAPL', exchange='SMART', primaryExchange='ISLAND', currency='USD', localSymbol='AAPL', tradingClass='NMS')"
      ]
     },
     "execution_count": 14,
     "metadata": {},
     "output_type": "execute_result"
    }
   ],
   "source": [
    "trade.order.totalQuantity\n",
    "trade.contract"
   ]
  },
  {
   "cell_type": "code",
   "execution_count": null,
   "metadata": {},
   "outputs": [],
   "source": [
    "strategy_symbol = 'test'\n",
    "trade_dict = {'timestamp': datetime.datetime.now().strftime('%Y-%m-%d %H:%M'),\n",
    "                'symbol': trade.contract.symbol,\n",
    "                'asset class': trade.contract.secType,\n",
    "                'position': trade.order.totalQuantity,\n",
    "                '% of nav': 0, # to be calculated\n",
    "                'averageCost': trade.orderStatus.avgFillPrice,\n",
    "                'marketPrice': trade.orderStatus.lastFillPrice,\n",
    "                'pnl %': 0, # to be calculated\n",
    "                'strategy': trade.order.orderRef if trade.order.orderRef else strategy_symbol,\n",
    "                'contract': trade.contract,\n",
    "                'trade': str(trade),\n",
    "                'open_dt':datetime.date.today().isoformat(),\n",
    "                'close_dt': '',\n",
    "                'deleted': False,\n",
    "                'delete_dt': '',\n",
    "                'marketValue': 0, # to be calculated\n",
    "                'unrealizedPNL': 0, # to be calculated\n",
    "                'currency':trade.contract.currency,\n",
    "                'realizedPNL': 0, # to be calculated\n",
    "                'account': self.account_id if self.account_id else ib.managedAccounts()[0],\n",
    "                'marketValue_base': None,\n",
    "                'fx_rate': None}"
   ]
  },
  {
   "cell_type": "code",
   "execution_count": 26,
   "metadata": {},
   "outputs": [
    {
     "data": {
      "text/plain": [
       "b'\\x80\\x04\\x95h\\x10\\x00\\x00\\x00\\x00\\x00\\x00\\x8c\\x0fib_insync.order\\x94\\x8c\\x05Trade\\x94\\x93\\x94)\\x81\\x94}\\x94(\\x8c\\x08contract\\x94\\x8c\\x12ib_insync.contract\\x94\\x8c\\x05Stock\\x94\\x93\\x94)\\x81\\x94}\\x94(\\x8c\\x07secType\\x94\\x8c\\x03STK\\x94\\x8c\\x05conId\\x94J~\\r\\x04\\x00\\x8c\\x06symbol\\x94\\x8c\\x04AAPL\\x94\\x8c\\x1clastTradeDateOrContractMonth\\x94\\x8c\\x00\\x94\\x8c\\x06strike\\x94G\\x00\\x00\\x00\\x00\\x00\\x00\\x00\\x00\\x8c\\x05right\\x94h\\x11\\x8c\\nmultiplier\\x94h\\x11\\x8c\\x08exchange\\x94\\x8c\\x05SMART\\x94\\x8c\\x0fprimaryExchange\\x94\\x8c\\x06ISLAND\\x94\\x8c\\x08currency\\x94\\x8c\\x03USD\\x94\\x8c\\x0blocalSymbol\\x94h\\x0f\\x8c\\x0ctradingClass\\x94\\x8c\\x03NMS\\x94\\x8c\\x0eincludeExpired\\x94\\x89\\x8c\\tsecIdType\\x94h\\x11\\x8c\\x05secId\\x94h\\x11\\x8c\\x0bdescription\\x94h\\x11\\x8c\\x08issuerId\\x94h\\x11\\x8c\\x10comboLegsDescrip\\x94h\\x11\\x8c\\tcomboLegs\\x94]\\x94\\x8c\\x14deltaNeutralContract\\x94Nub\\x8c\\x05order\\x94h\\x00\\x8c\\nLimitOrder\\x94\\x93\\x94)\\x81\\x94}\\x94(\\x8c\\x07orderId\\x94K\\x10\\x8c\\x08clientId\\x94K\\x02\\x8c\\x06permId\\x94J\\xec\\x92qi\\x8c\\x06action\\x94\\x8c\\x03BUY\\x94\\x8c\\rtotalQuantity\\x94G?\\xf0\\x00\\x00\\x00\\x00\\x00\\x00\\x8c\\torderType\\x94\\x8c\\x03LMT\\x94\\x8c\\x08lmtPrice\\x94G?\\xef\\xae\\x14z\\xe1G\\xae\\x8c\\x08auxPrice\\x94G\\x00\\x00\\x00\\x00\\x00\\x00\\x00\\x00\\x8c\\x03tif\\x94h\\x11\\x8c\\x0factiveStartTime\\x94h\\x11\\x8c\\x0eactiveStopTime\\x94h\\x11\\x8c\\x08ocaGroup\\x94h\\x11\\x8c\\x07ocaType\\x94K\\x00\\x8c\\x08orderRef\\x94h\\x0f\\x8c\\x08transmit\\x94\\x88\\x8c\\x08parentId\\x94K\\x00\\x8c\\nblockOrder\\x94\\x89\\x8c\\x0bsweepToFill\\x94\\x89\\x8c\\x0bdisplaySize\\x94K\\x00\\x8c\\rtriggerMethod\\x94K\\x00\\x8c\\noutsideRth\\x94\\x89\\x8c\\x06hidden\\x94\\x89\\x8c\\rgoodAfterTime\\x94h\\x11\\x8c\\x0cgoodTillDate\\x94h\\x11\\x8c\\x07rule80A\\x94h\\x11\\x8c\\tallOrNone\\x94\\x89\\x8c\\x06minQty\\x94J\\xff\\xff\\xff\\x7f\\x8c\\rpercentOffset\\x94G\\x7f\\xef\\xff\\xff\\xff\\xff\\xff\\xff\\x8c\\x1doverridePercentageConstraints\\x94\\x89\\x8c\\x0etrailStopPrice\\x94G\\x7f\\xef\\xff\\xff\\xff\\xff\\xff\\xff\\x8c\\x0ftrailingPercent\\x94G\\x7f\\xef\\xff\\xff\\xff\\xff\\xff\\xff\\x8c\\x07faGroup\\x94h\\x11\\x8c\\tfaProfile\\x94h\\x11\\x8c\\x08faMethod\\x94h\\x11\\x8c\\x0cfaPercentage\\x94h\\x11\\x8c\\x12designatedLocation\\x94h\\x11\\x8c\\topenClose\\x94\\x8c\\x01O\\x94\\x8c\\x06origin\\x94K\\x00\\x8c\\rshortSaleSlot\\x94K\\x00\\x8c\\nexemptCode\\x94J\\xff\\xff\\xff\\xff\\x8c\\x10discretionaryAmt\\x94G\\x00\\x00\\x00\\x00\\x00\\x00\\x00\\x00\\x8c\\neTradeOnly\\x94\\x89\\x8c\\rfirmQuoteOnly\\x94\\x89\\x8c\\x0cnbboPriceCap\\x94G\\x7f\\xef\\xff\\xff\\xff\\xff\\xff\\xff\\x8c\\x12optOutSmartRouting\\x94\\x89\\x8c\\x0fauctionStrategy\\x94K\\x00\\x8c\\rstartingPrice\\x94G\\x7f\\xef\\xff\\xff\\xff\\xff\\xff\\xff\\x8c\\rstockRefPrice\\x94G\\x7f\\xef\\xff\\xff\\xff\\xff\\xff\\xff\\x8c\\x05delta\\x94G\\x7f\\xef\\xff\\xff\\xff\\xff\\xff\\xff\\x8c\\x0fstockRangeLower\\x94G\\x7f\\xef\\xff\\xff\\xff\\xff\\xff\\xff\\x8c\\x0fstockRangeUpper\\x94G\\x7f\\xef\\xff\\xff\\xff\\xff\\xff\\xff\\x8c\\x0erandomizePrice\\x94\\x89\\x8c\\rrandomizeSize\\x94\\x89\\x8c\\nvolatility\\x94G\\x7f\\xef\\xff\\xff\\xff\\xff\\xff\\xff\\x8c\\x0evolatilityType\\x94J\\xff\\xff\\xff\\x7f\\x8c\\x15deltaNeutralOrderType\\x94h\\x11\\x8c\\x14deltaNeutralAuxPrice\\x94G\\x7f\\xef\\xff\\xff\\xff\\xff\\xff\\xff\\x8c\\x11deltaNeutralConId\\x94K\\x00\\x8c\\x18deltaNeutralSettlingFirm\\x94h\\x11\\x8c\\x1bdeltaNeutralClearingAccount\\x94h\\x11\\x8c\\x1adeltaNeutralClearingIntent\\x94h\\x11\\x8c\\x15deltaNeutralOpenClose\\x94h\\x11\\x8c\\x15deltaNeutralShortSale\\x94\\x89\\x8c\\x19deltaNeutralShortSaleSlot\\x94K\\x00\\x8c\\x1edeltaNeutralDesignatedLocation\\x94h\\x11\\x8c\\x10continuousUpdate\\x94\\x89\\x8c\\x12referencePriceType\\x94J\\xff\\xff\\xff\\x7f\\x8c\\x0bbasisPoints\\x94G\\x7f\\xef\\xff\\xff\\xff\\xff\\xff\\xff\\x8c\\x0fbasisPointsType\\x94J\\xff\\xff\\xff\\x7f\\x8c\\x12scaleInitLevelSize\\x94J\\xff\\xff\\xff\\x7f\\x8c\\x12scaleSubsLevelSize\\x94J\\xff\\xff\\xff\\x7f\\x8c\\x13scalePriceIncrement\\x94G\\x7f\\xef\\xff\\xff\\xff\\xff\\xff\\xff\\x8c\\x15scalePriceAdjustValue\\x94G\\x7f\\xef\\xff\\xff\\xff\\xff\\xff\\xff\\x8c\\x18scalePriceAdjustInterval\\x94J\\xff\\xff\\xff\\x7f\\x8c\\x11scaleProfitOffset\\x94G\\x7f\\xef\\xff\\xff\\xff\\xff\\xff\\xff\\x8c\\x0escaleAutoReset\\x94\\x89\\x8c\\x11scaleInitPosition\\x94J\\xff\\xff\\xff\\x7f\\x8c\\x10scaleInitFillQty\\x94J\\xff\\xff\\xff\\x7f\\x8c\\x12scaleRandomPercent\\x94\\x89\\x8c\\nscaleTable\\x94h\\x11\\x8c\\thedgeType\\x94h\\x11\\x8c\\nhedgeParam\\x94h\\x11\\x8c\\x07account\\x94h\\x11\\x8c\\x0csettlingFirm\\x94h\\x11\\x8c\\x0fclearingAccount\\x94h\\x11\\x8c\\x0eclearingIntent\\x94h\\x11\\x8c\\x0calgoStrategy\\x94\\x8c\\x08Adaptive\\x94\\x8c\\nalgoParams\\x94]\\x94h\\x06\\x8c\\x08TagValue\\x94\\x93\\x94\\x8c\\x10adaptivePriority\\x94\\x8c\\x07Patient\\x94\\x86\\x94\\x81\\x94a\\x8c\\x17smartComboRoutingParams\\x94]\\x94\\x8c\\x06algoId\\x94h\\x11\\x8c\\x06whatIf\\x94\\x89\\x8c\\x07notHeld\\x94\\x89\\x8c\\tsolicited\\x94\\x89\\x8c\\tmodelCode\\x94h\\x11\\x8c\\x0eorderComboLegs\\x94]\\x94\\x8c\\x10orderMiscOptions\\x94]\\x94\\x8c\\x13referenceContractId\\x94K\\x00\\x8c\\x12peggedChangeAmount\\x94G\\x00\\x00\\x00\\x00\\x00\\x00\\x00\\x00\\x8c\\x1cisPeggedChangeAmountDecrease\\x94\\x89\\x8c\\x15referenceChangeAmount\\x94G\\x00\\x00\\x00\\x00\\x00\\x00\\x00\\x00\\x8c\\x13referenceExchangeId\\x94h\\x11\\x8c\\x11adjustedOrderType\\x94h\\x11\\x8c\\x0ctriggerPrice\\x94G\\x7f\\xef\\xff\\xff\\xff\\xff\\xff\\xff\\x8c\\x11adjustedStopPrice\\x94G\\x7f\\xef\\xff\\xff\\xff\\xff\\xff\\xff\\x8c\\x16adjustedStopLimitPrice\\x94G\\x7f\\xef\\xff\\xff\\xff\\xff\\xff\\xff\\x8c\\x16adjustedTrailingAmount\\x94G\\x7f\\xef\\xff\\xff\\xff\\xff\\xff\\xff\\x8c\\x16adjustableTrailingUnit\\x94K\\x00\\x8c\\x0elmtPriceOffset\\x94G\\x7f\\xef\\xff\\xff\\xff\\xff\\xff\\xff\\x8c\\nconditions\\x94]\\x94\\x8c\\x15conditionsCancelOrder\\x94\\x89\\x8c\\x13conditionsIgnoreRth\\x94\\x89\\x8c\\x0bextOperator\\x94h\\x11\\x8c\\x0esoftDollarTier\\x94\\x8c\\x11ib_insync.objects\\x94\\x8c\\x0eSoftDollarTier\\x94\\x93\\x94)\\x81\\x94}\\x94(\\x8c\\x04name\\x94h\\x11\\x8c\\x03val\\x94h\\x11\\x8c\\x0bdisplayName\\x94h\\x11ub\\x8c\\x07cashQty\\x94G\\x7f\\xef\\xff\\xff\\xff\\xff\\xff\\xff\\x8c\\x13mifid2DecisionMaker\\x94h\\x11\\x8c\\x12mifid2DecisionAlgo\\x94h\\x11\\x8c\\x15mifid2ExecutionTrader\\x94h\\x11\\x8c\\x13mifid2ExecutionAlgo\\x94h\\x11\\x8c\\x18dontUseAutoPriceForHedge\\x94\\x89\\x8c\\x0eisOmsContainer\\x94\\x89\\x8c\\x1bdiscretionaryUpToLimitPrice\\x94\\x89\\x8c\\x0eautoCancelDate\\x94h\\x11\\x8c\\x0efilledQuantity\\x94G\\x7f\\xef\\xff\\xff\\xff\\xff\\xff\\xff\\x8c\\x0frefFuturesConId\\x94K\\x00\\x8c\\x10autoCancelParent\\x94\\x89\\x8c\\x0bshareholder\\x94h\\x11\\x8c\\rimbalanceOnly\\x94\\x89\\x8c\\x14routeMarketableToBbo\\x94\\x89\\x8c\\x0cparentPermId\\x94K\\x00\\x8c\\x10usePriceMgmtAlgo\\x94\\x89\\x8c\\x08duration\\x94J\\xff\\xff\\xff\\x7f\\x8c\\tpostToAts\\x94J\\xff\\xff\\xff\\x7f\\x8c\\x15advancedErrorOverride\\x94h\\x11\\x8c\\x0fmanualOrderTime\\x94h\\x11\\x8c\\x0bminTradeQty\\x94J\\xff\\xff\\xff\\x7f\\x8c\\x0eminCompeteSize\\x94J\\xff\\xff\\xff\\x7f\\x8c\\x18competeAgainstBestOffset\\x94G\\x7f\\xef\\xff\\xff\\xff\\xff\\xff\\xff\\x8c\\x10midOffsetAtWhole\\x94G\\x7f\\xef\\xff\\xff\\xff\\xff\\xff\\xff\\x8c\\x0fmidOffsetAtHalf\\x94G\\x7f\\xef\\xff\\xff\\xff\\xff\\xff\\xffub\\x8c\\x0borderStatus\\x94h\\x00\\x8c\\x0bOrderStatus\\x94\\x93\\x94)\\x81\\x94}\\x94(h,K\\x10\\x8c\\x06status\\x94\\x8c\\x0cPreSubmitted\\x94\\x8c\\x06filled\\x94G\\x00\\x00\\x00\\x00\\x00\\x00\\x00\\x00\\x8c\\tremaining\\x94G?\\xf0\\x00\\x00\\x00\\x00\\x00\\x00\\x8c\\x0cavgFillPrice\\x94G\\x00\\x00\\x00\\x00\\x00\\x00\\x00\\x00h.J\\xec\\x92qih=K\\x00\\x8c\\rlastFillPrice\\x94G\\x00\\x00\\x00\\x00\\x00\\x00\\x00\\x00h-K\\x02\\x8c\\x07whyHeld\\x94h\\x11\\x8c\\x0bmktCapPrice\\x94G\\x00\\x00\\x00\\x00\\x00\\x00\\x00\\x00ub\\x8c\\x05fills\\x94]\\x94\\x8c\\x03log\\x94]\\x94(h\\xac\\x8c\\rTradeLogEntry\\x94\\x93\\x94)\\x81\\x94}\\x94(\\x8c\\x04time\\x94\\x8c\\x08datetime\\x94\\x8c\\x08datetime\\x94\\x93\\x94C\\n\\x07\\xe8\\x04\\x06\\x12\\x18\\x0c\\x00\\xdd\\xa6\\x94h\\xe4\\x8c\\x08timezone\\x94\\x93\\x94h\\xe4\\x8c\\ttimedelta\\x94\\x93\\x94K\\x00K\\x00K\\x00\\x87\\x94R\\x94\\x85\\x94R\\x94\\x86\\x94R\\x94h\\xd3\\x8c\\rPendingSubmit\\x94\\x8c\\x07message\\x94h\\x11\\x8c\\terrorCode\\x94K\\x00ubh\\xe0)\\x81\\x94}\\x94(h\\xe3h\\xe6C\\n\\x07\\xe8\\x04\\x06\\x12\\x18\\x0c\\x01\\xc9\\xf2\\x94h\\xef\\x86\\x94R\\x94h\\xd3h\\xd4h\\xf3h\\x11h\\xf4K\\x00ube\\x8c\\radvancedError\\x94h\\x11\\x8c\\x0bstatusEvent\\x94\\x8c\\x0eeventkit.event\\x94\\x8c\\x05Event\\x94\\x93\\x94h\\xfb\\x88\\x86\\x94R\\x94\\x8c\\x0bmodifyEvent\\x94h\\xfej\\x01\\x01\\x00\\x00\\x88\\x86\\x94R\\x94\\x8c\\tfillEvent\\x94h\\xfej\\x04\\x01\\x00\\x00\\x88\\x86\\x94R\\x94\\x8c\\x15commissionReportEvent\\x94h\\xfej\\x07\\x01\\x00\\x00\\x88\\x86\\x94R\\x94\\x8c\\x0bfilledEvent\\x94h\\xfej\\n\\x01\\x00\\x00\\x88\\x86\\x94R\\x94\\x8c\\x0bcancelEvent\\x94h\\xfej\\r\\x01\\x00\\x00\\x88\\x86\\x94R\\x94\\x8c\\x0ecancelledEvent\\x94h\\xfej\\x10\\x01\\x00\\x00\\x88\\x86\\x94R\\x94ub.'"
      ]
     },
     "execution_count": 26,
     "metadata": {},
     "output_type": "execute_result"
    }
   ],
   "source": [
    "import pickle\n",
    "serialized_trade = pickle.dumps(trade)\n",
    "\n",
    "serialized_trade"
   ]
  },
  {
   "cell_type": "code",
   "execution_count": 28,
   "metadata": {},
   "outputs": [
    {
     "data": {
      "text/plain": [
       "'\\x80\\x04\\x95h\\x10\\x00\\x00\\x00\\x00\\x00\\x00\\x8c\\x0fib_insync.order\\x94\\x8c\\x05Trade\\x94\\x93\\x94)\\x81\\x94}\\x94(\\x8c\\x08contract\\x94\\x8c\\x12ib_insync.contract\\x94\\x8c\\x05Stock\\x94\\x93\\x94)\\x81\\x94}\\x94(\\x8c\\x07secType\\x94\\x8c\\x03STK\\x94\\x8c\\x05conId\\x94J~\\r\\x04\\x00\\x8c\\x06symbol\\x94\\x8c\\x04AAPL\\x94\\x8c\\x1clastTradeDateOrContractMonth\\x94\\x8c\\x00\\x94\\x8c\\x06strike\\x94G\\x00\\x00\\x00\\x00\\x00\\x00\\x00\\x00\\x8c\\x05right\\x94h\\x11\\x8c\\nmultiplier\\x94h\\x11\\x8c\\x08exchange\\x94\\x8c\\x05SMART\\x94\\x8c\\x0fprimaryExchange\\x94\\x8c\\x06ISLAND\\x94\\x8c\\x08currency\\x94\\x8c\\x03USD\\x94\\x8c\\x0blocalSymbol\\x94h\\x0f\\x8c\\x0ctradingClass\\x94\\x8c\\x03NMS\\x94\\x8c\\x0eincludeExpired\\x94\\x89\\x8c\\tsecIdType\\x94h\\x11\\x8c\\x05secId\\x94h\\x11\\x8c\\x0bdescription\\x94h\\x11\\x8c\\x08issuerId\\x94h\\x11\\x8c\\x10comboLegsDescrip\\x94h\\x11\\x8c\\tcomboLegs\\x94]\\x94\\x8c\\x14deltaNeutralContract\\x94Nub\\x8c\\x05order\\x94h\\x00\\x8c\\nLimitOrder\\x94\\x93\\x94)\\x81\\x94}\\x94(\\x8c\\x07orderId\\x94K\\x10\\x8c\\x08clientId\\x94K\\x02\\x8c\\x06permId\\x94Jì\\x92qi\\x8c\\x06action\\x94\\x8c\\x03BUY\\x94\\x8c\\rtotalQuantity\\x94G?ð\\x00\\x00\\x00\\x00\\x00\\x00\\x8c\\torderType\\x94\\x8c\\x03LMT\\x94\\x8c\\x08lmtPrice\\x94G?ï®\\x14záG®\\x8c\\x08auxPrice\\x94G\\x00\\x00\\x00\\x00\\x00\\x00\\x00\\x00\\x8c\\x03tif\\x94h\\x11\\x8c\\x0factiveStartTime\\x94h\\x11\\x8c\\x0eactiveStopTime\\x94h\\x11\\x8c\\x08ocaGroup\\x94h\\x11\\x8c\\x07ocaType\\x94K\\x00\\x8c\\x08orderRef\\x94h\\x0f\\x8c\\x08transmit\\x94\\x88\\x8c\\x08parentId\\x94K\\x00\\x8c\\nblockOrder\\x94\\x89\\x8c\\x0bsweepToFill\\x94\\x89\\x8c\\x0bdisplaySize\\x94K\\x00\\x8c\\rtriggerMethod\\x94K\\x00\\x8c\\noutsideRth\\x94\\x89\\x8c\\x06hidden\\x94\\x89\\x8c\\rgoodAfterTime\\x94h\\x11\\x8c\\x0cgoodTillDate\\x94h\\x11\\x8c\\x07rule80A\\x94h\\x11\\x8c\\tallOrNone\\x94\\x89\\x8c\\x06minQty\\x94Jÿÿÿ\\x7f\\x8c\\rpercentOffset\\x94G\\x7fïÿÿÿÿÿÿ\\x8c\\x1doverridePercentageConstraints\\x94\\x89\\x8c\\x0etrailStopPrice\\x94G\\x7fïÿÿÿÿÿÿ\\x8c\\x0ftrailingPercent\\x94G\\x7fïÿÿÿÿÿÿ\\x8c\\x07faGroup\\x94h\\x11\\x8c\\tfaProfile\\x94h\\x11\\x8c\\x08faMethod\\x94h\\x11\\x8c\\x0cfaPercentage\\x94h\\x11\\x8c\\x12designatedLocation\\x94h\\x11\\x8c\\topenClose\\x94\\x8c\\x01O\\x94\\x8c\\x06origin\\x94K\\x00\\x8c\\rshortSaleSlot\\x94K\\x00\\x8c\\nexemptCode\\x94Jÿÿÿÿ\\x8c\\x10discretionaryAmt\\x94G\\x00\\x00\\x00\\x00\\x00\\x00\\x00\\x00\\x8c\\neTradeOnly\\x94\\x89\\x8c\\rfirmQuoteOnly\\x94\\x89\\x8c\\x0cnbboPriceCap\\x94G\\x7fïÿÿÿÿÿÿ\\x8c\\x12optOutSmartRouting\\x94\\x89\\x8c\\x0fauctionStrategy\\x94K\\x00\\x8c\\rstartingPrice\\x94G\\x7fïÿÿÿÿÿÿ\\x8c\\rstockRefPrice\\x94G\\x7fïÿÿÿÿÿÿ\\x8c\\x05delta\\x94G\\x7fïÿÿÿÿÿÿ\\x8c\\x0fstockRangeLower\\x94G\\x7fïÿÿÿÿÿÿ\\x8c\\x0fstockRangeUpper\\x94G\\x7fïÿÿÿÿÿÿ\\x8c\\x0erandomizePrice\\x94\\x89\\x8c\\rrandomizeSize\\x94\\x89\\x8c\\nvolatility\\x94G\\x7fïÿÿÿÿÿÿ\\x8c\\x0evolatilityType\\x94Jÿÿÿ\\x7f\\x8c\\x15deltaNeutralOrderType\\x94h\\x11\\x8c\\x14deltaNeutralAuxPrice\\x94G\\x7fïÿÿÿÿÿÿ\\x8c\\x11deltaNeutralConId\\x94K\\x00\\x8c\\x18deltaNeutralSettlingFirm\\x94h\\x11\\x8c\\x1bdeltaNeutralClearingAccount\\x94h\\x11\\x8c\\x1adeltaNeutralClearingIntent\\x94h\\x11\\x8c\\x15deltaNeutralOpenClose\\x94h\\x11\\x8c\\x15deltaNeutralShortSale\\x94\\x89\\x8c\\x19deltaNeutralShortSaleSlot\\x94K\\x00\\x8c\\x1edeltaNeutralDesignatedLocation\\x94h\\x11\\x8c\\x10continuousUpdate\\x94\\x89\\x8c\\x12referencePriceType\\x94Jÿÿÿ\\x7f\\x8c\\x0bbasisPoints\\x94G\\x7fïÿÿÿÿÿÿ\\x8c\\x0fbasisPointsType\\x94Jÿÿÿ\\x7f\\x8c\\x12scaleInitLevelSize\\x94Jÿÿÿ\\x7f\\x8c\\x12scaleSubsLevelSize\\x94Jÿÿÿ\\x7f\\x8c\\x13scalePriceIncrement\\x94G\\x7fïÿÿÿÿÿÿ\\x8c\\x15scalePriceAdjustValue\\x94G\\x7fïÿÿÿÿÿÿ\\x8c\\x18scalePriceAdjustInterval\\x94Jÿÿÿ\\x7f\\x8c\\x11scaleProfitOffset\\x94G\\x7fïÿÿÿÿÿÿ\\x8c\\x0escaleAutoReset\\x94\\x89\\x8c\\x11scaleInitPosition\\x94Jÿÿÿ\\x7f\\x8c\\x10scaleInitFillQty\\x94Jÿÿÿ\\x7f\\x8c\\x12scaleRandomPercent\\x94\\x89\\x8c\\nscaleTable\\x94h\\x11\\x8c\\thedgeType\\x94h\\x11\\x8c\\nhedgeParam\\x94h\\x11\\x8c\\x07account\\x94h\\x11\\x8c\\x0csettlingFirm\\x94h\\x11\\x8c\\x0fclearingAccount\\x94h\\x11\\x8c\\x0eclearingIntent\\x94h\\x11\\x8c\\x0calgoStrategy\\x94\\x8c\\x08Adaptive\\x94\\x8c\\nalgoParams\\x94]\\x94h\\x06\\x8c\\x08TagValue\\x94\\x93\\x94\\x8c\\x10adaptivePriority\\x94\\x8c\\x07Patient\\x94\\x86\\x94\\x81\\x94a\\x8c\\x17smartComboRoutingParams\\x94]\\x94\\x8c\\x06algoId\\x94h\\x11\\x8c\\x06whatIf\\x94\\x89\\x8c\\x07notHeld\\x94\\x89\\x8c\\tsolicited\\x94\\x89\\x8c\\tmodelCode\\x94h\\x11\\x8c\\x0eorderComboLegs\\x94]\\x94\\x8c\\x10orderMiscOptions\\x94]\\x94\\x8c\\x13referenceContractId\\x94K\\x00\\x8c\\x12peggedChangeAmount\\x94G\\x00\\x00\\x00\\x00\\x00\\x00\\x00\\x00\\x8c\\x1cisPeggedChangeAmountDecrease\\x94\\x89\\x8c\\x15referenceChangeAmount\\x94G\\x00\\x00\\x00\\x00\\x00\\x00\\x00\\x00\\x8c\\x13referenceExchangeId\\x94h\\x11\\x8c\\x11adjustedOrderType\\x94h\\x11\\x8c\\x0ctriggerPrice\\x94G\\x7fïÿÿÿÿÿÿ\\x8c\\x11adjustedStopPrice\\x94G\\x7fïÿÿÿÿÿÿ\\x8c\\x16adjustedStopLimitPrice\\x94G\\x7fïÿÿÿÿÿÿ\\x8c\\x16adjustedTrailingAmount\\x94G\\x7fïÿÿÿÿÿÿ\\x8c\\x16adjustableTrailingUnit\\x94K\\x00\\x8c\\x0elmtPriceOffset\\x94G\\x7fïÿÿÿÿÿÿ\\x8c\\nconditions\\x94]\\x94\\x8c\\x15conditionsCancelOrder\\x94\\x89\\x8c\\x13conditionsIgnoreRth\\x94\\x89\\x8c\\x0bextOperator\\x94h\\x11\\x8c\\x0esoftDollarTier\\x94\\x8c\\x11ib_insync.objects\\x94\\x8c\\x0eSoftDollarTier\\x94\\x93\\x94)\\x81\\x94}\\x94(\\x8c\\x04name\\x94h\\x11\\x8c\\x03val\\x94h\\x11\\x8c\\x0bdisplayName\\x94h\\x11ub\\x8c\\x07cashQty\\x94G\\x7fïÿÿÿÿÿÿ\\x8c\\x13mifid2DecisionMaker\\x94h\\x11\\x8c\\x12mifid2DecisionAlgo\\x94h\\x11\\x8c\\x15mifid2ExecutionTrader\\x94h\\x11\\x8c\\x13mifid2ExecutionAlgo\\x94h\\x11\\x8c\\x18dontUseAutoPriceForHedge\\x94\\x89\\x8c\\x0eisOmsContainer\\x94\\x89\\x8c\\x1bdiscretionaryUpToLimitPrice\\x94\\x89\\x8c\\x0eautoCancelDate\\x94h\\x11\\x8c\\x0efilledQuantity\\x94G\\x7fïÿÿÿÿÿÿ\\x8c\\x0frefFuturesConId\\x94K\\x00\\x8c\\x10autoCancelParent\\x94\\x89\\x8c\\x0bshareholder\\x94h\\x11\\x8c\\rimbalanceOnly\\x94\\x89\\x8c\\x14routeMarketableToBbo\\x94\\x89\\x8c\\x0cparentPermId\\x94K\\x00\\x8c\\x10usePriceMgmtAlgo\\x94\\x89\\x8c\\x08duration\\x94Jÿÿÿ\\x7f\\x8c\\tpostToAts\\x94Jÿÿÿ\\x7f\\x8c\\x15advancedErrorOverride\\x94h\\x11\\x8c\\x0fmanualOrderTime\\x94h\\x11\\x8c\\x0bminTradeQty\\x94Jÿÿÿ\\x7f\\x8c\\x0eminCompeteSize\\x94Jÿÿÿ\\x7f\\x8c\\x18competeAgainstBestOffset\\x94G\\x7fïÿÿÿÿÿÿ\\x8c\\x10midOffsetAtWhole\\x94G\\x7fïÿÿÿÿÿÿ\\x8c\\x0fmidOffsetAtHalf\\x94G\\x7fïÿÿÿÿÿÿub\\x8c\\x0borderStatus\\x94h\\x00\\x8c\\x0bOrderStatus\\x94\\x93\\x94)\\x81\\x94}\\x94(h,K\\x10\\x8c\\x06status\\x94\\x8c\\x0cPreSubmitted\\x94\\x8c\\x06filled\\x94G\\x00\\x00\\x00\\x00\\x00\\x00\\x00\\x00\\x8c\\tremaining\\x94G?ð\\x00\\x00\\x00\\x00\\x00\\x00\\x8c\\x0cavgFillPrice\\x94G\\x00\\x00\\x00\\x00\\x00\\x00\\x00\\x00h.Jì\\x92qih=K\\x00\\x8c\\rlastFillPrice\\x94G\\x00\\x00\\x00\\x00\\x00\\x00\\x00\\x00h-K\\x02\\x8c\\x07whyHeld\\x94h\\x11\\x8c\\x0bmktCapPrice\\x94G\\x00\\x00\\x00\\x00\\x00\\x00\\x00\\x00ub\\x8c\\x05fills\\x94]\\x94\\x8c\\x03log\\x94]\\x94(h¬\\x8c\\rTradeLogEntry\\x94\\x93\\x94)\\x81\\x94}\\x94(\\x8c\\x04time\\x94\\x8c\\x08datetime\\x94\\x8c\\x08datetime\\x94\\x93\\x94C\\n\\x07è\\x04\\x06\\x12\\x18\\x0c\\x00Ý¦\\x94hä\\x8c\\x08timezone\\x94\\x93\\x94hä\\x8c\\ttimedelta\\x94\\x93\\x94K\\x00K\\x00K\\x00\\x87\\x94R\\x94\\x85\\x94R\\x94\\x86\\x94R\\x94hÓ\\x8c\\rPendingSubmit\\x94\\x8c\\x07message\\x94h\\x11\\x8c\\terrorCode\\x94K\\x00ubhà)\\x81\\x94}\\x94(hãhæC\\n\\x07è\\x04\\x06\\x12\\x18\\x0c\\x01Éò\\x94hï\\x86\\x94R\\x94hÓhÔhóh\\x11hôK\\x00ube\\x8c\\radvancedError\\x94h\\x11\\x8c\\x0bstatusEvent\\x94\\x8c\\x0eeventkit.event\\x94\\x8c\\x05Event\\x94\\x93\\x94hû\\x88\\x86\\x94R\\x94\\x8c\\x0bmodifyEvent\\x94hþj\\x01\\x01\\x00\\x00\\x88\\x86\\x94R\\x94\\x8c\\tfillEvent\\x94hþj\\x04\\x01\\x00\\x00\\x88\\x86\\x94R\\x94\\x8c\\x15commissionReportEvent\\x94hþj\\x07\\x01\\x00\\x00\\x88\\x86\\x94R\\x94\\x8c\\x0bfilledEvent\\x94hþj\\n\\x01\\x00\\x00\\x88\\x86\\x94R\\x94\\x8c\\x0bcancelEvent\\x94hþj\\r\\x01\\x00\\x00\\x88\\x86\\x94R\\x94\\x8c\\x0ecancelledEvent\\x94hþj\\x10\\x01\\x00\\x00\\x88\\x86\\x94R\\x94ub.'"
      ]
     },
     "execution_count": 28,
     "metadata": {},
     "output_type": "execute_result"
    }
   ],
   "source": [
    "# Convert the serialized object to a string for storage\n",
    "serialized_trade.decode('latin1')"
   ]
  },
  {
   "cell_type": "code",
   "execution_count": 31,
   "metadata": {},
   "outputs": [
    {
     "data": {
      "text/plain": [
       "Stock(conId=265598, symbol='AAPL', exchange='SMART', primaryExchange='ISLAND', currency='USD', localSymbol='AAPL', tradingClass='NMS')"
      ]
     },
     "execution_count": 31,
     "metadata": {},
     "output_type": "execute_result"
    }
   ],
   "source": [
    "str_trade = str(trade)\n",
    "trade_recon = eval(str_trade)\n",
    "trade_recon.contract"
   ]
  },
  {
   "cell_type": "code",
   "execution_count": null,
   "metadata": {},
   "outputs": [],
   "source": []
  },
  {
   "cell_type": "code",
   "execution_count": 6,
   "metadata": {},
   "outputs": [],
   "source": [
    "strategy=''\n",
    "if strategy:\n",
    "    print(True)"
   ]
  },
  {
   "cell_type": "code",
   "execution_count": 8,
   "metadata": {},
   "outputs": [
    {
     "data": {
      "text/html": [
       "<div>\n",
       "<style scoped>\n",
       "    .dataframe tbody tr th:only-of-type {\n",
       "        vertical-align: middle;\n",
       "    }\n",
       "\n",
       "    .dataframe tbody tr th {\n",
       "        vertical-align: top;\n",
       "    }\n",
       "\n",
       "    .dataframe thead th {\n",
       "        text-align: right;\n",
       "    }\n",
       "</style>\n",
       "<table border=\"1\" class=\"dataframe\">\n",
       "  <thead>\n",
       "    <tr style=\"text-align: right;\">\n",
       "      <th></th>\n",
       "      <th>symbol</th>\n",
       "      <th>strategy</th>\n",
       "      <th>asset class</th>\n",
       "      <th>timestamp</th>\n",
       "      <th>position</th>\n",
       "      <th>% of nav</th>\n",
       "      <th>averageCost</th>\n",
       "      <th>marketPrice</th>\n",
       "      <th>pnl %</th>\n",
       "      <th>contract</th>\n",
       "      <th>...</th>\n",
       "      <th>close_dt</th>\n",
       "      <th>deleted</th>\n",
       "      <th>delete_dt</th>\n",
       "      <th>marketValue</th>\n",
       "      <th>unrealizedPNL</th>\n",
       "      <th>currency</th>\n",
       "      <th>realizedPNL</th>\n",
       "      <th>account</th>\n",
       "      <th>marketValue_base</th>\n",
       "      <th>fx_rate</th>\n",
       "    </tr>\n",
       "  </thead>\n",
       "  <tbody>\n",
       "    <tr>\n",
       "      <th>0</th>\n",
       "      <td>TSLA</td>\n",
       "      <td>SMAG7</td>\n",
       "      <td>STK</td>\n",
       "      <td>2024-04-01 12:35</td>\n",
       "      <td>-25.0</td>\n",
       "      <td>-3.873397</td>\n",
       "      <td>176.650212</td>\n",
       "      <td>178.059998</td>\n",
       "      <td>-0.798066</td>\n",
       "      <td>Stock(conId=76792991, symbol='TSLA', right='0'...</td>\n",
       "      <td>...</td>\n",
       "      <td></td>\n",
       "      <td>False</td>\n",
       "      <td></td>\n",
       "      <td>-4451.5</td>\n",
       "      <td>-35.24</td>\n",
       "      <td>USD</td>\n",
       "      <td>0.0</td>\n",
       "      <td>U7706434</td>\n",
       "      <td>-4130.101682</td>\n",
       "      <td>1.077819</td>\n",
       "    </tr>\n",
       "  </tbody>\n",
       "</table>\n",
       "<p>1 rows × 22 columns</p>\n",
       "</div>"
      ],
      "text/plain": [
       "  symbol strategy asset class         timestamp  position  % of nav  \\\n",
       "0   TSLA    SMAG7         STK  2024-04-01 12:35     -25.0 -3.873397   \n",
       "\n",
       "   averageCost  marketPrice     pnl %  \\\n",
       "0   176.650212   178.059998 -0.798066   \n",
       "\n",
       "                                            contract  ... close_dt deleted  \\\n",
       "0  Stock(conId=76792991, symbol='TSLA', right='0'...  ...            False   \n",
       "\n",
       "  delete_dt  marketValue unrealizedPNL  currency  realizedPNL   account  \\\n",
       "0                -4451.5        -35.24       USD          0.0  U7706434   \n",
       "\n",
       "   marketValue_base   fx_rate  \n",
       "0      -4130.101682  1.077819  \n",
       "\n",
       "[1 rows x 22 columns]"
      ]
     },
     "execution_count": 8,
     "metadata": {},
     "output_type": "execute_result"
    },
    {
     "name": "stderr",
     "output_type": "stream",
     "text": [
      "Error 1100, reqId -1: Verbindung zwischen %SHORT:COMPNAME% und Trader Workstation ist abgebrochen.\n",
      "Error 1102, reqId -1: Verbindung zwischen %SHORT:COMPNAME% und Trader Workstation wurde wiederhergestellt \\u2013 Daten sind erhalten geblieben. Verbindung zu folgenden Datenzentren hergestellt: . Keine Verbindung zu folgenden Datenzentren: cashfarm; usfarm.nj; eufarm; usfarm; euhmds; fundfarm; ushmds; secdefeu.\n",
      "Error 1100, reqId -1: Verbindung zwischen %SHORT:COMPNAME% und Trader Workstation ist abgebrochen.\n",
      "Error 1102, reqId -1: Verbindung zwischen %SHORT:COMPNAME% und Trader Workstation wurde wiederhergestellt \\u2013 Daten sind erhalten geblieben. Verbindung zu allen Datenzentren hergestellt: cashfarm; usfarm.nj; eufarm; usfarm; euhmds; fundfarm; ushmds; secdefeu.\n",
      "Error 1100, reqId -1: Verbindung zwischen %SHORT:COMPNAME% und Trader Workstation ist abgebrochen.\n",
      "Error 1102, reqId -1: Verbindung zwischen %SHORT:COMPNAME% und Trader Workstation wurde wiederhergestellt \\u2013 Daten sind erhalten geblieben. Verbindung zu allen Datenzentren hergestellt: cashfarm; usfarm.nj; eufarm; usfarm; euhmds; fundfarm; ushmds; secdefeu.\n",
      "Error 1100, reqId -1: Verbindung zwischen %SHORT:COMPNAME% und Trader Workstation ist abgebrochen.\n",
      "Error 1102, reqId -1: Verbindung zwischen %SHORT:COMPNAME% und Trader Workstation wurde wiederhergestellt \\u2013 Daten sind erhalten geblieben. Verbindung zu allen Datenzentren hergestellt: cashfarm; usfarm.nj; eufarm; usfarm; euhmds; fundfarm; ushmds; secdefeu.\n"
     ]
    }
   ],
   "source": [
    "account_id = ib.managedAccounts()[0]\n",
    "lib = ac.get_library('portfolio')\n",
    "lib.list_symbols()\n",
    "lib.read('U7706434_SMAG7').data"
   ]
  },
  {
   "cell_type": "code",
   "execution_count": 26,
   "metadata": {},
   "outputs": [],
   "source": [
    "pnl_lib = ac.get_library('pnl')\n"
   ]
  },
  {
   "cell_type": "code",
   "execution_count": 27,
   "metadata": {},
   "outputs": [
    {
     "data": {
      "text/plain": [
       "105213.53"
      ]
     },
     "execution_count": 27,
     "metadata": {},
     "output_type": "execute_result"
    }
   ],
   "source": [
    "total_equity =  sum(float(entry.value) for entry in ib.accountSummary() if entry.tag == \"EquityWithLoanValue\")\n",
    "total_equity"
   ]
  },
  {
   "cell_type": "code",
   "execution_count": 35,
   "metadata": {},
   "outputs": [],
   "source": [
    "def get_total_equity(ib_client):\n",
    "    \"\"\"Fetches the total equity value from the account summary.\"\"\"\n",
    "    total_equity = sum(float(entry.value) for entry in ib_client.accountSummary() if entry.tag == \"EquityWithLoanValue\")\n",
    "    return total_equity\n",
    "\n",
    "def save_pnl(ac, total_equity, account_id):\n",
    "    \"\"\"Saves the PnL (equity value) to the ArcticDB.\"\"\"\n",
    "    pnl_lib = ac.get_library('pnl')\n",
    "     # Truncate the current timestamp to an hourly granularity\n",
    "    current_time = datetime.datetime.now().replace(second=0, microsecond=0)\n",
    "    \n",
    "    pnl_data = {\n",
    "        'total_equity': total_equity,\n",
    "        'account_id': account_id\n",
    "    }\n",
    "    pnl_df = pd.DataFrame([pnl_data], index=[current_time])\n",
    "    try:\n",
    "        # Append the new data to the 'pnl' library, creating it if it doesn't exist\n",
    "        if 'pnl' in pnl_lib.list_symbols():\n",
    "            pnl_lib.append(account_id, pnl_df)\n",
    "        else:\n",
    "            pnl_lib.write(account_id, pnl_df)\n",
    "        print(f\"Equity value saved to 'pnl' library for account {account_id}\")\n",
    "    except Exception as e:\n",
    "        print(f\"Error saving equity value to 'pnl' library: {e}\")\n"
   ]
  },
  {
   "cell_type": "code",
   "execution_count": 36,
   "metadata": {},
   "outputs": [
    {
     "name": "stdout",
     "output_type": "stream",
     "text": [
      "Equity value saved to 'pnl' library for account U7706434\n"
     ]
    }
   ],
   "source": [
    "account_id = ib.managedAccounts()[0]  # Assuming you want the first managed account's ID\n",
    "total_equity = get_total_equity(ib)\n",
    "save_pnl(ac, total_equity, account_id)"
   ]
  },
  {
   "cell_type": "code",
   "execution_count": 37,
   "metadata": {},
   "outputs": [
    {
     "data": {
      "text/html": [
       "<div>\n",
       "<style scoped>\n",
       "    .dataframe tbody tr th:only-of-type {\n",
       "        vertical-align: middle;\n",
       "    }\n",
       "\n",
       "    .dataframe tbody tr th {\n",
       "        vertical-align: top;\n",
       "    }\n",
       "\n",
       "    .dataframe thead th {\n",
       "        text-align: right;\n",
       "    }\n",
       "</style>\n",
       "<table border=\"1\" class=\"dataframe\">\n",
       "  <thead>\n",
       "    <tr style=\"text-align: right;\">\n",
       "      <th></th>\n",
       "      <th>total_equity</th>\n",
       "      <th>account_id</th>\n",
       "    </tr>\n",
       "  </thead>\n",
       "  <tbody>\n",
       "    <tr>\n",
       "      <th>2024-03-26 15:00:00</th>\n",
       "      <td>105212.87</td>\n",
       "      <td>U7706434</td>\n",
       "    </tr>\n",
       "  </tbody>\n",
       "</table>\n",
       "</div>"
      ],
      "text/plain": [
       "                     total_equity account_id\n",
       "2024-03-26 15:00:00     105212.87   U7706434"
      ]
     },
     "execution_count": 37,
     "metadata": {},
     "output_type": "execute_result"
    }
   ],
   "source": [
    "pnl_data = pnl_lib.read(account_id).data\n",
    "pnl_data"
   ]
  },
  {
   "cell_type": "code",
   "execution_count": null,
   "metadata": {},
   "outputs": [],
   "source": []
  }
 ],
 "metadata": {
  "kernelspec": {
   "display_name": "Python 3.10.5 64-bit",
   "language": "python",
   "name": "python3"
  },
  "language_info": {
   "codemirror_mode": {
    "name": "ipython",
    "version": 3
   },
   "file_extension": ".py",
   "mimetype": "text/x-python",
   "name": "python",
   "nbconvert_exporter": "python",
   "pygments_lexer": "ipython3",
   "version": "3.11.6"
  },
  "orig_nbformat": 4,
  "vscode": {
   "interpreter": {
    "hash": "9b4d75ac280b6c7c3aa43866cb82dc88915409b55fec83a093dd0284cb58708e"
   }
  }
 },
 "nbformat": 4,
 "nbformat_minor": 2
}
