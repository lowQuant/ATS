{
 "cells": [
  {
   "cell_type": "code",
   "execution_count": 3,
   "id": "9764603b",
   "metadata": {},
   "outputs": [],
   "source": [
    "from arcticdb import Arctic\n",
    "import pandas as pd"
   ]
  },
  {
   "cell_type": "code",
   "execution_count": 8,
   "id": "4e42bb21",
   "metadata": {},
   "outputs": [],
   "source": [
    "ac = Arctic(f'lmdb://db?map_size=200MB')"
   ]
  },
  {
   "cell_type": "code",
   "execution_count": 25,
   "id": "8a8bbc2d",
   "metadata": {},
   "outputs": [
    {
     "data": {
      "text/plain": [
       "['settings', 'strategies']"
      ]
     },
     "execution_count": 25,
     "metadata": {},
     "output_type": "execute_result"
    }
   ],
   "source": [
    "ac.list_libraries()"
   ]
  },
  {
   "cell_type": "code",
   "execution_count": 26,
   "id": "f89542dc",
   "metadata": {},
   "outputs": [],
   "source": [
    "lib = ac.get_library(\"settings\")"
   ]
  },
  {
   "cell_type": "code",
   "execution_count": 27,
   "id": "2671064c",
   "metadata": {},
   "outputs": [
    {
     "data": {
      "text/html": [
       "<div>\n",
       "<style scoped>\n",
       "    .dataframe tbody tr th:only-of-type {\n",
       "        vertical-align: middle;\n",
       "    }\n",
       "\n",
       "    .dataframe tbody tr th {\n",
       "        vertical-align: top;\n",
       "    }\n",
       "\n",
       "    .dataframe thead th {\n",
       "        text-align: right;\n",
       "    }\n",
       "</style>\n",
       "<table border=\"1\" class=\"dataframe\">\n",
       "  <thead>\n",
       "    <tr style=\"text-align: right;\">\n",
       "      <th></th>\n",
       "      <th>Value</th>\n",
       "    </tr>\n",
       "  </thead>\n",
       "  <tbody>\n",
       "    <tr>\n",
       "      <th>ib_port</th>\n",
       "      <td>7497</td>\n",
       "    </tr>\n",
       "    <tr>\n",
       "      <th>s3_db_management</th>\n",
       "      <td>False</td>\n",
       "    </tr>\n",
       "    <tr>\n",
       "      <th>aws_access_id</th>\n",
       "      <td></td>\n",
       "    </tr>\n",
       "    <tr>\n",
       "      <th>aws_access_key</th>\n",
       "      <td></td>\n",
       "    </tr>\n",
       "    <tr>\n",
       "      <th>bucket_name</th>\n",
       "      <td></td>\n",
       "    </tr>\n",
       "    <tr>\n",
       "      <th>region</th>\n",
       "      <td></td>\n",
       "    </tr>\n",
       "    <tr>\n",
       "      <th>start_tws</th>\n",
       "      <td>false</td>\n",
       "    </tr>\n",
       "    <tr>\n",
       "      <th>username</th>\n",
       "      <td></td>\n",
       "    </tr>\n",
       "    <tr>\n",
       "      <th>password</th>\n",
       "      <td></td>\n",
       "    </tr>\n",
       "  </tbody>\n",
       "</table>\n",
       "</div>"
      ],
      "text/plain": [
       "                  Value\n",
       "ib_port            7497\n",
       "s3_db_management  False\n",
       "aws_access_id          \n",
       "aws_access_key         \n",
       "bucket_name            \n",
       "region                 \n",
       "start_tws         false\n",
       "username               \n",
       "password               "
      ]
     },
     "execution_count": 27,
     "metadata": {},
     "output_type": "execute_result"
    }
   ],
   "source": [
    "lib.read(\"settings\").data"
   ]
  },
  {
   "cell_type": "code",
   "execution_count": 9,
   "id": "6643c722",
   "metadata": {},
   "outputs": [],
   "source": [
    "lib2 = ac.get_library(\"strategies\")"
   ]
  },
  {
   "cell_type": "code",
   "execution_count": 10,
   "id": "d089882e",
   "metadata": {},
   "outputs": [
    {
     "ename": "NoSuchVersionException",
     "evalue": "E_NO_SUCH_VERSION read_dataframe_version: version matching query 'latest' not found for symbol 'strategies'",
     "output_type": "error",
     "traceback": [
      "\u001b[1;31m---------------------------------------------------------------------------\u001b[0m",
      "\u001b[1;31mNoSuchVersionException\u001b[0m                    Traceback (most recent call last)",
      "\u001b[1;32mc:\\Users\\Johannes.Lange\\pythonscripts\\IB-Multi-Strategy-ATS\\data_and_research\\Untitled.ipynb Zelle 7\u001b[0m in \u001b[0;36m<cell line: 1>\u001b[1;34m()\u001b[0m\n\u001b[1;32m----> <a href='vscode-notebook-cell:/c%3A/Users/Johannes.Lange/pythonscripts/IB-Multi-Strategy-ATS/data_and_research/Untitled.ipynb#ch0000006?line=0'>1</a>\u001b[0m lib2\u001b[39m.\u001b[39;49mread(\u001b[39m\"\u001b[39;49m\u001b[39mstrategies\u001b[39;49m\u001b[39m\"\u001b[39;49m)\u001b[39m.\u001b[39mdata\n",
      "File \u001b[1;32m~\\AppData\\Roaming\\Python\\Python310\\site-packages\\arcticdb\\version_store\\library.py:986\u001b[0m, in \u001b[0;36mLibrary.read\u001b[1;34m(self, symbol, as_of, date_range, columns, query_builder)\u001b[0m\n\u001b[0;32m    921\u001b[0m \u001b[39mdef\u001b[39;00m \u001b[39mread\u001b[39m(\n\u001b[0;32m    922\u001b[0m     \u001b[39mself\u001b[39m,\n\u001b[0;32m    923\u001b[0m     symbol: \u001b[39mstr\u001b[39m,\n\u001b[1;32m   (...)\u001b[0m\n\u001b[0;32m    927\u001b[0m     query_builder: Optional[QueryBuilder] \u001b[39m=\u001b[39m \u001b[39mNone\u001b[39;00m,\n\u001b[0;32m    928\u001b[0m ) \u001b[39m-\u001b[39m\u001b[39m>\u001b[39m VersionedItem:\n\u001b[0;32m    929\u001b[0m \u001b[39m    \u001b[39m\u001b[39m\"\"\"\u001b[39;00m\n\u001b[0;32m    930\u001b[0m \u001b[39m    Read data for the named symbol.  Returns a VersionedItem object with a data and metadata element (as passed into\u001b[39;00m\n\u001b[0;32m    931\u001b[0m \u001b[39m    write).\u001b[39;00m\n\u001b[1;32m   (...)\u001b[0m\n\u001b[0;32m    984\u001b[0m \u001b[39m    2       7\u001b[39;00m\n\u001b[0;32m    985\u001b[0m \u001b[39m    \"\"\"\u001b[39;00m\n\u001b[1;32m--> 986\u001b[0m     \u001b[39mreturn\u001b[39;00m \u001b[39mself\u001b[39;49m\u001b[39m.\u001b[39;49m_nvs\u001b[39m.\u001b[39;49mread(\n\u001b[0;32m    987\u001b[0m         symbol\u001b[39m=\u001b[39;49msymbol, as_of\u001b[39m=\u001b[39;49mas_of, date_range\u001b[39m=\u001b[39;49mdate_range, columns\u001b[39m=\u001b[39;49mcolumns, query_builder\u001b[39m=\u001b[39;49mquery_builder\n\u001b[0;32m    988\u001b[0m     )\n",
      "File \u001b[1;32m~\\AppData\\Roaming\\Python\\Python310\\site-packages\\arcticdb\\version_store\\_store.py:1633\u001b[0m, in \u001b[0;36mNativeVersionStore.read\u001b[1;34m(self, symbol, as_of, date_range, row_range, columns, query_builder, **kwargs)\u001b[0m\n\u001b[0;32m   1629\u001b[0m     query_builder \u001b[39m=\u001b[39m q\u001b[39m.\u001b[39mdate_range(date_range)\u001b[39m.\u001b[39mthen(query_builder)\n\u001b[0;32m   1630\u001b[0m version_query, read_options, read_query \u001b[39m=\u001b[39m \u001b[39mself\u001b[39m\u001b[39m.\u001b[39m_get_queries(\n\u001b[0;32m   1631\u001b[0m     as_of, date_range, row_range, columns, query_builder, \u001b[39m*\u001b[39m\u001b[39m*\u001b[39mkwargs\n\u001b[0;32m   1632\u001b[0m )\n\u001b[1;32m-> 1633\u001b[0m read_result \u001b[39m=\u001b[39m \u001b[39mself\u001b[39;49m\u001b[39m.\u001b[39;49m_read_dataframe(symbol, version_query, read_query, read_options)\n\u001b[0;32m   1634\u001b[0m \u001b[39mreturn\u001b[39;00m \u001b[39mself\u001b[39m\u001b[39m.\u001b[39m_post_process_dataframe(read_result, read_query, query_builder)\n",
      "File \u001b[1;32m~\\AppData\\Roaming\\Python\\Python310\\site-packages\\arcticdb\\version_store\\_store.py:1700\u001b[0m, in \u001b[0;36mNativeVersionStore._read_dataframe\u001b[1;34m(self, symbol, version_query, read_query, read_options)\u001b[0m\n\u001b[0;32m   1699\u001b[0m \u001b[39mdef\u001b[39;00m \u001b[39m_read_dataframe\u001b[39m(\u001b[39mself\u001b[39m, symbol, version_query, read_query, read_options):\n\u001b[1;32m-> 1700\u001b[0m     \u001b[39mreturn\u001b[39;00m ReadResult(\u001b[39m*\u001b[39m\u001b[39mself\u001b[39;49m\u001b[39m.\u001b[39;49mversion_store\u001b[39m.\u001b[39;49mread_dataframe_version(symbol, version_query, read_query, read_options))\n",
      "\u001b[1;31mNoSuchVersionException\u001b[0m: E_NO_SUCH_VERSION read_dataframe_version: version matching query 'latest' not found for symbol 'strategies'"
     ]
    }
   ],
   "source": [
    "lib2.read(\"strategies\").data"
   ]
  },
  {
   "cell_type": "code",
   "execution_count": 31,
   "id": "28e2ac0a",
   "metadata": {},
   "outputs": [],
   "source": [
    "lib2.delete(\"strategies\")"
   ]
  },
  {
   "cell_type": "code",
   "execution_count": 4,
   "id": "3c608c6e",
   "metadata": {},
   "outputs": [],
   "source": [
    "\n",
    "# Creating a dictionary of strategy details\n",
    "details_dict = {\n",
    "    \"name\": \"jo\",\n",
    "    \"symbol\": \"J\",\n",
    "    \"filename\": \"jl.py\",\n",
    "    \"description\": \"this is a sample    \",\n",
    "    \"target_weight\": \"0.3\",\n",
    "    'min_weight': \"0.2\",\n",
    "    'max_weight': \"0.25\",\n",
    "    'params': \"\"\n",
    "}\n",
    "\n",
    "# Convert dictionary to DataFrame\n",
    "details_df = pd.DataFrame.from_dict(details_dict, orient='index', columns=['Value'])"
   ]
  },
  {
   "cell_type": "code",
   "execution_count": 5,
   "id": "236cc9c9",
   "metadata": {},
   "outputs": [
    {
     "data": {
      "text/html": [
       "<div>\n",
       "<style scoped>\n",
       "    .dataframe tbody tr th:only-of-type {\n",
       "        vertical-align: middle;\n",
       "    }\n",
       "\n",
       "    .dataframe tbody tr th {\n",
       "        vertical-align: top;\n",
       "    }\n",
       "\n",
       "    .dataframe thead th {\n",
       "        text-align: right;\n",
       "    }\n",
       "</style>\n",
       "<table border=\"1\" class=\"dataframe\">\n",
       "  <thead>\n",
       "    <tr style=\"text-align: right;\">\n",
       "      <th></th>\n",
       "      <th>Value</th>\n",
       "    </tr>\n",
       "  </thead>\n",
       "  <tbody>\n",
       "    <tr>\n",
       "      <th>name</th>\n",
       "      <td>jo</td>\n",
       "    </tr>\n",
       "    <tr>\n",
       "      <th>symbol</th>\n",
       "      <td>J</td>\n",
       "    </tr>\n",
       "    <tr>\n",
       "      <th>filename</th>\n",
       "      <td>jl.py</td>\n",
       "    </tr>\n",
       "    <tr>\n",
       "      <th>description</th>\n",
       "      <td>this is a sample</td>\n",
       "    </tr>\n",
       "    <tr>\n",
       "      <th>target_weight</th>\n",
       "      <td>0.3</td>\n",
       "    </tr>\n",
       "    <tr>\n",
       "      <th>min_weight</th>\n",
       "      <td>0.2</td>\n",
       "    </tr>\n",
       "    <tr>\n",
       "      <th>max_weight</th>\n",
       "      <td>0.25</td>\n",
       "    </tr>\n",
       "    <tr>\n",
       "      <th>params</th>\n",
       "      <td></td>\n",
       "    </tr>\n",
       "  </tbody>\n",
       "</table>\n",
       "</div>"
      ],
      "text/plain": [
       "                              Value\n",
       "name                             jo\n",
       "symbol                            J\n",
       "filename                      jl.py\n",
       "description    this is a sample    \n",
       "target_weight                   0.3\n",
       "min_weight                      0.2\n",
       "max_weight                     0.25\n",
       "params                             "
      ]
     },
     "execution_count": 5,
     "metadata": {},
     "output_type": "execute_result"
    }
   ],
   "source": [
    "details_df"
   ]
  },
  {
   "cell_type": "code",
   "execution_count": 32,
   "id": "17af0bc3",
   "metadata": {},
   "outputs": [],
   "source": [
    "\n",
    "# Creating a dictionary of strategy details\n",
    "details_dict = {\n",
    "    \"name\": \"jo\",\n",
    "    \"filename\": \"jl.py\",\n",
    "    \"description\": \"this is a sample    \",\n",
    "    \"target_weight\": \"0.3\",\n",
    "    'min_weight': \"0.2\",\n",
    "    'max_weight': \"0.25\",\n",
    "    'params': \"\"\n",
    "}\n",
    "\n",
    "# Convert dictionary to DataFrame\n",
    "# Create a DataFrame with the modified dictionary\n",
    "details_df = pd.DataFrame([details_dict], index=[\"JL\"])"
   ]
  },
  {
   "cell_type": "code",
   "execution_count": 7,
   "id": "bd29e9b2",
   "metadata": {},
   "outputs": [
    {
     "data": {
      "text/html": [
       "<div>\n",
       "<style scoped>\n",
       "    .dataframe tbody tr th:only-of-type {\n",
       "        vertical-align: middle;\n",
       "    }\n",
       "\n",
       "    .dataframe tbody tr th {\n",
       "        vertical-align: top;\n",
       "    }\n",
       "\n",
       "    .dataframe thead th {\n",
       "        text-align: right;\n",
       "    }\n",
       "</style>\n",
       "<table border=\"1\" class=\"dataframe\">\n",
       "  <thead>\n",
       "    <tr style=\"text-align: right;\">\n",
       "      <th></th>\n",
       "      <th>name</th>\n",
       "      <th>filename</th>\n",
       "      <th>description</th>\n",
       "      <th>target_weight</th>\n",
       "      <th>min_weight</th>\n",
       "      <th>max_weight</th>\n",
       "      <th>params</th>\n",
       "    </tr>\n",
       "  </thead>\n",
       "  <tbody>\n",
       "    <tr>\n",
       "      <th>JL</th>\n",
       "      <td>jo</td>\n",
       "      <td>jl.py</td>\n",
       "      <td>this is a sample</td>\n",
       "      <td>0.3</td>\n",
       "      <td>0.2</td>\n",
       "      <td>0.25</td>\n",
       "      <td></td>\n",
       "    </tr>\n",
       "  </tbody>\n",
       "</table>\n",
       "</div>"
      ],
      "text/plain": [
       "   name filename           description target_weight min_weight max_weight  \\\n",
       "JL   jo    jl.py  this is a sample               0.3        0.2       0.25   \n",
       "\n",
       "   params  \n",
       "JL         "
      ]
     },
     "execution_count": 7,
     "metadata": {},
     "output_type": "execute_result"
    }
   ],
   "source": [
    "details_df"
   ]
  },
  {
   "cell_type": "code",
   "execution_count": 11,
   "id": "79201a16",
   "metadata": {},
   "outputs": [
    {
     "data": {
      "text/plain": [
       "VersionedItem(symbol='settings', library='strategies', data=n/a, version=0, metadata=None, host='LMDB(path=c:\\\\Users\\\\Johannes.Lange\\\\pythonscripts\\\\IB-Multi-Strategy-ATS\\\\data_and_research\\\\db)')"
      ]
     },
     "execution_count": 11,
     "metadata": {},
     "output_type": "execute_result"
    }
   ],
   "source": [
    "lib2.write(\"strategies\",details_df)"
   ]
  },
  {
   "cell_type": "code",
   "execution_count": 33,
   "id": "8adfd6e2",
   "metadata": {},
   "outputs": [
    {
     "ename": "NoSuchVersionException",
     "evalue": "E_NO_SUCH_VERSION read_dataframe_version: version matching query 'latest' not found for symbol 'strategies'",
     "output_type": "error",
     "traceback": [
      "\u001b[1;31m---------------------------------------------------------------------------\u001b[0m",
      "\u001b[1;31mNoSuchVersionException\u001b[0m                    Traceback (most recent call last)",
      "\u001b[1;32mc:\\Users\\Johannes.Lange\\pythonscripts\\IB-Multi-Strategy-ATS\\data_and_research\\Untitled.ipynb Zelle 14\u001b[0m in \u001b[0;36m<cell line: 1>\u001b[1;34m()\u001b[0m\n\u001b[1;32m----> <a href='vscode-notebook-cell:/c%3A/Users/Johannes.Lange/pythonscripts/IB-Multi-Strategy-ATS/data_and_research/Untitled.ipynb#ch0000013?line=0'>1</a>\u001b[0m lib2\u001b[39m.\u001b[39;49mread(\u001b[39m\"\u001b[39;49m\u001b[39mstrategies\u001b[39;49m\u001b[39m\"\u001b[39;49m)\u001b[39m.\u001b[39mdata\n",
      "File \u001b[1;32m~\\AppData\\Roaming\\Python\\Python310\\site-packages\\arcticdb\\version_store\\library.py:986\u001b[0m, in \u001b[0;36mLibrary.read\u001b[1;34m(self, symbol, as_of, date_range, columns, query_builder)\u001b[0m\n\u001b[0;32m    921\u001b[0m \u001b[39mdef\u001b[39;00m \u001b[39mread\u001b[39m(\n\u001b[0;32m    922\u001b[0m     \u001b[39mself\u001b[39m,\n\u001b[0;32m    923\u001b[0m     symbol: \u001b[39mstr\u001b[39m,\n\u001b[1;32m   (...)\u001b[0m\n\u001b[0;32m    927\u001b[0m     query_builder: Optional[QueryBuilder] \u001b[39m=\u001b[39m \u001b[39mNone\u001b[39;00m,\n\u001b[0;32m    928\u001b[0m ) \u001b[39m-\u001b[39m\u001b[39m>\u001b[39m VersionedItem:\n\u001b[0;32m    929\u001b[0m \u001b[39m    \u001b[39m\u001b[39m\"\"\"\u001b[39;00m\n\u001b[0;32m    930\u001b[0m \u001b[39m    Read data for the named symbol.  Returns a VersionedItem object with a data and metadata element (as passed into\u001b[39;00m\n\u001b[0;32m    931\u001b[0m \u001b[39m    write).\u001b[39;00m\n\u001b[1;32m   (...)\u001b[0m\n\u001b[0;32m    984\u001b[0m \u001b[39m    2       7\u001b[39;00m\n\u001b[0;32m    985\u001b[0m \u001b[39m    \"\"\"\u001b[39;00m\n\u001b[1;32m--> 986\u001b[0m     \u001b[39mreturn\u001b[39;00m \u001b[39mself\u001b[39;49m\u001b[39m.\u001b[39;49m_nvs\u001b[39m.\u001b[39;49mread(\n\u001b[0;32m    987\u001b[0m         symbol\u001b[39m=\u001b[39;49msymbol, as_of\u001b[39m=\u001b[39;49mas_of, date_range\u001b[39m=\u001b[39;49mdate_range, columns\u001b[39m=\u001b[39;49mcolumns, query_builder\u001b[39m=\u001b[39;49mquery_builder\n\u001b[0;32m    988\u001b[0m     )\n",
      "File \u001b[1;32m~\\AppData\\Roaming\\Python\\Python310\\site-packages\\arcticdb\\version_store\\_store.py:1633\u001b[0m, in \u001b[0;36mNativeVersionStore.read\u001b[1;34m(self, symbol, as_of, date_range, row_range, columns, query_builder, **kwargs)\u001b[0m\n\u001b[0;32m   1629\u001b[0m     query_builder \u001b[39m=\u001b[39m q\u001b[39m.\u001b[39mdate_range(date_range)\u001b[39m.\u001b[39mthen(query_builder)\n\u001b[0;32m   1630\u001b[0m version_query, read_options, read_query \u001b[39m=\u001b[39m \u001b[39mself\u001b[39m\u001b[39m.\u001b[39m_get_queries(\n\u001b[0;32m   1631\u001b[0m     as_of, date_range, row_range, columns, query_builder, \u001b[39m*\u001b[39m\u001b[39m*\u001b[39mkwargs\n\u001b[0;32m   1632\u001b[0m )\n\u001b[1;32m-> 1633\u001b[0m read_result \u001b[39m=\u001b[39m \u001b[39mself\u001b[39;49m\u001b[39m.\u001b[39;49m_read_dataframe(symbol, version_query, read_query, read_options)\n\u001b[0;32m   1634\u001b[0m \u001b[39mreturn\u001b[39;00m \u001b[39mself\u001b[39m\u001b[39m.\u001b[39m_post_process_dataframe(read_result, read_query, query_builder)\n",
      "File \u001b[1;32m~\\AppData\\Roaming\\Python\\Python310\\site-packages\\arcticdb\\version_store\\_store.py:1700\u001b[0m, in \u001b[0;36mNativeVersionStore._read_dataframe\u001b[1;34m(self, symbol, version_query, read_query, read_options)\u001b[0m\n\u001b[0;32m   1699\u001b[0m \u001b[39mdef\u001b[39;00m \u001b[39m_read_dataframe\u001b[39m(\u001b[39mself\u001b[39m, symbol, version_query, read_query, read_options):\n\u001b[1;32m-> 1700\u001b[0m     \u001b[39mreturn\u001b[39;00m ReadResult(\u001b[39m*\u001b[39m\u001b[39mself\u001b[39;49m\u001b[39m.\u001b[39;49mversion_store\u001b[39m.\u001b[39;49mread_dataframe_version(symbol, version_query, read_query, read_options))\n",
      "\u001b[1;31mNoSuchVersionException\u001b[0m: E_NO_SUCH_VERSION read_dataframe_version: version matching query 'latest' not found for symbol 'strategies'"
     ]
    }
   ],
   "source": [
    "lib2.read(\"strategies\").data"
   ]
  },
  {
   "cell_type": "code",
   "execution_count": 13,
   "id": "e1d419e6",
   "metadata": {},
   "outputs": [],
   "source": [
    "\n",
    "# Creating a dictionary of strategy details\n",
    "details_dict = {\n",
    "    \"name\": \"heinz\",\n",
    "    \"filename\": \"heinz.py\",\n",
    "    \"description\": \"this is a different sample    \",\n",
    "    \"target_weight\": \"0.5\",\n",
    "    'min_weight': \"0.4\",\n",
    "    'max_weight': \"0.55\",\n",
    "    'params': \"\"\n",
    "}\n",
    "\n",
    "# Convert dictionary to DataFrame\n",
    "# Create a DataFrame with the modified dictionary\n",
    "details_df = pd.DataFrame([details_dict], index=[\"HZ\"])"
   ]
  },
  {
   "cell_type": "code",
   "execution_count": 15,
   "id": "bbb0c073",
   "metadata": {},
   "outputs": [
    {
     "data": {
      "text/plain": [
       "VersionedItem(symbol='settings', library='strategies', data=n/a, version=2, metadata=None, host='LMDB(path=c:\\\\Users\\\\Johannes.Lange\\\\pythonscripts\\\\IB-Multi-Strategy-ATS\\\\data_and_research\\\\db)')"
      ]
     },
     "execution_count": 15,
     "metadata": {},
     "output_type": "execute_result"
    }
   ],
   "source": [
    "lib2.write(\"strategies\",details_df)\n",
    "#lib2.read(\"settings\",details_df)"
   ]
  },
  {
   "cell_type": "code",
   "execution_count": 35,
   "id": "1ef90465",
   "metadata": {},
   "outputs": [
    {
     "data": {
      "text/html": [
       "<div>\n",
       "<style scoped>\n",
       "    .dataframe tbody tr th:only-of-type {\n",
       "        vertical-align: middle;\n",
       "    }\n",
       "\n",
       "    .dataframe tbody tr th {\n",
       "        vertical-align: top;\n",
       "    }\n",
       "\n",
       "    .dataframe thead th {\n",
       "        text-align: right;\n",
       "    }\n",
       "</style>\n",
       "<table border=\"1\" class=\"dataframe\">\n",
       "  <thead>\n",
       "    <tr style=\"text-align: right;\">\n",
       "      <th></th>\n",
       "      <th>name</th>\n",
       "      <th>filename</th>\n",
       "      <th>description</th>\n",
       "      <th>target_weight</th>\n",
       "      <th>min_weight</th>\n",
       "      <th>max_weight</th>\n",
       "      <th>params</th>\n",
       "    </tr>\n",
       "  </thead>\n",
       "  <tbody>\n",
       "    <tr>\n",
       "      <th>JL</th>\n",
       "      <td>jo</td>\n",
       "      <td>jl.py</td>\n",
       "      <td>this is a sample</td>\n",
       "      <td>0.3</td>\n",
       "      <td>0.2</td>\n",
       "      <td>0.25</td>\n",
       "      <td></td>\n",
       "    </tr>\n",
       "  </tbody>\n",
       "</table>\n",
       "</div>"
      ],
      "text/plain": [
       "   name filename           description target_weight min_weight max_weight  \\\n",
       "JL   jo    jl.py  this is a sample               0.3        0.2       0.25   \n",
       "\n",
       "   params  \n",
       "JL         "
      ]
     },
     "execution_count": 35,
     "metadata": {},
     "output_type": "execute_result"
    }
   ],
   "source": [
    "lib2.read(\"strategies\").data"
   ]
  },
  {
   "cell_type": "code",
   "execution_count": 34,
   "id": "4c2b1e03",
   "metadata": {},
   "outputs": [
    {
     "data": {
      "text/plain": [
       "VersionedItem(symbol='strategies', library='strategies', data=n/a, version=1, metadata=None, host='LMDB(path=c:\\\\Users\\\\Johannes.Lange\\\\pythonscripts\\\\IB-Multi-Strategy-ATS\\\\data_and_research\\\\db)')"
      ]
     },
     "execution_count": 34,
     "metadata": {},
     "output_type": "execute_result"
    }
   ],
   "source": [
    "lib2.append(\"strategies\",details_df)"
   ]
  },
  {
   "cell_type": "code",
   "execution_count": 20,
   "id": "5c4bb7f8",
   "metadata": {},
   "outputs": [],
   "source": [
    "# USE lib.append!!!"
   ]
  },
  {
   "cell_type": "code",
   "execution_count": null,
   "id": "f19a78fc",
   "metadata": {},
   "outputs": [],
   "source": []
  }
 ],
 "metadata": {
  "kernelspec": {
   "display_name": "Python 3.10.5 64-bit",
   "language": "python",
   "name": "python3"
  },
  "language_info": {
   "codemirror_mode": {
    "name": "ipython",
    "version": 3
   },
   "file_extension": ".py",
   "mimetype": "text/x-python",
   "name": "python",
   "nbconvert_exporter": "python",
   "pygments_lexer": "ipython3",
   "version": "3.10.5"
  },
  "vscode": {
   "interpreter": {
    "hash": "9b4d75ac280b6c7c3aa43866cb82dc88915409b55fec83a093dd0284cb58708e"
   }
  }
 },
 "nbformat": 4,
 "nbformat_minor": 5
}
